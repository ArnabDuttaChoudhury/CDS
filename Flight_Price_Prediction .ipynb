{
 "cells": [
  {
   "cell_type": "markdown",
   "id": "8d40529e",
   "metadata": {
    "id": "8d40529e"
   },
   "source": [
    "#  <center> FLIGHT PRICE PREDICTION "
   ]
  },
  {
   "cell_type": "markdown",
   "id": "98ca90b1",
   "metadata": {
    "id": "98ca90b1"
   },
   "source": [
    "#### Everyone before travelling likes to know the cheapest way to complete the journey as comfortably as possible. This project aims to predict the flight price of 6 different airlines over 6 different places with respect to diffrent factors. In this project we are also going to build and train models based on the operating hours. A thororugh study of such a data is very helpful to analyse and deduce valuable insights which can be of enormous help to both the passengers and airlines. "
   ]
  },
  {
   "cell_type": "markdown",
   "id": "efa8a66a",
   "metadata": {
    "id": "efa8a66a"
   },
   "source": [
    "## DATASET: https://www.kaggle.com/datasets/shubhambathwal/flight-price-prediction"
   ]
  },
  {
   "cell_type": "markdown",
   "id": "12cd695f",
   "metadata": {
    "id": "12cd695f"
   },
   "source": [
    "#### The dataset contains 300153 instances and 11 columns of which 10 are features and 1 is the target variable.\n",
    "\n",
    "#### The various features of the dataset are explained below:\n",
    "1) Airline: The name of the airline company is stored in the airline column. It is a categorical feature having 6 different airlines.\n",
    "\n",
    "2) Flight: Flight stores information regarding the plane's flight code. It is a categorical feature.\n",
    "\n",
    "3) Source City: City from which the flight takes off. It is a categorical feature having 6 unique cities.\n",
    "\n",
    "4) Departure Time: This is a derived categorical feature obtained created by grouping time periods into bins. It stores information about the departure time and have 6 unique time labels.\n",
    "\n",
    "5) Stops: A categorical feature with 3 distinct values that stores the number of stops between the source and destination cities.\n",
    "\n",
    "6) Arrival Time: This is a derived categorical feature created by grouping time intervals into bins. It has six distinct time labels and keeps information about the arrival time.\n",
    "\n",
    "7) Destination City: City where the flight will land. It is a categorical feature having 6 unique cities.\n",
    "\n",
    "8) Class: A categorical feature that contains information on seat class; it has two distinct values: Business and Economy.\n",
    "\n",
    "9) Duration: A continuous feature that displays the overall amount of time it takes to travel between cities in hours.\n",
    "\n",
    "10) Days Left: This is a derived characteristic that is calculated by subtracting the trip date by the booking date.\n",
    "\n",
    "#### Target variable:\n",
    "1) Price: Target variable stores information of the ticket price."
   ]
  },
  {
   "cell_type": "markdown",
   "id": "9e11e1af",
   "metadata": {
    "id": "9e11e1af"
   },
   "source": [
    "## Importing necessary libraries"
   ]
  },
  {
   "cell_type": "code",
   "execution_count": 1,
   "id": "7d37cb47",
   "metadata": {
    "colab": {
     "base_uri": "https://localhost:8080/"
    },
    "id": "7d37cb47",
    "outputId": "50a9a0c1-6789-467e-c80b-31724aee99b6"
   },
   "outputs": [
    {
     "name": "stderr",
     "output_type": "stream",
     "text": [
      "/usr/local/lib/python3.7/dist-packages/statsmodels/tools/_testing.py:19: FutureWarning: pandas.util.testing is deprecated. Use the functions in the public API at pandas.testing instead.\n",
      "  import pandas.util.testing as tm\n"
     ]
    }
   ],
   "source": [
    "import numpy as np\n",
    "import pandas as pd\n",
    "import matplotlib.pyplot as plt\n",
    "import seaborn as sns \n",
    "from sklearn import preprocessing\n",
    "from sklearn import metrics\n",
    "from sklearn.model_selection import train_test_split\n",
    "from sklearn import linear_model, metrics\n",
    "from sklearn.metrics import mean_absolute_error\n",
    "from math import sqrt\n",
    "import tensorflow as tf\n",
    "from tensorflow.keras import Model\n",
    "from tensorflow.keras import Sequential\n",
    "from tensorflow.keras.optimizers import Adam,SGD,RMSprop,Adagrad\n",
    "from sklearn.preprocessing import StandardScaler\n",
    "from tensorflow.keras.layers import Dense, Dropout\n",
    "from sklearn.model_selection import train_test_split\n",
    "from tensorflow.keras.losses import MeanSquaredLogarithmicError\n",
    "from sklearn.linear_model import Ridge\n",
    "from sklearn.linear_model import Lasso\n",
    "from tensorflow.keras.losses import MeanSquaredError\n",
    "from sklearn.metrics import mean_squared_error as mse\n",
    "from sklearn.metrics import r2_score\n",
    "import statsmodels.api as sm\n",
    "import warnings\n",
    "warnings.filterwarnings('ignore')\n",
    "from sklearn.model_selection import GridSearchCV\n",
    "from sklearn.model_selection import RandomizedSearchCV"
   ]
  },
  {
   "cell_type": "markdown",
   "id": "651b0633",
   "metadata": {
    "id": "651b0633"
   },
   "source": [
    "## Reading the dataset"
   ]
  },
  {
   "cell_type": "code",
   "execution_count": 2,
   "id": "67a6de99",
   "metadata": {
    "colab": {
     "base_uri": "https://localhost:8080/",
     "height": 468
    },
    "id": "67a6de99",
    "outputId": "7d490f24-e0b8-4be5-c4db-85bfe941db4a"
   },
   "outputs": [
    {
     "data": {
      "text/html": [
       "\n",
       "  <div id=\"df-ebd28706-c975-40f7-b574-8615420c0aba\">\n",
       "    <div class=\"colab-df-container\">\n",
       "      <div>\n",
       "<style scoped>\n",
       "    .dataframe tbody tr th:only-of-type {\n",
       "        vertical-align: middle;\n",
       "    }\n",
       "\n",
       "    .dataframe tbody tr th {\n",
       "        vertical-align: top;\n",
       "    }\n",
       "\n",
       "    .dataframe thead th {\n",
       "        text-align: right;\n",
       "    }\n",
       "</style>\n",
       "<table border=\"1\" class=\"dataframe\">\n",
       "  <thead>\n",
       "    <tr style=\"text-align: right;\">\n",
       "      <th></th>\n",
       "      <th>Unnamed: 0</th>\n",
       "      <th>airline</th>\n",
       "      <th>flight</th>\n",
       "      <th>source_city</th>\n",
       "      <th>departure_time</th>\n",
       "      <th>stops</th>\n",
       "      <th>arrival_time</th>\n",
       "      <th>destination_city</th>\n",
       "      <th>class</th>\n",
       "      <th>duration</th>\n",
       "      <th>days_left</th>\n",
       "      <th>price</th>\n",
       "    </tr>\n",
       "  </thead>\n",
       "  <tbody>\n",
       "    <tr>\n",
       "      <th>0</th>\n",
       "      <td>0</td>\n",
       "      <td>SpiceJet</td>\n",
       "      <td>SG-8709</td>\n",
       "      <td>Delhi</td>\n",
       "      <td>Evening</td>\n",
       "      <td>zero</td>\n",
       "      <td>Night</td>\n",
       "      <td>Mumbai</td>\n",
       "      <td>Economy</td>\n",
       "      <td>2.17</td>\n",
       "      <td>1</td>\n",
       "      <td>5953</td>\n",
       "    </tr>\n",
       "    <tr>\n",
       "      <th>1</th>\n",
       "      <td>1</td>\n",
       "      <td>SpiceJet</td>\n",
       "      <td>SG-8157</td>\n",
       "      <td>Delhi</td>\n",
       "      <td>Early_Morning</td>\n",
       "      <td>zero</td>\n",
       "      <td>Morning</td>\n",
       "      <td>Mumbai</td>\n",
       "      <td>Economy</td>\n",
       "      <td>2.33</td>\n",
       "      <td>1</td>\n",
       "      <td>5953</td>\n",
       "    </tr>\n",
       "    <tr>\n",
       "      <th>2</th>\n",
       "      <td>2</td>\n",
       "      <td>AirAsia</td>\n",
       "      <td>I5-764</td>\n",
       "      <td>Delhi</td>\n",
       "      <td>Early_Morning</td>\n",
       "      <td>zero</td>\n",
       "      <td>Early_Morning</td>\n",
       "      <td>Mumbai</td>\n",
       "      <td>Economy</td>\n",
       "      <td>2.17</td>\n",
       "      <td>1</td>\n",
       "      <td>5956</td>\n",
       "    </tr>\n",
       "    <tr>\n",
       "      <th>3</th>\n",
       "      <td>3</td>\n",
       "      <td>Vistara</td>\n",
       "      <td>UK-995</td>\n",
       "      <td>Delhi</td>\n",
       "      <td>Morning</td>\n",
       "      <td>zero</td>\n",
       "      <td>Afternoon</td>\n",
       "      <td>Mumbai</td>\n",
       "      <td>Economy</td>\n",
       "      <td>2.25</td>\n",
       "      <td>1</td>\n",
       "      <td>5955</td>\n",
       "    </tr>\n",
       "    <tr>\n",
       "      <th>4</th>\n",
       "      <td>4</td>\n",
       "      <td>Vistara</td>\n",
       "      <td>UK-963</td>\n",
       "      <td>Delhi</td>\n",
       "      <td>Morning</td>\n",
       "      <td>zero</td>\n",
       "      <td>Morning</td>\n",
       "      <td>Mumbai</td>\n",
       "      <td>Economy</td>\n",
       "      <td>2.33</td>\n",
       "      <td>1</td>\n",
       "      <td>5955</td>\n",
       "    </tr>\n",
       "    <tr>\n",
       "      <th>...</th>\n",
       "      <td>...</td>\n",
       "      <td>...</td>\n",
       "      <td>...</td>\n",
       "      <td>...</td>\n",
       "      <td>...</td>\n",
       "      <td>...</td>\n",
       "      <td>...</td>\n",
       "      <td>...</td>\n",
       "      <td>...</td>\n",
       "      <td>...</td>\n",
       "      <td>...</td>\n",
       "      <td>...</td>\n",
       "    </tr>\n",
       "    <tr>\n",
       "      <th>300148</th>\n",
       "      <td>300148</td>\n",
       "      <td>Vistara</td>\n",
       "      <td>UK-822</td>\n",
       "      <td>Chennai</td>\n",
       "      <td>Morning</td>\n",
       "      <td>one</td>\n",
       "      <td>Evening</td>\n",
       "      <td>Hyderabad</td>\n",
       "      <td>Business</td>\n",
       "      <td>10.08</td>\n",
       "      <td>49</td>\n",
       "      <td>69265</td>\n",
       "    </tr>\n",
       "    <tr>\n",
       "      <th>300149</th>\n",
       "      <td>300149</td>\n",
       "      <td>Vistara</td>\n",
       "      <td>UK-826</td>\n",
       "      <td>Chennai</td>\n",
       "      <td>Afternoon</td>\n",
       "      <td>one</td>\n",
       "      <td>Night</td>\n",
       "      <td>Hyderabad</td>\n",
       "      <td>Business</td>\n",
       "      <td>10.42</td>\n",
       "      <td>49</td>\n",
       "      <td>77105</td>\n",
       "    </tr>\n",
       "    <tr>\n",
       "      <th>300150</th>\n",
       "      <td>300150</td>\n",
       "      <td>Vistara</td>\n",
       "      <td>UK-832</td>\n",
       "      <td>Chennai</td>\n",
       "      <td>Early_Morning</td>\n",
       "      <td>one</td>\n",
       "      <td>Night</td>\n",
       "      <td>Hyderabad</td>\n",
       "      <td>Business</td>\n",
       "      <td>13.83</td>\n",
       "      <td>49</td>\n",
       "      <td>79099</td>\n",
       "    </tr>\n",
       "    <tr>\n",
       "      <th>300151</th>\n",
       "      <td>300151</td>\n",
       "      <td>Vistara</td>\n",
       "      <td>UK-828</td>\n",
       "      <td>Chennai</td>\n",
       "      <td>Early_Morning</td>\n",
       "      <td>one</td>\n",
       "      <td>Evening</td>\n",
       "      <td>Hyderabad</td>\n",
       "      <td>Business</td>\n",
       "      <td>10.00</td>\n",
       "      <td>49</td>\n",
       "      <td>81585</td>\n",
       "    </tr>\n",
       "    <tr>\n",
       "      <th>300152</th>\n",
       "      <td>300152</td>\n",
       "      <td>Vistara</td>\n",
       "      <td>UK-822</td>\n",
       "      <td>Chennai</td>\n",
       "      <td>Morning</td>\n",
       "      <td>one</td>\n",
       "      <td>Evening</td>\n",
       "      <td>Hyderabad</td>\n",
       "      <td>Business</td>\n",
       "      <td>10.08</td>\n",
       "      <td>49</td>\n",
       "      <td>81585</td>\n",
       "    </tr>\n",
       "  </tbody>\n",
       "</table>\n",
       "<p>300153 rows × 12 columns</p>\n",
       "</div>\n",
       "      <button class=\"colab-df-convert\" onclick=\"convertToInteractive('df-ebd28706-c975-40f7-b574-8615420c0aba')\"\n",
       "              title=\"Convert this dataframe to an interactive table.\"\n",
       "              style=\"display:none;\">\n",
       "        \n",
       "  <svg xmlns=\"http://www.w3.org/2000/svg\" height=\"24px\"viewBox=\"0 0 24 24\"\n",
       "       width=\"24px\">\n",
       "    <path d=\"M0 0h24v24H0V0z\" fill=\"none\"/>\n",
       "    <path d=\"M18.56 5.44l.94 2.06.94-2.06 2.06-.94-2.06-.94-.94-2.06-.94 2.06-2.06.94zm-11 1L8.5 8.5l.94-2.06 2.06-.94-2.06-.94L8.5 2.5l-.94 2.06-2.06.94zm10 10l.94 2.06.94-2.06 2.06-.94-2.06-.94-.94-2.06-.94 2.06-2.06.94z\"/><path d=\"M17.41 7.96l-1.37-1.37c-.4-.4-.92-.59-1.43-.59-.52 0-1.04.2-1.43.59L10.3 9.45l-7.72 7.72c-.78.78-.78 2.05 0 2.83L4 21.41c.39.39.9.59 1.41.59.51 0 1.02-.2 1.41-.59l7.78-7.78 2.81-2.81c.8-.78.8-2.07 0-2.86zM5.41 20L4 18.59l7.72-7.72 1.47 1.35L5.41 20z\"/>\n",
       "  </svg>\n",
       "      </button>\n",
       "      \n",
       "  <style>\n",
       "    .colab-df-container {\n",
       "      display:flex;\n",
       "      flex-wrap:wrap;\n",
       "      gap: 12px;\n",
       "    }\n",
       "\n",
       "    .colab-df-convert {\n",
       "      background-color: #E8F0FE;\n",
       "      border: none;\n",
       "      border-radius: 50%;\n",
       "      cursor: pointer;\n",
       "      display: none;\n",
       "      fill: #1967D2;\n",
       "      height: 32px;\n",
       "      padding: 0 0 0 0;\n",
       "      width: 32px;\n",
       "    }\n",
       "\n",
       "    .colab-df-convert:hover {\n",
       "      background-color: #E2EBFA;\n",
       "      box-shadow: 0px 1px 2px rgba(60, 64, 67, 0.3), 0px 1px 3px 1px rgba(60, 64, 67, 0.15);\n",
       "      fill: #174EA6;\n",
       "    }\n",
       "\n",
       "    [theme=dark] .colab-df-convert {\n",
       "      background-color: #3B4455;\n",
       "      fill: #D2E3FC;\n",
       "    }\n",
       "\n",
       "    [theme=dark] .colab-df-convert:hover {\n",
       "      background-color: #434B5C;\n",
       "      box-shadow: 0px 1px 3px 1px rgba(0, 0, 0, 0.15);\n",
       "      filter: drop-shadow(0px 1px 2px rgba(0, 0, 0, 0.3));\n",
       "      fill: #FFFFFF;\n",
       "    }\n",
       "  </style>\n",
       "\n",
       "      <script>\n",
       "        const buttonEl =\n",
       "          document.querySelector('#df-ebd28706-c975-40f7-b574-8615420c0aba button.colab-df-convert');\n",
       "        buttonEl.style.display =\n",
       "          google.colab.kernel.accessAllowed ? 'block' : 'none';\n",
       "\n",
       "        async function convertToInteractive(key) {\n",
       "          const element = document.querySelector('#df-ebd28706-c975-40f7-b574-8615420c0aba');\n",
       "          const dataTable =\n",
       "            await google.colab.kernel.invokeFunction('convertToInteractive',\n",
       "                                                     [key], {});\n",
       "          if (!dataTable) return;\n",
       "\n",
       "          const docLinkHtml = 'Like what you see? Visit the ' +\n",
       "            '<a target=\"_blank\" href=https://colab.research.google.com/notebooks/data_table.ipynb>data table notebook</a>'\n",
       "            + ' to learn more about interactive tables.';\n",
       "          element.innerHTML = '';\n",
       "          dataTable['output_type'] = 'display_data';\n",
       "          await google.colab.output.renderOutput(dataTable, element);\n",
       "          const docLink = document.createElement('div');\n",
       "          docLink.innerHTML = docLinkHtml;\n",
       "          element.appendChild(docLink);\n",
       "        }\n",
       "      </script>\n",
       "    </div>\n",
       "  </div>\n",
       "  "
      ],
      "text/plain": [
       "        Unnamed: 0   airline   flight source_city departure_time stops  \\\n",
       "0                0  SpiceJet  SG-8709       Delhi        Evening  zero   \n",
       "1                1  SpiceJet  SG-8157       Delhi  Early_Morning  zero   \n",
       "2                2   AirAsia   I5-764       Delhi  Early_Morning  zero   \n",
       "3                3   Vistara   UK-995       Delhi        Morning  zero   \n",
       "4                4   Vistara   UK-963       Delhi        Morning  zero   \n",
       "...            ...       ...      ...         ...            ...   ...   \n",
       "300148      300148   Vistara   UK-822     Chennai        Morning   one   \n",
       "300149      300149   Vistara   UK-826     Chennai      Afternoon   one   \n",
       "300150      300150   Vistara   UK-832     Chennai  Early_Morning   one   \n",
       "300151      300151   Vistara   UK-828     Chennai  Early_Morning   one   \n",
       "300152      300152   Vistara   UK-822     Chennai        Morning   one   \n",
       "\n",
       "         arrival_time destination_city     class  duration  days_left  price  \n",
       "0               Night           Mumbai   Economy      2.17          1   5953  \n",
       "1             Morning           Mumbai   Economy      2.33          1   5953  \n",
       "2       Early_Morning           Mumbai   Economy      2.17          1   5956  \n",
       "3           Afternoon           Mumbai   Economy      2.25          1   5955  \n",
       "4             Morning           Mumbai   Economy      2.33          1   5955  \n",
       "...               ...              ...       ...       ...        ...    ...  \n",
       "300148        Evening        Hyderabad  Business     10.08         49  69265  \n",
       "300149          Night        Hyderabad  Business     10.42         49  77105  \n",
       "300150          Night        Hyderabad  Business     13.83         49  79099  \n",
       "300151        Evening        Hyderabad  Business     10.00         49  81585  \n",
       "300152        Evening        Hyderabad  Business     10.08         49  81585  \n",
       "\n",
       "[300153 rows x 12 columns]"
      ]
     },
     "execution_count": 2,
     "metadata": {},
     "output_type": "execute_result"
    }
   ],
   "source": [
    "df1 = pd.read_csv(\"Clean_Dataset.csv\");df1"
   ]
  },
  {
   "cell_type": "markdown",
   "id": "282f6baf",
   "metadata": {
    "id": "282f6baf"
   },
   "source": [
    "## Checking data type of every column\n"
   ]
  },
  {
   "cell_type": "code",
   "execution_count": 3,
   "id": "4276a9b1",
   "metadata": {
    "colab": {
     "base_uri": "https://localhost:8080/"
    },
    "id": "4276a9b1",
    "outputId": "69aac4d7-90b4-4fd1-e68b-4e35f26df638",
    "scrolled": true
   },
   "outputs": [
    {
     "name": "stdout",
     "output_type": "stream",
     "text": [
      "<class 'pandas.core.frame.DataFrame'>\n",
      "RangeIndex: 300153 entries, 0 to 300152\n",
      "Data columns (total 12 columns):\n",
      " #   Column            Non-Null Count   Dtype  \n",
      "---  ------            --------------   -----  \n",
      " 0   Unnamed: 0        300153 non-null  int64  \n",
      " 1   airline           300153 non-null  object \n",
      " 2   flight            300153 non-null  object \n",
      " 3   source_city       300153 non-null  object \n",
      " 4   departure_time    300153 non-null  object \n",
      " 5   stops             300153 non-null  object \n",
      " 6   arrival_time      300153 non-null  object \n",
      " 7   destination_city  300153 non-null  object \n",
      " 8   class             300153 non-null  object \n",
      " 9   duration          300153 non-null  float64\n",
      " 10  days_left         300153 non-null  int64  \n",
      " 11  price             300153 non-null  int64  \n",
      "dtypes: float64(1), int64(3), object(8)\n",
      "memory usage: 27.5+ MB\n"
     ]
    }
   ],
   "source": [
    "df1.info()"
   ]
  },
  {
   "cell_type": "code",
   "execution_count": 4,
   "id": "6c6b4a80",
   "metadata": {
    "colab": {
     "base_uri": "https://localhost:8080/"
    },
    "id": "6c6b4a80",
    "outputId": "c300638f-0588-46e7-cdf5-1357e78171c8"
   },
   "outputs": [
    {
     "data": {
      "text/plain": [
       "Unnamed: 0          0\n",
       "airline             0\n",
       "flight              0\n",
       "source_city         0\n",
       "departure_time      0\n",
       "stops               0\n",
       "arrival_time        0\n",
       "destination_city    0\n",
       "class               0\n",
       "duration            0\n",
       "days_left           0\n",
       "price               0\n",
       "dtype: int64"
      ]
     },
     "execution_count": 4,
     "metadata": {},
     "output_type": "execute_result"
    }
   ],
   "source": [
    "df1.isnull().sum()"
   ]
  },
  {
   "cell_type": "markdown",
   "id": "e5933b07",
   "metadata": {
    "id": "e5933b07"
   },
   "source": [
    "# DATA PREPROCESSING"
   ]
  },
  {
   "cell_type": "markdown",
   "id": "76a1efc1",
   "metadata": {
    "id": "76a1efc1"
   },
   "source": [
    "## Renaming 'class' as 'CLASS'"
   ]
  },
  {
   "cell_type": "code",
   "execution_count": 5,
   "id": "919b5d37",
   "metadata": {
    "id": "919b5d37"
   },
   "outputs": [],
   "source": [
    "df1.rename(columns = {'class':'CLASS'}, inplace = True)"
   ]
  },
  {
   "cell_type": "markdown",
   "id": "30731dbf",
   "metadata": {
    "id": "30731dbf"
   },
   "source": [
    "## Checking number of unique values for every column"
   ]
  },
  {
   "cell_type": "code",
   "execution_count": 6,
   "id": "6e9f7bde",
   "metadata": {
    "colab": {
     "base_uri": "https://localhost:8080/"
    },
    "id": "6e9f7bde",
    "outputId": "290e9436-a7a7-4a2c-f556-3d75b375aaa0"
   },
   "outputs": [
    {
     "data": {
      "text/plain": [
       "Unnamed: 0          300153\n",
       "airline                  6\n",
       "flight                1561\n",
       "source_city              6\n",
       "departure_time           6\n",
       "stops                    3\n",
       "arrival_time             6\n",
       "destination_city         6\n",
       "CLASS                    2\n",
       "duration               476\n",
       "days_left               49\n",
       "price                12157\n",
       "dtype: int64"
      ]
     },
     "execution_count": 6,
     "metadata": {},
     "output_type": "execute_result"
    }
   ],
   "source": [
    "df1.nunique()"
   ]
  },
  {
   "cell_type": "markdown",
   "id": "0439bf96",
   "metadata": {
    "id": "0439bf96"
   },
   "source": [
    "## Clubing arrival and departure time into operating hours \n"
   ]
  },
  {
   "cell_type": "code",
   "execution_count": 7,
   "id": "386cc29e",
   "metadata": {
    "colab": {
     "base_uri": "https://localhost:8080/"
    },
    "id": "386cc29e",
    "outputId": "d493eb80-62ba-4853-f44d-295d67f96904"
   },
   "outputs": [
    {
     "data": {
      "text/plain": [
       "array(['Evening', 'Early_Morning', 'Morning', 'Afternoon', 'Night',\n",
       "       'Late_Night'], dtype=object)"
      ]
     },
     "execution_count": 7,
     "metadata": {},
     "output_type": "execute_result"
    }
   ],
   "source": [
    "df1.departure_time.unique()"
   ]
  },
  {
   "cell_type": "code",
   "execution_count": 8,
   "id": "e322e246",
   "metadata": {
    "colab": {
     "base_uri": "https://localhost:8080/"
    },
    "id": "e322e246",
    "outputId": "712c2d8e-5215-4e60-86c1-00df0a167f2f"
   },
   "outputs": [
    {
     "data": {
      "text/plain": [
       "array(['Night', 'Morning', 'Early_Morning', 'Afternoon', 'Evening',\n",
       "       'Late_Night'], dtype=object)"
      ]
     },
     "execution_count": 8,
     "metadata": {},
     "output_type": "execute_result"
    }
   ],
   "source": [
    "df1.arrival_time.unique()"
   ]
  },
  {
   "cell_type": "code",
   "execution_count": 9,
   "id": "2b82abb3",
   "metadata": {
    "id": "2b82abb3"
   },
   "outputs": [],
   "source": [
    "operating_time = []\n",
    "for i in range(300153):\n",
    "    if(df1.departure_time[i] == 'Early_Morning' and df1.arrival_time[i] == 'Early_Morning'):\n",
    "        operating_time.append('Peak_hours')\n",
    "    elif(df1.departure_time[i] == 'Early_Morning' and df1.arrival_time[i] == 'Morning'):\n",
    "        operating_time.append('Peak_hours')    \n",
    "    elif(df1.departure_time[i] == 'Early_Morning' and df1.arrival_time[i] == 'Afternoon'):\n",
    "        operating_time.append('Peak_hours')\n",
    "    elif(df1.departure_time[i] == 'Early_Morning' and df1.arrival_time[i] == 'Evening'):\n",
    "        operating_time.append('Peak_hours')\n",
    "    elif(df1.departure_time[i] == 'Early_Morning' and df1.arrival_time[i] == 'Night'):\n",
    "        operating_time.append('Peak_hours')\n",
    "    elif(df1.departure_time[i] == 'Early_Morning' and df1.arrival_time[i] == 'Late_Night'):\n",
    "        operating_time.append('Non-Peak_hours')\n",
    "   \n",
    "        \n",
    "    elif(df1.departure_time[i] == 'Morning' and df1.arrival_time[i] == 'Early_Morning'):\n",
    "        operating_time.append('Non-Peak_hours')\n",
    "    elif(df1.departure_time[i] == 'Morning' and df1.arrival_time[i] == 'Morning'):\n",
    "        operating_time.append('Peak_hours')    \n",
    "    elif(df1.departure_time[i] == 'Morning' and df1.arrival_time[i] == 'Afternoon'):\n",
    "        operating_time.append('Peak_hours')\n",
    "    elif(df1.departure_time[i] == 'Morning' and df1.arrival_time[i] == 'Evening'):\n",
    "        operating_time.append('Peak_hours')\n",
    "    elif(df1.departure_time[i] == 'Morning' and df1.arrival_time[i] == 'Night'):\n",
    "        operating_time.append('Peak_hours')\n",
    "    elif(df1.departure_time[i] == 'Morning' and df1.arrival_time[i] == 'Late_Night'):\n",
    "        operating_time.append('Non-Peak_hours')\n",
    "        \n",
    "        \n",
    "    elif(df1.departure_time[i] == 'Afternoon' and df1.arrival_time[i] == 'Early_Morning'):\n",
    "        operating_time.append('Non-Peak_hours')\n",
    "    elif(df1.departure_time[i] == 'Afternoon' and df1.arrival_time[i] == 'Morning'):\n",
    "        operating_time.append('Non-Peak_hours')    \n",
    "    elif(df1.departure_time[i] == 'Afternoon' and df1.arrival_time[i] == 'Afternoon'):\n",
    "        operating_time.append('Peak_hours')\n",
    "    elif(df1.departure_time[i] == 'Afternoon' and df1.arrival_time[i] == 'Evening'):\n",
    "        operating_time.append('Peak_hours')\n",
    "    elif(df1.departure_time[i] == 'Afternoon' and df1.arrival_time[i] == 'Night'):\n",
    "        operating_time.append('Peak_hours')\n",
    "    elif(df1.departure_time[i] == 'Afternoon' and df1.arrival_time[i] == 'Late_Night'):\n",
    "        operating_time.append('Non-Peak_hours')\n",
    "        \n",
    "        \n",
    "    elif(df1.departure_time[i] == 'Evening' and df1.arrival_time[i] == 'Early_Morning'):\n",
    "        operating_time.append('Non-Peak_hours')\n",
    "    elif(df1.departure_time[i] == 'Evening' and df1.arrival_time[i] == 'Morning'):\n",
    "        operating_time.append('Peak_hours')    \n",
    "    elif(df1.departure_time[i] == 'Evening' and df1.arrival_time[i] == 'Afternoon'):\n",
    "        operating_time.append('Peak_hours')\n",
    "    elif(df1.departure_time[i] == 'Evening' and df1.arrival_time[i] == 'Evening'):\n",
    "        operating_time.append('Peak_hours')\n",
    "    elif(df1.departure_time[i] == 'Evening' and df1.arrival_time[i] == 'Night'):\n",
    "        operating_time.append('Peak_hours')\n",
    "    elif(df1.departure_time[i] == 'Evening' and df1.arrival_time[i] == 'Late_Night'):\n",
    "        operating_time.append('Non-Peak_hours')\n",
    "        \n",
    "        \n",
    "    elif(df1.departure_time[i] == 'Night' and df1.arrival_time[i] == 'Early_Morning'):\n",
    "        operating_time.append('Non-Peak_hours')\n",
    "    elif(df1.departure_time[i] == 'Night' and df1.arrival_time[i] == 'Morning'):\n",
    "        operating_time.append('Peak_hours')    \n",
    "    elif(df1.departure_time[i] == 'Night' and df1.arrival_time[i] == 'Afternoon'):\n",
    "        operating_time.append('Peak_hours')\n",
    "    elif(df1.departure_time[i] == 'Night' and df1.arrival_time[i] == 'Evening'):\n",
    "        operating_time.append('Peak_hours')\n",
    "    elif(df1.departure_time[i] == 'Night' and df1.arrival_time[i] == 'Night'):\n",
    "        operating_time.append('Non-Peak_hours')\n",
    "    elif(df1.departure_time[i] == 'Night' and df1.arrival_time[i] == 'Late_Night'):\n",
    "        operating_time.append('Non-Peak_hours')\n",
    "        \n",
    "        \n",
    "    elif(df1.departure_time[i] == 'Late_Night' and df1.arrival_time[i] == 'Early_Morning'):\n",
    "        operating_time.append('Non-Peak_hours')\n",
    "    elif(df1.departure_time[i] == 'Late_Night' and df1.arrival_time[i] == 'Morning'):\n",
    "        operating_time.append('Non-Peak_hours')    \n",
    "    elif(df1.departure_time[i] == 'Late_Night' and df1.arrival_time[i] == 'Afternoon'):\n",
    "        operating_time.append('Non-Peak_hours')\n",
    "    elif(df1.departure_time[i] == 'Late_Night' and df1.arrival_time[i] == 'Evening'):\n",
    "        operating_time.append('Non-Peak_hours')\n",
    "    elif(df1.departure_time[i] == 'Late_Night' and df1.arrival_time[i] == 'Night'):\n",
    "        operating_time.append('Non-Peak_hours')\n",
    "    elif(df1.departure_time[i] == 'Late_Night' and df1.arrival_time[i] == 'Late_Night'):\n",
    "        operating_time.append('Non-Peak_hours') "
   ]
  },
  {
   "cell_type": "code",
   "execution_count": 10,
   "id": "aded6270",
   "metadata": {
    "id": "aded6270"
   },
   "outputs": [],
   "source": [
    "df1['operating_time'] = operating_time"
   ]
  },
  {
   "cell_type": "code",
   "execution_count": 11,
   "id": "1f9a1b74",
   "metadata": {
    "colab": {
     "base_uri": "https://localhost:8080/",
     "height": 661
    },
    "id": "1f9a1b74",
    "outputId": "0924a694-2ca6-48a2-ef1c-79e173b74550"
   },
   "outputs": [
    {
     "data": {
      "text/html": [
       "\n",
       "  <div id=\"df-b2657a4e-9f2d-4bc4-95c2-7b416e0014f3\">\n",
       "    <div class=\"colab-df-container\">\n",
       "      <div>\n",
       "<style scoped>\n",
       "    .dataframe tbody tr th:only-of-type {\n",
       "        vertical-align: middle;\n",
       "    }\n",
       "\n",
       "    .dataframe tbody tr th {\n",
       "        vertical-align: top;\n",
       "    }\n",
       "\n",
       "    .dataframe thead th {\n",
       "        text-align: right;\n",
       "    }\n",
       "</style>\n",
       "<table border=\"1\" class=\"dataframe\">\n",
       "  <thead>\n",
       "    <tr style=\"text-align: right;\">\n",
       "      <th></th>\n",
       "      <th>Unnamed: 0</th>\n",
       "      <th>airline</th>\n",
       "      <th>flight</th>\n",
       "      <th>source_city</th>\n",
       "      <th>departure_time</th>\n",
       "      <th>stops</th>\n",
       "      <th>arrival_time</th>\n",
       "      <th>destination_city</th>\n",
       "      <th>CLASS</th>\n",
       "      <th>duration</th>\n",
       "      <th>days_left</th>\n",
       "      <th>price</th>\n",
       "      <th>operating_time</th>\n",
       "    </tr>\n",
       "  </thead>\n",
       "  <tbody>\n",
       "    <tr>\n",
       "      <th>0</th>\n",
       "      <td>0</td>\n",
       "      <td>SpiceJet</td>\n",
       "      <td>SG-8709</td>\n",
       "      <td>Delhi</td>\n",
       "      <td>Evening</td>\n",
       "      <td>zero</td>\n",
       "      <td>Night</td>\n",
       "      <td>Mumbai</td>\n",
       "      <td>Economy</td>\n",
       "      <td>2.17</td>\n",
       "      <td>1</td>\n",
       "      <td>5953</td>\n",
       "      <td>Peak_hours</td>\n",
       "    </tr>\n",
       "    <tr>\n",
       "      <th>1</th>\n",
       "      <td>1</td>\n",
       "      <td>SpiceJet</td>\n",
       "      <td>SG-8157</td>\n",
       "      <td>Delhi</td>\n",
       "      <td>Early_Morning</td>\n",
       "      <td>zero</td>\n",
       "      <td>Morning</td>\n",
       "      <td>Mumbai</td>\n",
       "      <td>Economy</td>\n",
       "      <td>2.33</td>\n",
       "      <td>1</td>\n",
       "      <td>5953</td>\n",
       "      <td>Peak_hours</td>\n",
       "    </tr>\n",
       "    <tr>\n",
       "      <th>2</th>\n",
       "      <td>2</td>\n",
       "      <td>AirAsia</td>\n",
       "      <td>I5-764</td>\n",
       "      <td>Delhi</td>\n",
       "      <td>Early_Morning</td>\n",
       "      <td>zero</td>\n",
       "      <td>Early_Morning</td>\n",
       "      <td>Mumbai</td>\n",
       "      <td>Economy</td>\n",
       "      <td>2.17</td>\n",
       "      <td>1</td>\n",
       "      <td>5956</td>\n",
       "      <td>Peak_hours</td>\n",
       "    </tr>\n",
       "    <tr>\n",
       "      <th>3</th>\n",
       "      <td>3</td>\n",
       "      <td>Vistara</td>\n",
       "      <td>UK-995</td>\n",
       "      <td>Delhi</td>\n",
       "      <td>Morning</td>\n",
       "      <td>zero</td>\n",
       "      <td>Afternoon</td>\n",
       "      <td>Mumbai</td>\n",
       "      <td>Economy</td>\n",
       "      <td>2.25</td>\n",
       "      <td>1</td>\n",
       "      <td>5955</td>\n",
       "      <td>Peak_hours</td>\n",
       "    </tr>\n",
       "    <tr>\n",
       "      <th>4</th>\n",
       "      <td>4</td>\n",
       "      <td>Vistara</td>\n",
       "      <td>UK-963</td>\n",
       "      <td>Delhi</td>\n",
       "      <td>Morning</td>\n",
       "      <td>zero</td>\n",
       "      <td>Morning</td>\n",
       "      <td>Mumbai</td>\n",
       "      <td>Economy</td>\n",
       "      <td>2.33</td>\n",
       "      <td>1</td>\n",
       "      <td>5955</td>\n",
       "      <td>Peak_hours</td>\n",
       "    </tr>\n",
       "    <tr>\n",
       "      <th>...</th>\n",
       "      <td>...</td>\n",
       "      <td>...</td>\n",
       "      <td>...</td>\n",
       "      <td>...</td>\n",
       "      <td>...</td>\n",
       "      <td>...</td>\n",
       "      <td>...</td>\n",
       "      <td>...</td>\n",
       "      <td>...</td>\n",
       "      <td>...</td>\n",
       "      <td>...</td>\n",
       "      <td>...</td>\n",
       "      <td>...</td>\n",
       "    </tr>\n",
       "    <tr>\n",
       "      <th>300148</th>\n",
       "      <td>300148</td>\n",
       "      <td>Vistara</td>\n",
       "      <td>UK-822</td>\n",
       "      <td>Chennai</td>\n",
       "      <td>Morning</td>\n",
       "      <td>one</td>\n",
       "      <td>Evening</td>\n",
       "      <td>Hyderabad</td>\n",
       "      <td>Business</td>\n",
       "      <td>10.08</td>\n",
       "      <td>49</td>\n",
       "      <td>69265</td>\n",
       "      <td>Peak_hours</td>\n",
       "    </tr>\n",
       "    <tr>\n",
       "      <th>300149</th>\n",
       "      <td>300149</td>\n",
       "      <td>Vistara</td>\n",
       "      <td>UK-826</td>\n",
       "      <td>Chennai</td>\n",
       "      <td>Afternoon</td>\n",
       "      <td>one</td>\n",
       "      <td>Night</td>\n",
       "      <td>Hyderabad</td>\n",
       "      <td>Business</td>\n",
       "      <td>10.42</td>\n",
       "      <td>49</td>\n",
       "      <td>77105</td>\n",
       "      <td>Peak_hours</td>\n",
       "    </tr>\n",
       "    <tr>\n",
       "      <th>300150</th>\n",
       "      <td>300150</td>\n",
       "      <td>Vistara</td>\n",
       "      <td>UK-832</td>\n",
       "      <td>Chennai</td>\n",
       "      <td>Early_Morning</td>\n",
       "      <td>one</td>\n",
       "      <td>Night</td>\n",
       "      <td>Hyderabad</td>\n",
       "      <td>Business</td>\n",
       "      <td>13.83</td>\n",
       "      <td>49</td>\n",
       "      <td>79099</td>\n",
       "      <td>Peak_hours</td>\n",
       "    </tr>\n",
       "    <tr>\n",
       "      <th>300151</th>\n",
       "      <td>300151</td>\n",
       "      <td>Vistara</td>\n",
       "      <td>UK-828</td>\n",
       "      <td>Chennai</td>\n",
       "      <td>Early_Morning</td>\n",
       "      <td>one</td>\n",
       "      <td>Evening</td>\n",
       "      <td>Hyderabad</td>\n",
       "      <td>Business</td>\n",
       "      <td>10.00</td>\n",
       "      <td>49</td>\n",
       "      <td>81585</td>\n",
       "      <td>Peak_hours</td>\n",
       "    </tr>\n",
       "    <tr>\n",
       "      <th>300152</th>\n",
       "      <td>300152</td>\n",
       "      <td>Vistara</td>\n",
       "      <td>UK-822</td>\n",
       "      <td>Chennai</td>\n",
       "      <td>Morning</td>\n",
       "      <td>one</td>\n",
       "      <td>Evening</td>\n",
       "      <td>Hyderabad</td>\n",
       "      <td>Business</td>\n",
       "      <td>10.08</td>\n",
       "      <td>49</td>\n",
       "      <td>81585</td>\n",
       "      <td>Peak_hours</td>\n",
       "    </tr>\n",
       "  </tbody>\n",
       "</table>\n",
       "<p>300153 rows × 13 columns</p>\n",
       "</div>\n",
       "      <button class=\"colab-df-convert\" onclick=\"convertToInteractive('df-b2657a4e-9f2d-4bc4-95c2-7b416e0014f3')\"\n",
       "              title=\"Convert this dataframe to an interactive table.\"\n",
       "              style=\"display:none;\">\n",
       "        \n",
       "  <svg xmlns=\"http://www.w3.org/2000/svg\" height=\"24px\"viewBox=\"0 0 24 24\"\n",
       "       width=\"24px\">\n",
       "    <path d=\"M0 0h24v24H0V0z\" fill=\"none\"/>\n",
       "    <path d=\"M18.56 5.44l.94 2.06.94-2.06 2.06-.94-2.06-.94-.94-2.06-.94 2.06-2.06.94zm-11 1L8.5 8.5l.94-2.06 2.06-.94-2.06-.94L8.5 2.5l-.94 2.06-2.06.94zm10 10l.94 2.06.94-2.06 2.06-.94-2.06-.94-.94-2.06-.94 2.06-2.06.94z\"/><path d=\"M17.41 7.96l-1.37-1.37c-.4-.4-.92-.59-1.43-.59-.52 0-1.04.2-1.43.59L10.3 9.45l-7.72 7.72c-.78.78-.78 2.05 0 2.83L4 21.41c.39.39.9.59 1.41.59.51 0 1.02-.2 1.41-.59l7.78-7.78 2.81-2.81c.8-.78.8-2.07 0-2.86zM5.41 20L4 18.59l7.72-7.72 1.47 1.35L5.41 20z\"/>\n",
       "  </svg>\n",
       "      </button>\n",
       "      \n",
       "  <style>\n",
       "    .colab-df-container {\n",
       "      display:flex;\n",
       "      flex-wrap:wrap;\n",
       "      gap: 12px;\n",
       "    }\n",
       "\n",
       "    .colab-df-convert {\n",
       "      background-color: #E8F0FE;\n",
       "      border: none;\n",
       "      border-radius: 50%;\n",
       "      cursor: pointer;\n",
       "      display: none;\n",
       "      fill: #1967D2;\n",
       "      height: 32px;\n",
       "      padding: 0 0 0 0;\n",
       "      width: 32px;\n",
       "    }\n",
       "\n",
       "    .colab-df-convert:hover {\n",
       "      background-color: #E2EBFA;\n",
       "      box-shadow: 0px 1px 2px rgba(60, 64, 67, 0.3), 0px 1px 3px 1px rgba(60, 64, 67, 0.15);\n",
       "      fill: #174EA6;\n",
       "    }\n",
       "\n",
       "    [theme=dark] .colab-df-convert {\n",
       "      background-color: #3B4455;\n",
       "      fill: #D2E3FC;\n",
       "    }\n",
       "\n",
       "    [theme=dark] .colab-df-convert:hover {\n",
       "      background-color: #434B5C;\n",
       "      box-shadow: 0px 1px 3px 1px rgba(0, 0, 0, 0.15);\n",
       "      filter: drop-shadow(0px 1px 2px rgba(0, 0, 0, 0.3));\n",
       "      fill: #FFFFFF;\n",
       "    }\n",
       "  </style>\n",
       "\n",
       "      <script>\n",
       "        const buttonEl =\n",
       "          document.querySelector('#df-b2657a4e-9f2d-4bc4-95c2-7b416e0014f3 button.colab-df-convert');\n",
       "        buttonEl.style.display =\n",
       "          google.colab.kernel.accessAllowed ? 'block' : 'none';\n",
       "\n",
       "        async function convertToInteractive(key) {\n",
       "          const element = document.querySelector('#df-b2657a4e-9f2d-4bc4-95c2-7b416e0014f3');\n",
       "          const dataTable =\n",
       "            await google.colab.kernel.invokeFunction('convertToInteractive',\n",
       "                                                     [key], {});\n",
       "          if (!dataTable) return;\n",
       "\n",
       "          const docLinkHtml = 'Like what you see? Visit the ' +\n",
       "            '<a target=\"_blank\" href=https://colab.research.google.com/notebooks/data_table.ipynb>data table notebook</a>'\n",
       "            + ' to learn more about interactive tables.';\n",
       "          element.innerHTML = '';\n",
       "          dataTable['output_type'] = 'display_data';\n",
       "          await google.colab.output.renderOutput(dataTable, element);\n",
       "          const docLink = document.createElement('div');\n",
       "          docLink.innerHTML = docLinkHtml;\n",
       "          element.appendChild(docLink);\n",
       "        }\n",
       "      </script>\n",
       "    </div>\n",
       "  </div>\n",
       "  "
      ],
      "text/plain": [
       "        Unnamed: 0   airline   flight source_city departure_time stops  \\\n",
       "0                0  SpiceJet  SG-8709       Delhi        Evening  zero   \n",
       "1                1  SpiceJet  SG-8157       Delhi  Early_Morning  zero   \n",
       "2                2   AirAsia   I5-764       Delhi  Early_Morning  zero   \n",
       "3                3   Vistara   UK-995       Delhi        Morning  zero   \n",
       "4                4   Vistara   UK-963       Delhi        Morning  zero   \n",
       "...            ...       ...      ...         ...            ...   ...   \n",
       "300148      300148   Vistara   UK-822     Chennai        Morning   one   \n",
       "300149      300149   Vistara   UK-826     Chennai      Afternoon   one   \n",
       "300150      300150   Vistara   UK-832     Chennai  Early_Morning   one   \n",
       "300151      300151   Vistara   UK-828     Chennai  Early_Morning   one   \n",
       "300152      300152   Vistara   UK-822     Chennai        Morning   one   \n",
       "\n",
       "         arrival_time destination_city     CLASS  duration  days_left  price  \\\n",
       "0               Night           Mumbai   Economy      2.17          1   5953   \n",
       "1             Morning           Mumbai   Economy      2.33          1   5953   \n",
       "2       Early_Morning           Mumbai   Economy      2.17          1   5956   \n",
       "3           Afternoon           Mumbai   Economy      2.25          1   5955   \n",
       "4             Morning           Mumbai   Economy      2.33          1   5955   \n",
       "...               ...              ...       ...       ...        ...    ...   \n",
       "300148        Evening        Hyderabad  Business     10.08         49  69265   \n",
       "300149          Night        Hyderabad  Business     10.42         49  77105   \n",
       "300150          Night        Hyderabad  Business     13.83         49  79099   \n",
       "300151        Evening        Hyderabad  Business     10.00         49  81585   \n",
       "300152        Evening        Hyderabad  Business     10.08         49  81585   \n",
       "\n",
       "       operating_time  \n",
       "0          Peak_hours  \n",
       "1          Peak_hours  \n",
       "2          Peak_hours  \n",
       "3          Peak_hours  \n",
       "4          Peak_hours  \n",
       "...               ...  \n",
       "300148     Peak_hours  \n",
       "300149     Peak_hours  \n",
       "300150     Peak_hours  \n",
       "300151     Peak_hours  \n",
       "300152     Peak_hours  \n",
       "\n",
       "[300153 rows x 13 columns]"
      ]
     },
     "execution_count": 11,
     "metadata": {},
     "output_type": "execute_result"
    }
   ],
   "source": [
    "df1"
   ]
  },
  {
   "cell_type": "markdown",
   "id": "bd3f5e70",
   "metadata": {
    "id": "bd3f5e70"
   },
   "source": [
    "## Removing unnecessary columns"
   ]
  },
  {
   "cell_type": "code",
   "execution_count": 12,
   "id": "329d0172",
   "metadata": {
    "colab": {
     "base_uri": "https://localhost:8080/",
     "height": 424
    },
    "id": "329d0172",
    "outputId": "5093eb91-57d4-4110-96ff-f32c915286a6"
   },
   "outputs": [
    {
     "data": {
      "text/html": [
       "\n",
       "  <div id=\"df-757c6aba-9128-4fe0-9d5e-c4476c96a02e\">\n",
       "    <div class=\"colab-df-container\">\n",
       "      <div>\n",
       "<style scoped>\n",
       "    .dataframe tbody tr th:only-of-type {\n",
       "        vertical-align: middle;\n",
       "    }\n",
       "\n",
       "    .dataframe tbody tr th {\n",
       "        vertical-align: top;\n",
       "    }\n",
       "\n",
       "    .dataframe thead th {\n",
       "        text-align: right;\n",
       "    }\n",
       "</style>\n",
       "<table border=\"1\" class=\"dataframe\">\n",
       "  <thead>\n",
       "    <tr style=\"text-align: right;\">\n",
       "      <th></th>\n",
       "      <th>airline</th>\n",
       "      <th>source_city</th>\n",
       "      <th>stops</th>\n",
       "      <th>destination_city</th>\n",
       "      <th>CLASS</th>\n",
       "      <th>duration</th>\n",
       "      <th>days_left</th>\n",
       "      <th>price</th>\n",
       "      <th>operating_time</th>\n",
       "    </tr>\n",
       "  </thead>\n",
       "  <tbody>\n",
       "    <tr>\n",
       "      <th>0</th>\n",
       "      <td>SpiceJet</td>\n",
       "      <td>Delhi</td>\n",
       "      <td>zero</td>\n",
       "      <td>Mumbai</td>\n",
       "      <td>Economy</td>\n",
       "      <td>2.17</td>\n",
       "      <td>1</td>\n",
       "      <td>5953</td>\n",
       "      <td>Peak_hours</td>\n",
       "    </tr>\n",
       "    <tr>\n",
       "      <th>1</th>\n",
       "      <td>SpiceJet</td>\n",
       "      <td>Delhi</td>\n",
       "      <td>zero</td>\n",
       "      <td>Mumbai</td>\n",
       "      <td>Economy</td>\n",
       "      <td>2.33</td>\n",
       "      <td>1</td>\n",
       "      <td>5953</td>\n",
       "      <td>Peak_hours</td>\n",
       "    </tr>\n",
       "    <tr>\n",
       "      <th>2</th>\n",
       "      <td>AirAsia</td>\n",
       "      <td>Delhi</td>\n",
       "      <td>zero</td>\n",
       "      <td>Mumbai</td>\n",
       "      <td>Economy</td>\n",
       "      <td>2.17</td>\n",
       "      <td>1</td>\n",
       "      <td>5956</td>\n",
       "      <td>Peak_hours</td>\n",
       "    </tr>\n",
       "    <tr>\n",
       "      <th>3</th>\n",
       "      <td>Vistara</td>\n",
       "      <td>Delhi</td>\n",
       "      <td>zero</td>\n",
       "      <td>Mumbai</td>\n",
       "      <td>Economy</td>\n",
       "      <td>2.25</td>\n",
       "      <td>1</td>\n",
       "      <td>5955</td>\n",
       "      <td>Peak_hours</td>\n",
       "    </tr>\n",
       "    <tr>\n",
       "      <th>4</th>\n",
       "      <td>Vistara</td>\n",
       "      <td>Delhi</td>\n",
       "      <td>zero</td>\n",
       "      <td>Mumbai</td>\n",
       "      <td>Economy</td>\n",
       "      <td>2.33</td>\n",
       "      <td>1</td>\n",
       "      <td>5955</td>\n",
       "      <td>Peak_hours</td>\n",
       "    </tr>\n",
       "    <tr>\n",
       "      <th>...</th>\n",
       "      <td>...</td>\n",
       "      <td>...</td>\n",
       "      <td>...</td>\n",
       "      <td>...</td>\n",
       "      <td>...</td>\n",
       "      <td>...</td>\n",
       "      <td>...</td>\n",
       "      <td>...</td>\n",
       "      <td>...</td>\n",
       "    </tr>\n",
       "    <tr>\n",
       "      <th>300148</th>\n",
       "      <td>Vistara</td>\n",
       "      <td>Chennai</td>\n",
       "      <td>one</td>\n",
       "      <td>Hyderabad</td>\n",
       "      <td>Business</td>\n",
       "      <td>10.08</td>\n",
       "      <td>49</td>\n",
       "      <td>69265</td>\n",
       "      <td>Peak_hours</td>\n",
       "    </tr>\n",
       "    <tr>\n",
       "      <th>300149</th>\n",
       "      <td>Vistara</td>\n",
       "      <td>Chennai</td>\n",
       "      <td>one</td>\n",
       "      <td>Hyderabad</td>\n",
       "      <td>Business</td>\n",
       "      <td>10.42</td>\n",
       "      <td>49</td>\n",
       "      <td>77105</td>\n",
       "      <td>Peak_hours</td>\n",
       "    </tr>\n",
       "    <tr>\n",
       "      <th>300150</th>\n",
       "      <td>Vistara</td>\n",
       "      <td>Chennai</td>\n",
       "      <td>one</td>\n",
       "      <td>Hyderabad</td>\n",
       "      <td>Business</td>\n",
       "      <td>13.83</td>\n",
       "      <td>49</td>\n",
       "      <td>79099</td>\n",
       "      <td>Peak_hours</td>\n",
       "    </tr>\n",
       "    <tr>\n",
       "      <th>300151</th>\n",
       "      <td>Vistara</td>\n",
       "      <td>Chennai</td>\n",
       "      <td>one</td>\n",
       "      <td>Hyderabad</td>\n",
       "      <td>Business</td>\n",
       "      <td>10.00</td>\n",
       "      <td>49</td>\n",
       "      <td>81585</td>\n",
       "      <td>Peak_hours</td>\n",
       "    </tr>\n",
       "    <tr>\n",
       "      <th>300152</th>\n",
       "      <td>Vistara</td>\n",
       "      <td>Chennai</td>\n",
       "      <td>one</td>\n",
       "      <td>Hyderabad</td>\n",
       "      <td>Business</td>\n",
       "      <td>10.08</td>\n",
       "      <td>49</td>\n",
       "      <td>81585</td>\n",
       "      <td>Peak_hours</td>\n",
       "    </tr>\n",
       "  </tbody>\n",
       "</table>\n",
       "<p>300153 rows × 9 columns</p>\n",
       "</div>\n",
       "      <button class=\"colab-df-convert\" onclick=\"convertToInteractive('df-757c6aba-9128-4fe0-9d5e-c4476c96a02e')\"\n",
       "              title=\"Convert this dataframe to an interactive table.\"\n",
       "              style=\"display:none;\">\n",
       "        \n",
       "  <svg xmlns=\"http://www.w3.org/2000/svg\" height=\"24px\"viewBox=\"0 0 24 24\"\n",
       "       width=\"24px\">\n",
       "    <path d=\"M0 0h24v24H0V0z\" fill=\"none\"/>\n",
       "    <path d=\"M18.56 5.44l.94 2.06.94-2.06 2.06-.94-2.06-.94-.94-2.06-.94 2.06-2.06.94zm-11 1L8.5 8.5l.94-2.06 2.06-.94-2.06-.94L8.5 2.5l-.94 2.06-2.06.94zm10 10l.94 2.06.94-2.06 2.06-.94-2.06-.94-.94-2.06-.94 2.06-2.06.94z\"/><path d=\"M17.41 7.96l-1.37-1.37c-.4-.4-.92-.59-1.43-.59-.52 0-1.04.2-1.43.59L10.3 9.45l-7.72 7.72c-.78.78-.78 2.05 0 2.83L4 21.41c.39.39.9.59 1.41.59.51 0 1.02-.2 1.41-.59l7.78-7.78 2.81-2.81c.8-.78.8-2.07 0-2.86zM5.41 20L4 18.59l7.72-7.72 1.47 1.35L5.41 20z\"/>\n",
       "  </svg>\n",
       "      </button>\n",
       "      \n",
       "  <style>\n",
       "    .colab-df-container {\n",
       "      display:flex;\n",
       "      flex-wrap:wrap;\n",
       "      gap: 12px;\n",
       "    }\n",
       "\n",
       "    .colab-df-convert {\n",
       "      background-color: #E8F0FE;\n",
       "      border: none;\n",
       "      border-radius: 50%;\n",
       "      cursor: pointer;\n",
       "      display: none;\n",
       "      fill: #1967D2;\n",
       "      height: 32px;\n",
       "      padding: 0 0 0 0;\n",
       "      width: 32px;\n",
       "    }\n",
       "\n",
       "    .colab-df-convert:hover {\n",
       "      background-color: #E2EBFA;\n",
       "      box-shadow: 0px 1px 2px rgba(60, 64, 67, 0.3), 0px 1px 3px 1px rgba(60, 64, 67, 0.15);\n",
       "      fill: #174EA6;\n",
       "    }\n",
       "\n",
       "    [theme=dark] .colab-df-convert {\n",
       "      background-color: #3B4455;\n",
       "      fill: #D2E3FC;\n",
       "    }\n",
       "\n",
       "    [theme=dark] .colab-df-convert:hover {\n",
       "      background-color: #434B5C;\n",
       "      box-shadow: 0px 1px 3px 1px rgba(0, 0, 0, 0.15);\n",
       "      filter: drop-shadow(0px 1px 2px rgba(0, 0, 0, 0.3));\n",
       "      fill: #FFFFFF;\n",
       "    }\n",
       "  </style>\n",
       "\n",
       "      <script>\n",
       "        const buttonEl =\n",
       "          document.querySelector('#df-757c6aba-9128-4fe0-9d5e-c4476c96a02e button.colab-df-convert');\n",
       "        buttonEl.style.display =\n",
       "          google.colab.kernel.accessAllowed ? 'block' : 'none';\n",
       "\n",
       "        async function convertToInteractive(key) {\n",
       "          const element = document.querySelector('#df-757c6aba-9128-4fe0-9d5e-c4476c96a02e');\n",
       "          const dataTable =\n",
       "            await google.colab.kernel.invokeFunction('convertToInteractive',\n",
       "                                                     [key], {});\n",
       "          if (!dataTable) return;\n",
       "\n",
       "          const docLinkHtml = 'Like what you see? Visit the ' +\n",
       "            '<a target=\"_blank\" href=https://colab.research.google.com/notebooks/data_table.ipynb>data table notebook</a>'\n",
       "            + ' to learn more about interactive tables.';\n",
       "          element.innerHTML = '';\n",
       "          dataTable['output_type'] = 'display_data';\n",
       "          await google.colab.output.renderOutput(dataTable, element);\n",
       "          const docLink = document.createElement('div');\n",
       "          docLink.innerHTML = docLinkHtml;\n",
       "          element.appendChild(docLink);\n",
       "        }\n",
       "      </script>\n",
       "    </div>\n",
       "  </div>\n",
       "  "
      ],
      "text/plain": [
       "         airline source_city stops destination_city     CLASS  duration  \\\n",
       "0       SpiceJet       Delhi  zero           Mumbai   Economy      2.17   \n",
       "1       SpiceJet       Delhi  zero           Mumbai   Economy      2.33   \n",
       "2        AirAsia       Delhi  zero           Mumbai   Economy      2.17   \n",
       "3        Vistara       Delhi  zero           Mumbai   Economy      2.25   \n",
       "4        Vistara       Delhi  zero           Mumbai   Economy      2.33   \n",
       "...          ...         ...   ...              ...       ...       ...   \n",
       "300148   Vistara     Chennai   one        Hyderabad  Business     10.08   \n",
       "300149   Vistara     Chennai   one        Hyderabad  Business     10.42   \n",
       "300150   Vistara     Chennai   one        Hyderabad  Business     13.83   \n",
       "300151   Vistara     Chennai   one        Hyderabad  Business     10.00   \n",
       "300152   Vistara     Chennai   one        Hyderabad  Business     10.08   \n",
       "\n",
       "        days_left  price operating_time  \n",
       "0               1   5953     Peak_hours  \n",
       "1               1   5953     Peak_hours  \n",
       "2               1   5956     Peak_hours  \n",
       "3               1   5955     Peak_hours  \n",
       "4               1   5955     Peak_hours  \n",
       "...           ...    ...            ...  \n",
       "300148         49  69265     Peak_hours  \n",
       "300149         49  77105     Peak_hours  \n",
       "300150         49  79099     Peak_hours  \n",
       "300151         49  81585     Peak_hours  \n",
       "300152         49  81585     Peak_hours  \n",
       "\n",
       "[300153 rows x 9 columns]"
      ]
     },
     "execution_count": 12,
     "metadata": {},
     "output_type": "execute_result"
    }
   ],
   "source": [
    "df1.drop(df1.columns[[0, 2, 4, 6]], axis = 1, inplace = True); df1"
   ]
  },
  {
   "cell_type": "markdown",
   "id": "4bb33df5",
   "metadata": {
    "id": "4bb33df5"
   },
   "source": [
    "## EDA(Exploratory Data Analysis)"
   ]
  },
  {
   "cell_type": "markdown",
   "id": "5b295029",
   "metadata": {
    "id": "5b295029"
   },
   "source": [
    "## Distribution of passengers for each airline"
   ]
  },
  {
   "cell_type": "code",
   "execution_count": 13,
   "id": "3a1142a4",
   "metadata": {
    "colab": {
     "base_uri": "https://localhost:8080/",
     "height": 405
    },
    "id": "3a1142a4",
    "outputId": "7d2985e4-f482-4c0c-bc8e-e65379204444"
   },
   "outputs": [
    {
     "data": {
      "image/png": "[encoded data removed]",
      "text/plain": [
       "<Figure size 576x432 with 1 Axes>"
      ]
     },
     "metadata": {
      "needs_background": "light"
     },
     "output_type": "display_data"
    }
   ],
   "source": [
    "fig=plt.figure(figsize=(8,6))\n",
    "plt.title('Number of passengers for each airline')\n",
    "sns.countplot(x = \"airline\",data = df1)\n",
    "plt.ylabel('Count')\n",
    "plt.xlabel('Airlines')\n",
    "sns.despine(bottom = True, left = True)"
   ]
  },
  {
   "cell_type": "markdown",
   "id": "bf25cbfe",
   "metadata": {
    "id": "bf25cbfe"
   },
   "source": [
    "### From the above graph we can clearly see that the demand of Vistara flights is much higher compared to other airlines. It is followed by Air India which is followed by Indigo."
   ]
  },
  {
   "cell_type": "markdown",
   "id": "d43d616f",
   "metadata": {
    "id": "d43d616f"
   },
   "source": [
    "## Sales distribution for each airline"
   ]
  },
  {
   "cell_type": "code",
   "execution_count": 14,
   "id": "2c98d06c",
   "metadata": {
    "colab": {
     "base_uri": "https://localhost:8080/",
     "height": 405
    },
    "id": "2c98d06c",
    "outputId": "ce852e21-f0a5-4c5c-aec4-9071711db815"
   },
   "outputs": [
    {
     "data": {
      "image/png": "[encoded data removed]",
      "text/plain": [
       "<Figure size 576x432 with 1 Axes>"
      ]
     },
     "metadata": {
      "needs_background": "light"
     },
     "output_type": "display_data"
    }
   ],
   "source": [
    "fig=plt.figure(figsize=(8,6))\n",
    "plt.title('Total sales of each airline')\n",
    "sns.barplot(y ='price', x='airline', data = df1.groupby('airline').sum()['price'].reset_index(),palette='autumn')\n",
    "plt.ylabel('Price')\n",
    "plt.xlabel('Airlines')\n",
    "sns.despine(bottom = True, left = True)\n"
   ]
  },
  {
   "cell_type": "markdown",
   "id": "899d303b",
   "metadata": {
    "id": "899d303b"
   },
   "source": [
    "### The above graph is conclusive of the fact that Vistara airlines has maximum sales followed by Air India."
   ]
  },
  {
   "cell_type": "code",
   "execution_count": 15,
   "id": "68ae0ac1",
   "metadata": {
    "colab": {
     "base_uri": "https://localhost:8080/",
     "height": 405
    },
    "id": "68ae0ac1",
    "outputId": "ddb39594-c926-41e0-8c67-2fe28f9ae3e2"
   },
   "outputs": [
    {
     "data": {
      "image/png": "[encoded data removed]",
      "text/plain": [
       "<Figure size 576x432 with 1 Axes>"
      ]
     },
     "metadata": {
      "needs_background": "light"
     },
     "output_type": "display_data"
    }
   ],
   "source": [
    "fig=plt.figure(figsize=(8,6))\n",
    "plt.title('Average price per ticket for each airline')\n",
    "sns.barplot(y ='price', x='airline', data = df1.groupby('airline').mean()['price'].reset_index(),palette='autumn')\n",
    "plt.ylabel('Price')\n",
    "plt.xlabel('Airlines')\n",
    "sns.despine(bottom = True, left = True)\n"
   ]
  },
  {
   "cell_type": "markdown",
   "id": "9c2bae93",
   "metadata": {
    "id": "9c2bae93"
   },
   "source": [
    "###  From the above graph we can see that the average price of ticket for Vistara is highest again followed by Air India. "
   ]
  },
  {
   "cell_type": "markdown",
   "id": "e0bc93ec",
   "metadata": {
    "id": "e0bc93ec"
   },
   "source": [
    "### From the above graphs we can conclude that though Vistara and Air India are the 2 costliest airlines still they enjoy maximum sales of tickets. "
   ]
  },
  {
   "cell_type": "markdown",
   "id": "be0a7aa6",
   "metadata": {
    "id": "be0a7aa6"
   },
   "source": [
    "## Sales during opertaing hours"
   ]
  },
  {
   "cell_type": "code",
   "execution_count": 16,
   "id": "0d13f68c",
   "metadata": {
    "colab": {
     "base_uri": "https://localhost:8080/",
     "height": 406
    },
    "id": "0d13f68c",
    "outputId": "fd5b1a9e-d246-4b55-cdc0-c95ba995222a"
   },
   "outputs": [
    {
     "data": {
      "image/png": "[encoded data removed]",
      "text/plain": [
       "<Figure size 576x432 with 1 Axes>"
      ]
     },
     "metadata": {
      "needs_background": "light"
     },
     "output_type": "display_data"
    }
   ],
   "source": [
    "fig=plt.figure(figsize=(8,6))\n",
    "plt.title('Total sales distribution during operating hours')\n",
    "sns.barplot(y ='price', x='operating_time', data = df1.groupby('operating_time').sum()['price'].reset_index())\n",
    "plt.ylabel('Price')\n",
    "plt.xlabel('Operating_hours')\n",
    "sns.despine(bottom = True, left = True)"
   ]
  },
  {
   "cell_type": "code",
   "execution_count": 17,
   "id": "c3f2681a",
   "metadata": {
    "colab": {
     "base_uri": "https://localhost:8080/",
     "height": 406
    },
    "id": "c3f2681a",
    "outputId": "63102ea6-d1f5-4b8c-a9f6-2f808148a0f6"
   },
   "outputs": [
    {
     "data": {
      "image/png": "[encoded data removed]",
      "text/plain": [
       "<Figure size 576x432 with 1 Axes>"
      ]
     },
     "metadata": {
      "needs_background": "light"
     },
     "output_type": "display_data"
    }
   ],
   "source": [
    "fig=plt.figure(figsize=(8,6))\n",
    "plt.title('Average ticket price during operating hours')\n",
    "sns.barplot(y ='price', x='operating_time', data = df1.groupby('operating_time').mean()['price'].reset_index())\n",
    "plt.ylabel('Price')\n",
    "plt.xlabel('Operating_hours')\n",
    "sns.despine(bottom = True, left = True)"
   ]
  },
  {
   "cell_type": "markdown",
   "id": "1ced0392",
   "metadata": {
    "id": "1ced0392"
   },
   "source": [
    "### The above graphs tells us that the average ticket price during peak hours is around 22000 while during non-peak hours it drops down to 17000."
   ]
  },
  {
   "cell_type": "markdown",
   "id": "197e64a2",
   "metadata": {
    "id": "197e64a2"
   },
   "source": [
    "## Distribution of sales with respect to stops"
   ]
  },
  {
   "cell_type": "code",
   "execution_count": 18,
   "id": "0b8f07cd",
   "metadata": {
    "colab": {
     "base_uri": "https://localhost:8080/",
     "height": 404
    },
    "id": "0b8f07cd",
    "outputId": "dd8ef984-17d0-48b9-c57e-aa5841f91b0d"
   },
   "outputs": [
    {
     "data": {
      "image/png": "[encoded data removed]",
      "text/plain": [
       "<Figure size 576x432 with 1 Axes>"
      ]
     },
     "metadata": {
      "needs_background": "light"
     },
     "output_type": "display_data"
    }
   ],
   "source": [
    "fig=plt.figure(figsize=(8,6))\n",
    "plt.title('Sales with respect to stops')\n",
    "sns.barplot(y ='price', x='stops', data = df1.groupby('stops').mean()['price'].reset_index(),palette='autumn')\n",
    "plt.ylabel('Price')\n",
    "plt.xlabel('Stops')\n",
    "sns.despine(bottom = True, left = True)"
   ]
  },
  {
   "cell_type": "markdown",
   "id": "92f5627f",
   "metadata": {
    "id": "92f5627f"
   },
   "source": [
    "## Sales distribution based on source and destination cities"
   ]
  },
  {
   "cell_type": "code",
   "execution_count": 19,
   "id": "bcb94d15",
   "metadata": {
    "colab": {
     "base_uri": "https://localhost:8080/",
     "height": 389
    },
    "id": "bcb94d15",
    "outputId": "c18c1b0d-e60a-4ea0-93e0-64f173666fa7"
   },
   "outputs": [
    {
     "data": {
      "image/png": "[encoded data removed]",
      "text/plain": [
       "<Figure size 1152x432 with 2 Axes>"
      ]
     },
     "metadata": {
      "needs_background": "light"
     },
     "output_type": "display_data"
    }
   ],
   "source": [
    "fig, ax = plt.subplots(1,2, figsize=(16,6))\n",
    "sns.barplot(x = \"source_city\",y = \"price\",data = df1, ax = ax[0])\n",
    "sns.barplot(x = \"destination_city\",y = \"price\",data = df1, ax = ax[1])\n",
    "fig.show()"
   ]
  },
  {
   "cell_type": "markdown",
   "id": "4ec007af",
   "metadata": {
    "id": "4ec007af"
   },
   "source": [
    "### From the above graphs we can conclude that prices are lowest for flights leaving from Delhi while it's highest for flights leaving from Chennai and Kolkata. Also the prices are lowest for flights going to Delhi while it's highest for flights going to Kolkata and Chennai. "
   ]
  },
  {
   "cell_type": "markdown",
   "id": "93a82f70",
   "metadata": {
    "id": "93a82f70"
   },
   "source": [
    "## Encoding all categoriacl columns"
   ]
  },
  {
   "cell_type": "code",
   "execution_count": 20,
   "id": "00a93087",
   "metadata": {
    "id": "00a93087"
   },
   "outputs": [],
   "source": [
    "label_enc = preprocessing.LabelEncoder()\n",
    "\n",
    "df1['airline'] = label_enc.fit_transform(df1['airline'])\n",
    "df1['source_city'] = label_enc.fit_transform(df1['source_city'])\n",
    "df1['destination_city'] = label_enc.fit_transform(df1['destination_city'])\n",
    "df1['stops'] = label_enc.fit_transform(df1['stops'])\n",
    "df1['CLASS'] = label_enc.fit_transform(df1['CLASS'])\n",
    "df1['operating_time'] = label_enc.fit_transform(df1['operating_time'])"
   ]
  },
  {
   "cell_type": "markdown",
   "id": "5b4a9ff1",
   "metadata": {
    "id": "5b4a9ff1"
   },
   "source": [
    "## Checking the data and the datatypes after encoding"
   ]
  },
  {
   "cell_type": "code",
   "execution_count": 21,
   "id": "3580a573",
   "metadata": {
    "colab": {
     "base_uri": "https://localhost:8080/",
     "height": 206
    },
    "id": "3580a573",
    "outputId": "c11e7227-9829-4a96-9e9c-285e31ddbffa"
   },
   "outputs": [
    {
     "data": {
      "text/html": [
       "\n",
       "  <div id=\"df-020471a0-81a9-4198-b11a-f09e5f0bcc7e\">\n",
       "    <div class=\"colab-df-container\">\n",
       "      <div>\n",
       "<style scoped>\n",
       "    .dataframe tbody tr th:only-of-type {\n",
       "        vertical-align: middle;\n",
       "    }\n",
       "\n",
       "    .dataframe tbody tr th {\n",
       "        vertical-align: top;\n",
       "    }\n",
       "\n",
       "    .dataframe thead th {\n",
       "        text-align: right;\n",
       "    }\n",
       "</style>\n",
       "<table border=\"1\" class=\"dataframe\">\n",
       "  <thead>\n",
       "    <tr style=\"text-align: right;\">\n",
       "      <th></th>\n",
       "      <th>airline</th>\n",
       "      <th>source_city</th>\n",
       "      <th>stops</th>\n",
       "      <th>destination_city</th>\n",
       "      <th>CLASS</th>\n",
       "      <th>duration</th>\n",
       "      <th>days_left</th>\n",
       "      <th>price</th>\n",
       "      <th>operating_time</th>\n",
       "    </tr>\n",
       "  </thead>\n",
       "  <tbody>\n",
       "    <tr>\n",
       "      <th>0</th>\n",
       "      <td>4</td>\n",
       "      <td>2</td>\n",
       "      <td>2</td>\n",
       "      <td>5</td>\n",
       "      <td>1</td>\n",
       "      <td>2.17</td>\n",
       "      <td>1</td>\n",
       "      <td>5953</td>\n",
       "      <td>1</td>\n",
       "    </tr>\n",
       "    <tr>\n",
       "      <th>1</th>\n",
       "      <td>4</td>\n",
       "      <td>2</td>\n",
       "      <td>2</td>\n",
       "      <td>5</td>\n",
       "      <td>1</td>\n",
       "      <td>2.33</td>\n",
       "      <td>1</td>\n",
       "      <td>5953</td>\n",
       "      <td>1</td>\n",
       "    </tr>\n",
       "    <tr>\n",
       "      <th>2</th>\n",
       "      <td>0</td>\n",
       "      <td>2</td>\n",
       "      <td>2</td>\n",
       "      <td>5</td>\n",
       "      <td>1</td>\n",
       "      <td>2.17</td>\n",
       "      <td>1</td>\n",
       "      <td>5956</td>\n",
       "      <td>1</td>\n",
       "    </tr>\n",
       "    <tr>\n",
       "      <th>3</th>\n",
       "      <td>5</td>\n",
       "      <td>2</td>\n",
       "      <td>2</td>\n",
       "      <td>5</td>\n",
       "      <td>1</td>\n",
       "      <td>2.25</td>\n",
       "      <td>1</td>\n",
       "      <td>5955</td>\n",
       "      <td>1</td>\n",
       "    </tr>\n",
       "    <tr>\n",
       "      <th>4</th>\n",
       "      <td>5</td>\n",
       "      <td>2</td>\n",
       "      <td>2</td>\n",
       "      <td>5</td>\n",
       "      <td>1</td>\n",
       "      <td>2.33</td>\n",
       "      <td>1</td>\n",
       "      <td>5955</td>\n",
       "      <td>1</td>\n",
       "    </tr>\n",
       "  </tbody>\n",
       "</table>\n",
       "</div>\n",
       "      <button class=\"colab-df-convert\" onclick=\"convertToInteractive('df-020471a0-81a9-4198-b11a-f09e5f0bcc7e')\"\n",
       "              title=\"Convert this dataframe to an interactive table.\"\n",
       "              style=\"display:none;\">\n",
       "        \n",
       "  <svg xmlns=\"http://www.w3.org/2000/svg\" height=\"24px\"viewBox=\"0 0 24 24\"\n",
       "       width=\"24px\">\n",
       "    <path d=\"M0 0h24v24H0V0z\" fill=\"none\"/>\n",
       "    <path d=\"M18.56 5.44l.94 2.06.94-2.06 2.06-.94-2.06-.94-.94-2.06-.94 2.06-2.06.94zm-11 1L8.5 8.5l.94-2.06 2.06-.94-2.06-.94L8.5 2.5l-.94 2.06-2.06.94zm10 10l.94 2.06.94-2.06 2.06-.94-2.06-.94-.94-2.06-.94 2.06-2.06.94z\"/><path d=\"M17.41 7.96l-1.37-1.37c-.4-.4-.92-.59-1.43-.59-.52 0-1.04.2-1.43.59L10.3 9.45l-7.72 7.72c-.78.78-.78 2.05 0 2.83L4 21.41c.39.39.9.59 1.41.59.51 0 1.02-.2 1.41-.59l7.78-7.78 2.81-2.81c.8-.78.8-2.07 0-2.86zM5.41 20L4 18.59l7.72-7.72 1.47 1.35L5.41 20z\"/>\n",
       "  </svg>\n",
       "      </button>\n",
       "      \n",
       "  <style>\n",
       "    .colab-df-container {\n",
       "      display:flex;\n",
       "      flex-wrap:wrap;\n",
       "      gap: 12px;\n",
       "    }\n",
       "\n",
       "    .colab-df-convert {\n",
       "      background-color: #E8F0FE;\n",
       "      border: none;\n",
       "      border-radius: 50%;\n",
       "      cursor: pointer;\n",
       "      display: none;\n",
       "      fill: #1967D2;\n",
       "      height: 32px;\n",
       "      padding: 0 0 0 0;\n",
       "      width: 32px;\n",
       "    }\n",
       "\n",
       "    .colab-df-convert:hover {\n",
       "      background-color: #E2EBFA;\n",
       "      box-shadow: 0px 1px 2px rgba(60, 64, 67, 0.3), 0px 1px 3px 1px rgba(60, 64, 67, 0.15);\n",
       "      fill: #174EA6;\n",
       "    }\n",
       "\n",
       "    [theme=dark] .colab-df-convert {\n",
       "      background-color: #3B4455;\n",
       "      fill: #D2E3FC;\n",
       "    }\n",
       "\n",
       "    [theme=dark] .colab-df-convert:hover {\n",
       "      background-color: #434B5C;\n",
       "      box-shadow: 0px 1px 3px 1px rgba(0, 0, 0, 0.15);\n",
       "      filter: drop-shadow(0px 1px 2px rgba(0, 0, 0, 0.3));\n",
       "      fill: #FFFFFF;\n",
       "    }\n",
       "  </style>\n",
       "\n",
       "      <script>\n",
       "        const buttonEl =\n",
       "          document.querySelector('#df-020471a0-81a9-4198-b11a-f09e5f0bcc7e button.colab-df-convert');\n",
       "        buttonEl.style.display =\n",
       "          google.colab.kernel.accessAllowed ? 'block' : 'none';\n",
       "\n",
       "        async function convertToInteractive(key) {\n",
       "          const element = document.querySelector('#df-020471a0-81a9-4198-b11a-f09e5f0bcc7e');\n",
       "          const dataTable =\n",
       "            await google.colab.kernel.invokeFunction('convertToInteractive',\n",
       "                                                     [key], {});\n",
       "          if (!dataTable) return;\n",
       "\n",
       "          const docLinkHtml = 'Like what you see? Visit the ' +\n",
       "            '<a target=\"_blank\" href=https://colab.research.google.com/notebooks/data_table.ipynb>data table notebook</a>'\n",
       "            + ' to learn more about interactive tables.';\n",
       "          element.innerHTML = '';\n",
       "          dataTable['output_type'] = 'display_data';\n",
       "          await google.colab.output.renderOutput(dataTable, element);\n",
       "          const docLink = document.createElement('div');\n",
       "          docLink.innerHTML = docLinkHtml;\n",
       "          element.appendChild(docLink);\n",
       "        }\n",
       "      </script>\n",
       "    </div>\n",
       "  </div>\n",
       "  "
      ],
      "text/plain": [
       "   airline  source_city  stops  destination_city  CLASS  duration  days_left  \\\n",
       "0        4            2      2                 5      1      2.17          1   \n",
       "1        4            2      2                 5      1      2.33          1   \n",
       "2        0            2      2                 5      1      2.17          1   \n",
       "3        5            2      2                 5      1      2.25          1   \n",
       "4        5            2      2                 5      1      2.33          1   \n",
       "\n",
       "   price  operating_time  \n",
       "0   5953               1  \n",
       "1   5953               1  \n",
       "2   5956               1  \n",
       "3   5955               1  \n",
       "4   5955               1  "
      ]
     },
     "execution_count": 21,
     "metadata": {},
     "output_type": "execute_result"
    }
   ],
   "source": [
    "df1.head(n = 5)"
   ]
  },
  {
   "cell_type": "code",
   "execution_count": 22,
   "id": "64c61662",
   "metadata": {
    "colab": {
     "base_uri": "https://localhost:8080/"
    },
    "id": "64c61662",
    "outputId": "ed57334b-1a39-48de-8dd2-7a584ee6be2c",
    "scrolled": false
   },
   "outputs": [
    {
     "name": "stdout",
     "output_type": "stream",
     "text": [
      "<class 'pandas.core.frame.DataFrame'>\n",
      "RangeIndex: 300153 entries, 0 to 300152\n",
      "Data columns (total 9 columns):\n",
      " #   Column            Non-Null Count   Dtype  \n",
      "---  ------            --------------   -----  \n",
      " 0   airline           300153 non-null  int64  \n",
      " 1   source_city       300153 non-null  int64  \n",
      " 2   stops             300153 non-null  int64  \n",
      " 3   destination_city  300153 non-null  int64  \n",
      " 4   CLASS             300153 non-null  int64  \n",
      " 5   duration          300153 non-null  float64\n",
      " 6   days_left         300153 non-null  int64  \n",
      " 7   price             300153 non-null  int64  \n",
      " 8   operating_time    300153 non-null  int64  \n",
      "dtypes: float64(1), int64(8)\n",
      "memory usage: 20.6 MB\n"
     ]
    }
   ],
   "source": [
    "df1.info()"
   ]
  },
  {
   "cell_type": "markdown",
   "id": "8559d54e",
   "metadata": {
    "id": "8559d54e"
   },
   "source": [
    "## Selecting feature matrix and target column"
   ]
  },
  {
   "cell_type": "code",
   "execution_count": 23,
   "id": "e9fbf19e",
   "metadata": {
    "id": "e9fbf19e"
   },
   "outputs": [],
   "source": [
    "x1 = df1.drop([\"price\"],axis = 1).values\n",
    "y1 = df1[\"price\"].values\n",
    "x1 = pd.DataFrame(x1)\n",
    "y1 = pd.DataFrame(y1)"
   ]
  },
  {
   "cell_type": "markdown",
   "id": "1b185e20",
   "metadata": {
    "id": "1b185e20"
   },
   "source": [
    "## Dropping correlated features"
   ]
  },
  {
   "cell_type": "code",
   "execution_count": 24,
   "id": "99786199",
   "metadata": {
    "colab": {
     "base_uri": "https://localhost:8080/",
     "height": 424
    },
    "id": "99786199",
    "outputId": "91c62ced-20d5-40dc-d6aa-f127cb81e6d2"
   },
   "outputs": [
    {
     "data": {
      "text/html": [
       "\n",
       "  <div id=\"df-2049966e-7523-4c0c-8128-94ac81fc7282\">\n",
       "    <div class=\"colab-df-container\">\n",
       "      <div>\n",
       "<style scoped>\n",
       "    .dataframe tbody tr th:only-of-type {\n",
       "        vertical-align: middle;\n",
       "    }\n",
       "\n",
       "    .dataframe tbody tr th {\n",
       "        vertical-align: top;\n",
       "    }\n",
       "\n",
       "    .dataframe thead th {\n",
       "        text-align: right;\n",
       "    }\n",
       "</style>\n",
       "<table border=\"1\" class=\"dataframe\">\n",
       "  <thead>\n",
       "    <tr style=\"text-align: right;\">\n",
       "      <th></th>\n",
       "      <th>0</th>\n",
       "      <th>1</th>\n",
       "      <th>2</th>\n",
       "      <th>3</th>\n",
       "      <th>4</th>\n",
       "      <th>5</th>\n",
       "      <th>6</th>\n",
       "      <th>7</th>\n",
       "    </tr>\n",
       "  </thead>\n",
       "  <tbody>\n",
       "    <tr>\n",
       "      <th>0</th>\n",
       "      <td>4.0</td>\n",
       "      <td>2.0</td>\n",
       "      <td>2.0</td>\n",
       "      <td>5.0</td>\n",
       "      <td>1.0</td>\n",
       "      <td>2.17</td>\n",
       "      <td>1.0</td>\n",
       "      <td>1.0</td>\n",
       "    </tr>\n",
       "    <tr>\n",
       "      <th>1</th>\n",
       "      <td>4.0</td>\n",
       "      <td>2.0</td>\n",
       "      <td>2.0</td>\n",
       "      <td>5.0</td>\n",
       "      <td>1.0</td>\n",
       "      <td>2.33</td>\n",
       "      <td>1.0</td>\n",
       "      <td>1.0</td>\n",
       "    </tr>\n",
       "    <tr>\n",
       "      <th>2</th>\n",
       "      <td>0.0</td>\n",
       "      <td>2.0</td>\n",
       "      <td>2.0</td>\n",
       "      <td>5.0</td>\n",
       "      <td>1.0</td>\n",
       "      <td>2.17</td>\n",
       "      <td>1.0</td>\n",
       "      <td>1.0</td>\n",
       "    </tr>\n",
       "    <tr>\n",
       "      <th>3</th>\n",
       "      <td>5.0</td>\n",
       "      <td>2.0</td>\n",
       "      <td>2.0</td>\n",
       "      <td>5.0</td>\n",
       "      <td>1.0</td>\n",
       "      <td>2.25</td>\n",
       "      <td>1.0</td>\n",
       "      <td>1.0</td>\n",
       "    </tr>\n",
       "    <tr>\n",
       "      <th>4</th>\n",
       "      <td>5.0</td>\n",
       "      <td>2.0</td>\n",
       "      <td>2.0</td>\n",
       "      <td>5.0</td>\n",
       "      <td>1.0</td>\n",
       "      <td>2.33</td>\n",
       "      <td>1.0</td>\n",
       "      <td>1.0</td>\n",
       "    </tr>\n",
       "    <tr>\n",
       "      <th>...</th>\n",
       "      <td>...</td>\n",
       "      <td>...</td>\n",
       "      <td>...</td>\n",
       "      <td>...</td>\n",
       "      <td>...</td>\n",
       "      <td>...</td>\n",
       "      <td>...</td>\n",
       "      <td>...</td>\n",
       "    </tr>\n",
       "    <tr>\n",
       "      <th>300148</th>\n",
       "      <td>5.0</td>\n",
       "      <td>1.0</td>\n",
       "      <td>0.0</td>\n",
       "      <td>3.0</td>\n",
       "      <td>0.0</td>\n",
       "      <td>10.08</td>\n",
       "      <td>49.0</td>\n",
       "      <td>1.0</td>\n",
       "    </tr>\n",
       "    <tr>\n",
       "      <th>300149</th>\n",
       "      <td>5.0</td>\n",
       "      <td>1.0</td>\n",
       "      <td>0.0</td>\n",
       "      <td>3.0</td>\n",
       "      <td>0.0</td>\n",
       "      <td>10.42</td>\n",
       "      <td>49.0</td>\n",
       "      <td>1.0</td>\n",
       "    </tr>\n",
       "    <tr>\n",
       "      <th>300150</th>\n",
       "      <td>5.0</td>\n",
       "      <td>1.0</td>\n",
       "      <td>0.0</td>\n",
       "      <td>3.0</td>\n",
       "      <td>0.0</td>\n",
       "      <td>13.83</td>\n",
       "      <td>49.0</td>\n",
       "      <td>1.0</td>\n",
       "    </tr>\n",
       "    <tr>\n",
       "      <th>300151</th>\n",
       "      <td>5.0</td>\n",
       "      <td>1.0</td>\n",
       "      <td>0.0</td>\n",
       "      <td>3.0</td>\n",
       "      <td>0.0</td>\n",
       "      <td>10.00</td>\n",
       "      <td>49.0</td>\n",
       "      <td>1.0</td>\n",
       "    </tr>\n",
       "    <tr>\n",
       "      <th>300152</th>\n",
       "      <td>5.0</td>\n",
       "      <td>1.0</td>\n",
       "      <td>0.0</td>\n",
       "      <td>3.0</td>\n",
       "      <td>0.0</td>\n",
       "      <td>10.08</td>\n",
       "      <td>49.0</td>\n",
       "      <td>1.0</td>\n",
       "    </tr>\n",
       "  </tbody>\n",
       "</table>\n",
       "<p>300153 rows × 8 columns</p>\n",
       "</div>\n",
       "      <button class=\"colab-df-convert\" onclick=\"convertToInteractive('df-2049966e-7523-4c0c-8128-94ac81fc7282')\"\n",
       "              title=\"Convert this dataframe to an interactive table.\"\n",
       "              style=\"display:none;\">\n",
       "        \n",
       "  <svg xmlns=\"http://www.w3.org/2000/svg\" height=\"24px\"viewBox=\"0 0 24 24\"\n",
       "       width=\"24px\">\n",
       "    <path d=\"M0 0h24v24H0V0z\" fill=\"none\"/>\n",
       "    <path d=\"M18.56 5.44l.94 2.06.94-2.06 2.06-.94-2.06-.94-.94-2.06-.94 2.06-2.06.94zm-11 1L8.5 8.5l.94-2.06 2.06-.94-2.06-.94L8.5 2.5l-.94 2.06-2.06.94zm10 10l.94 2.06.94-2.06 2.06-.94-2.06-.94-.94-2.06-.94 2.06-2.06.94z\"/><path d=\"M17.41 7.96l-1.37-1.37c-.4-.4-.92-.59-1.43-.59-.52 0-1.04.2-1.43.59L10.3 9.45l-7.72 7.72c-.78.78-.78 2.05 0 2.83L4 21.41c.39.39.9.59 1.41.59.51 0 1.02-.2 1.41-.59l7.78-7.78 2.81-2.81c.8-.78.8-2.07 0-2.86zM5.41 20L4 18.59l7.72-7.72 1.47 1.35L5.41 20z\"/>\n",
       "  </svg>\n",
       "      </button>\n",
       "      \n",
       "  <style>\n",
       "    .colab-df-container {\n",
       "      display:flex;\n",
       "      flex-wrap:wrap;\n",
       "      gap: 12px;\n",
       "    }\n",
       "\n",
       "    .colab-df-convert {\n",
       "      background-color: #E8F0FE;\n",
       "      border: none;\n",
       "      border-radius: 50%;\n",
       "      cursor: pointer;\n",
       "      display: none;\n",
       "      fill: #1967D2;\n",
       "      height: 32px;\n",
       "      padding: 0 0 0 0;\n",
       "      width: 32px;\n",
       "    }\n",
       "\n",
       "    .colab-df-convert:hover {\n",
       "      background-color: #E2EBFA;\n",
       "      box-shadow: 0px 1px 2px rgba(60, 64, 67, 0.3), 0px 1px 3px 1px rgba(60, 64, 67, 0.15);\n",
       "      fill: #174EA6;\n",
       "    }\n",
       "\n",
       "    [theme=dark] .colab-df-convert {\n",
       "      background-color: #3B4455;\n",
       "      fill: #D2E3FC;\n",
       "    }\n",
       "\n",
       "    [theme=dark] .colab-df-convert:hover {\n",
       "      background-color: #434B5C;\n",
       "      box-shadow: 0px 1px 3px 1px rgba(0, 0, 0, 0.15);\n",
       "      filter: drop-shadow(0px 1px 2px rgba(0, 0, 0, 0.3));\n",
       "      fill: #FFFFFF;\n",
       "    }\n",
       "  </style>\n",
       "\n",
       "      <script>\n",
       "        const buttonEl =\n",
       "          document.querySelector('#df-2049966e-7523-4c0c-8128-94ac81fc7282 button.colab-df-convert');\n",
       "        buttonEl.style.display =\n",
       "          google.colab.kernel.accessAllowed ? 'block' : 'none';\n",
       "\n",
       "        async function convertToInteractive(key) {\n",
       "          const element = document.querySelector('#df-2049966e-7523-4c0c-8128-94ac81fc7282');\n",
       "          const dataTable =\n",
       "            await google.colab.kernel.invokeFunction('convertToInteractive',\n",
       "                                                     [key], {});\n",
       "          if (!dataTable) return;\n",
       "\n",
       "          const docLinkHtml = 'Like what you see? Visit the ' +\n",
       "            '<a target=\"_blank\" href=https://colab.research.google.com/notebooks/data_table.ipynb>data table notebook</a>'\n",
       "            + ' to learn more about interactive tables.';\n",
       "          element.innerHTML = '';\n",
       "          dataTable['output_type'] = 'display_data';\n",
       "          await google.colab.output.renderOutput(dataTable, element);\n",
       "          const docLink = document.createElement('div');\n",
       "          docLink.innerHTML = docLinkHtml;\n",
       "          element.appendChild(docLink);\n",
       "        }\n",
       "      </script>\n",
       "    </div>\n",
       "  </div>\n",
       "  "
      ],
      "text/plain": [
       "          0    1    2    3    4      5     6    7\n",
       "0       4.0  2.0  2.0  5.0  1.0   2.17   1.0  1.0\n",
       "1       4.0  2.0  2.0  5.0  1.0   2.33   1.0  1.0\n",
       "2       0.0  2.0  2.0  5.0  1.0   2.17   1.0  1.0\n",
       "3       5.0  2.0  2.0  5.0  1.0   2.25   1.0  1.0\n",
       "4       5.0  2.0  2.0  5.0  1.0   2.33   1.0  1.0\n",
       "...     ...  ...  ...  ...  ...    ...   ...  ...\n",
       "300148  5.0  1.0  0.0  3.0  0.0  10.08  49.0  1.0\n",
       "300149  5.0  1.0  0.0  3.0  0.0  10.42  49.0  1.0\n",
       "300150  5.0  1.0  0.0  3.0  0.0  13.83  49.0  1.0\n",
       "300151  5.0  1.0  0.0  3.0  0.0  10.00  49.0  1.0\n",
       "300152  5.0  1.0  0.0  3.0  0.0  10.08  49.0  1.0\n",
       "\n",
       "[300153 rows x 8 columns]"
      ]
     },
     "execution_count": 24,
     "metadata": {},
     "output_type": "execute_result"
    }
   ],
   "source": [
    "corr_x1 = x1.corr().abs()\n",
    "upper_tri = corr_x1.where(np.triu(np.ones(corr_x1.shape), k = 1).astype(np.bool))\n",
    "to_drop = [i for i in upper_tri.columns if any(upper_tri[i] > 0.8)]\n",
    "X = x1.drop(to_drop, axis = 1, inplace= False); X"
   ]
  },
  {
   "cell_type": "code",
   "execution_count": 25,
   "id": "9a478ef1",
   "metadata": {
    "colab": {
     "base_uri": "https://localhost:8080/"
    },
    "id": "9a478ef1",
    "outputId": "4a36a47a-0fbf-4553-ae3c-04f6ae709298"
   },
   "outputs": [
    {
     "data": {
      "text/plain": [
       "[]"
      ]
     },
     "execution_count": 25,
     "metadata": {},
     "output_type": "execute_result"
    }
   ],
   "source": [
    "to_drop"
   ]
  },
  {
   "cell_type": "code",
   "execution_count": 26,
   "id": "0780f5e6",
   "metadata": {
    "colab": {
     "base_uri": "https://localhost:8080/",
     "height": 300
    },
    "id": "0780f5e6",
    "outputId": "a702aaae-dcc8-4eee-bd2a-5a3438f5aa33"
   },
   "outputs": [
    {
     "data": {
      "text/html": [
       "\n",
       "  <div id=\"df-d7a17de6-f1e3-4490-8f9e-b8640d166dc1\">\n",
       "    <div class=\"colab-df-container\">\n",
       "      <div>\n",
       "<style scoped>\n",
       "    .dataframe tbody tr th:only-of-type {\n",
       "        vertical-align: middle;\n",
       "    }\n",
       "\n",
       "    .dataframe tbody tr th {\n",
       "        vertical-align: top;\n",
       "    }\n",
       "\n",
       "    .dataframe thead th {\n",
       "        text-align: right;\n",
       "    }\n",
       "</style>\n",
       "<table border=\"1\" class=\"dataframe\">\n",
       "  <thead>\n",
       "    <tr style=\"text-align: right;\">\n",
       "      <th></th>\n",
       "      <th>0</th>\n",
       "      <th>1</th>\n",
       "      <th>2</th>\n",
       "      <th>3</th>\n",
       "      <th>4</th>\n",
       "      <th>5</th>\n",
       "      <th>6</th>\n",
       "      <th>7</th>\n",
       "    </tr>\n",
       "  </thead>\n",
       "  <tbody>\n",
       "    <tr>\n",
       "      <th>0</th>\n",
       "      <td>1.000000</td>\n",
       "      <td>0.028350</td>\n",
       "      <td>0.029838</td>\n",
       "      <td>0.030172</td>\n",
       "      <td>0.178862</td>\n",
       "      <td>0.001651</td>\n",
       "      <td>0.010678</td>\n",
       "      <td>0.106020</td>\n",
       "    </tr>\n",
       "    <tr>\n",
       "      <th>1</th>\n",
       "      <td>0.028350</td>\n",
       "      <td>1.000000</td>\n",
       "      <td>0.001819</td>\n",
       "      <td>0.222935</td>\n",
       "      <td>0.000075</td>\n",
       "      <td>0.008619</td>\n",
       "      <td>0.003568</td>\n",
       "      <td>0.004136</td>\n",
       "    </tr>\n",
       "    <tr>\n",
       "      <th>2</th>\n",
       "      <td>0.029838</td>\n",
       "      <td>0.001819</td>\n",
       "      <td>1.000000</td>\n",
       "      <td>0.012846</td>\n",
       "      <td>0.100262</td>\n",
       "      <td>0.473860</td>\n",
       "      <td>0.007047</td>\n",
       "      <td>0.055204</td>\n",
       "    </tr>\n",
       "    <tr>\n",
       "      <th>3</th>\n",
       "      <td>0.030172</td>\n",
       "      <td>0.222935</td>\n",
       "      <td>0.012846</td>\n",
       "      <td>1.000000</td>\n",
       "      <td>0.001603</td>\n",
       "      <td>0.001736</td>\n",
       "      <td>0.005323</td>\n",
       "      <td>0.046938</td>\n",
       "    </tr>\n",
       "    <tr>\n",
       "      <th>4</th>\n",
       "      <td>0.178862</td>\n",
       "      <td>0.000075</td>\n",
       "      <td>0.100262</td>\n",
       "      <td>0.001603</td>\n",
       "      <td>1.000000</td>\n",
       "      <td>0.138710</td>\n",
       "      <td>0.013039</td>\n",
       "      <td>0.056198</td>\n",
       "    </tr>\n",
       "    <tr>\n",
       "      <th>5</th>\n",
       "      <td>0.001651</td>\n",
       "      <td>0.008619</td>\n",
       "      <td>0.473860</td>\n",
       "      <td>0.001736</td>\n",
       "      <td>0.138710</td>\n",
       "      <td>1.000000</td>\n",
       "      <td>0.039157</td>\n",
       "      <td>0.026937</td>\n",
       "    </tr>\n",
       "    <tr>\n",
       "      <th>6</th>\n",
       "      <td>0.010678</td>\n",
       "      <td>0.003568</td>\n",
       "      <td>0.007047</td>\n",
       "      <td>0.005323</td>\n",
       "      <td>0.013039</td>\n",
       "      <td>0.039157</td>\n",
       "      <td>1.000000</td>\n",
       "      <td>0.021687</td>\n",
       "    </tr>\n",
       "    <tr>\n",
       "      <th>7</th>\n",
       "      <td>0.106020</td>\n",
       "      <td>0.004136</td>\n",
       "      <td>0.055204</td>\n",
       "      <td>0.046938</td>\n",
       "      <td>0.056198</td>\n",
       "      <td>0.026937</td>\n",
       "      <td>0.021687</td>\n",
       "      <td>1.000000</td>\n",
       "    </tr>\n",
       "  </tbody>\n",
       "</table>\n",
       "</div>\n",
       "      <button class=\"colab-df-convert\" onclick=\"convertToInteractive('df-d7a17de6-f1e3-4490-8f9e-b8640d166dc1')\"\n",
       "              title=\"Convert this dataframe to an interactive table.\"\n",
       "              style=\"display:none;\">\n",
       "        \n",
       "  <svg xmlns=\"http://www.w3.org/2000/svg\" height=\"24px\"viewBox=\"0 0 24 24\"\n",
       "       width=\"24px\">\n",
       "    <path d=\"M0 0h24v24H0V0z\" fill=\"none\"/>\n",
       "    <path d=\"M18.56 5.44l.94 2.06.94-2.06 2.06-.94-2.06-.94-.94-2.06-.94 2.06-2.06.94zm-11 1L8.5 8.5l.94-2.06 2.06-.94-2.06-.94L8.5 2.5l-.94 2.06-2.06.94zm10 10l.94 2.06.94-2.06 2.06-.94-2.06-.94-.94-2.06-.94 2.06-2.06.94z\"/><path d=\"M17.41 7.96l-1.37-1.37c-.4-.4-.92-.59-1.43-.59-.52 0-1.04.2-1.43.59L10.3 9.45l-7.72 7.72c-.78.78-.78 2.05 0 2.83L4 21.41c.39.39.9.59 1.41.59.51 0 1.02-.2 1.41-.59l7.78-7.78 2.81-2.81c.8-.78.8-2.07 0-2.86zM5.41 20L4 18.59l7.72-7.72 1.47 1.35L5.41 20z\"/>\n",
       "  </svg>\n",
       "      </button>\n",
       "      \n",
       "  <style>\n",
       "    .colab-df-container {\n",
       "      display:flex;\n",
       "      flex-wrap:wrap;\n",
       "      gap: 12px;\n",
       "    }\n",
       "\n",
       "    .colab-df-convert {\n",
       "      background-color: #E8F0FE;\n",
       "      border: none;\n",
       "      border-radius: 50%;\n",
       "      cursor: pointer;\n",
       "      display: none;\n",
       "      fill: #1967D2;\n",
       "      height: 32px;\n",
       "      padding: 0 0 0 0;\n",
       "      width: 32px;\n",
       "    }\n",
       "\n",
       "    .colab-df-convert:hover {\n",
       "      background-color: #E2EBFA;\n",
       "      box-shadow: 0px 1px 2px rgba(60, 64, 67, 0.3), 0px 1px 3px 1px rgba(60, 64, 67, 0.15);\n",
       "      fill: #174EA6;\n",
       "    }\n",
       "\n",
       "    [theme=dark] .colab-df-convert {\n",
       "      background-color: #3B4455;\n",
       "      fill: #D2E3FC;\n",
       "    }\n",
       "\n",
       "    [theme=dark] .colab-df-convert:hover {\n",
       "      background-color: #434B5C;\n",
       "      box-shadow: 0px 1px 3px 1px rgba(0, 0, 0, 0.15);\n",
       "      filter: drop-shadow(0px 1px 2px rgba(0, 0, 0, 0.3));\n",
       "      fill: #FFFFFF;\n",
       "    }\n",
       "  </style>\n",
       "\n",
       "      <script>\n",
       "        const buttonEl =\n",
       "          document.querySelector('#df-d7a17de6-f1e3-4490-8f9e-b8640d166dc1 button.colab-df-convert');\n",
       "        buttonEl.style.display =\n",
       "          google.colab.kernel.accessAllowed ? 'block' : 'none';\n",
       "\n",
       "        async function convertToInteractive(key) {\n",
       "          const element = document.querySelector('#df-d7a17de6-f1e3-4490-8f9e-b8640d166dc1');\n",
       "          const dataTable =\n",
       "            await google.colab.kernel.invokeFunction('convertToInteractive',\n",
       "                                                     [key], {});\n",
       "          if (!dataTable) return;\n",
       "\n",
       "          const docLinkHtml = 'Like what you see? Visit the ' +\n",
       "            '<a target=\"_blank\" href=https://colab.research.google.com/notebooks/data_table.ipynb>data table notebook</a>'\n",
       "            + ' to learn more about interactive tables.';\n",
       "          element.innerHTML = '';\n",
       "          dataTable['output_type'] = 'display_data';\n",
       "          await google.colab.output.renderOutput(dataTable, element);\n",
       "          const docLink = document.createElement('div');\n",
       "          docLink.innerHTML = docLinkHtml;\n",
       "          element.appendChild(docLink);\n",
       "        }\n",
       "      </script>\n",
       "    </div>\n",
       "  </div>\n",
       "  "
      ],
      "text/plain": [
       "          0         1         2         3         4         5         6  \\\n",
       "0  1.000000  0.028350  0.029838  0.030172  0.178862  0.001651  0.010678   \n",
       "1  0.028350  1.000000  0.001819  0.222935  0.000075  0.008619  0.003568   \n",
       "2  0.029838  0.001819  1.000000  0.012846  0.100262  0.473860  0.007047   \n",
       "3  0.030172  0.222935  0.012846  1.000000  0.001603  0.001736  0.005323   \n",
       "4  0.178862  0.000075  0.100262  0.001603  1.000000  0.138710  0.013039   \n",
       "5  0.001651  0.008619  0.473860  0.001736  0.138710  1.000000  0.039157   \n",
       "6  0.010678  0.003568  0.007047  0.005323  0.013039  0.039157  1.000000   \n",
       "7  0.106020  0.004136  0.055204  0.046938  0.056198  0.026937  0.021687   \n",
       "\n",
       "          7  \n",
       "0  0.106020  \n",
       "1  0.004136  \n",
       "2  0.055204  \n",
       "3  0.046938  \n",
       "4  0.056198  \n",
       "5  0.026937  \n",
       "6  0.021687  \n",
       "7  1.000000  "
      ]
     },
     "execution_count": 26,
     "metadata": {},
     "output_type": "execute_result"
    }
   ],
   "source": [
    "corr_x1"
   ]
  },
  {
   "cell_type": "markdown",
   "id": "4a619f78",
   "metadata": {
    "id": "4a619f78"
   },
   "source": [
    "## Heatmap"
   ]
  },
  {
   "cell_type": "code",
   "execution_count": 27,
   "id": "505563c3",
   "metadata": {
    "colab": {
     "base_uri": "https://localhost:8080/",
     "height": 487
    },
    "id": "505563c3",
    "outputId": "8532e210-adf6-4546-860b-18407d9acfd3"
   },
   "outputs": [
    {
     "data": {
      "image/png": "[encoded data removed]",
      "text/plain": [
       "<Figure size 1152x576 with 2 Axes>"
      ]
     },
     "metadata": {
      "needs_background": "light"
     },
     "output_type": "display_data"
    }
   ],
   "source": [
    "plt.subplots(figsize = (16,8))\n",
    "sns.heatmap(corr_x1, annot = True)\n",
    "plt.show()"
   ]
  },
  {
   "cell_type": "markdown",
   "id": "878522d1",
   "metadata": {
    "id": "878522d1"
   },
   "source": [
    "# MODEL FITTING"
   ]
  },
  {
   "cell_type": "markdown",
   "id": "28517a1f",
   "metadata": {
    "id": "28517a1f"
   },
   "source": [
    "## Standardizing the data"
   ]
  },
  {
   "cell_type": "code",
   "execution_count": 28,
   "id": "3a62f4a5",
   "metadata": {
    "colab": {
     "base_uri": "https://localhost:8080/"
    },
    "id": "3a62f4a5",
    "outputId": "da47034b-5549-47e4-d328-f6e5b58ad061"
   },
   "outputs": [
    {
     "data": {
      "text/plain": [
       "array([[ 0.48827006, -0.32972125,  2.57700635, ..., -1.39753079,\n",
       "        -1.84387477,  0.40651389],\n",
       "       [ 0.48827006, -0.32972125,  2.57700635, ..., -1.3752838 ,\n",
       "        -1.84387477,  0.40651389],\n",
       "       [-1.69363332, -0.32972125,  2.57700635, ..., -1.39753079,\n",
       "        -1.84387477,  0.40651389],\n",
       "       ...,\n",
       "       [ 1.0337459 , -0.90057609, -0.42679235, ...,  0.22371837,\n",
       "         1.69569214,  0.40651389],\n",
       "       [ 1.0337459 , -0.90057609, -0.42679235, ..., -0.30881888,\n",
       "         1.69569214,  0.40651389],\n",
       "       [ 1.0337459 , -0.90057609, -0.42679235, ..., -0.29769538,\n",
       "         1.69569214,  0.40651389]])"
      ]
     },
     "execution_count": 28,
     "metadata": {},
     "output_type": "execute_result"
    }
   ],
   "source": [
    "from sklearn.preprocessing import StandardScaler\n",
    "sc = StandardScaler()\n",
    "sc.fit_transform(x1)"
   ]
  },
  {
   "cell_type": "markdown",
   "id": "ded0658c",
   "metadata": {
    "id": "ded0658c"
   },
   "source": [
    "## Splitting into train and test dataset"
   ]
  },
  {
   "cell_type": "code",
   "execution_count": 29,
   "id": "0ac54612",
   "metadata": {
    "id": "0ac54612"
   },
   "outputs": [],
   "source": [
    "X_train, X_test, y_train, y_test = train_test_split(x1, y1, test_size = 0.2, random_state = 0)\n",
    "X_train, X_val, y_train, y_val = train_test_split(X_train, y_train, test_size = 0.2, random_state = 0)"
   ]
  },
  {
   "cell_type": "markdown",
   "id": "89ff9ec2",
   "metadata": {
    "id": "89ff9ec2"
   },
   "source": [
    "## 1) Fitting OLS"
   ]
  },
  {
   "cell_type": "code",
   "execution_count": 30,
   "id": "b25a9990",
   "metadata": {
    "colab": {
     "base_uri": "https://localhost:8080/"
    },
    "id": "b25a9990",
    "outputId": "0671c6c4-0170-40d2-c5f3-c8b74580db8b"
   },
   "outputs": [
    {
     "name": "stdout",
     "output_type": "stream",
     "text": [
      "                                 OLS Regression Results                                \n",
      "=======================================================================================\n",
      "Dep. Variable:                      0   R-squared (uncentered):                   0.859\n",
      "Model:                            OLS   Adj. R-squared (uncentered):              0.859\n",
      "Method:                 Least Squares   F-statistic:                          1.458e+05\n",
      "Date:                Tue, 05 Jul 2022   Prob (F-statistic):                        0.00\n",
      "Time:                        15:44:12   Log-Likelihood:                     -2.0705e+06\n",
      "No. Observations:              192097   AIC:                                  4.141e+06\n",
      "Df Residuals:                  192089   BIC:                                  4.141e+06\n",
      "Df Model:                           8                                                  \n",
      "Covariance Type:            nonrobust                                                  \n",
      "==============================================================================\n",
      "                 coef    std err          t      P>|t|      [0.025      0.975]\n",
      "------------------------------------------------------------------------------\n",
      "0           2821.2237     13.770    204.878      0.000    2794.234    2848.213\n",
      "1           1999.4308     14.551    137.412      0.000    1970.912    2027.950\n",
      "2           1581.1525     43.242     36.565      0.000    1496.399    1665.906\n",
      "3           1932.7651     14.686    131.609      0.000    1903.981    1961.549\n",
      "4          -3.644e+04     54.041   -674.313      0.000   -3.65e+04   -3.63e+04\n",
      "5            813.9098      3.695    220.302      0.000     806.669     821.151\n",
      "6            133.2979      1.800     74.060      0.000     129.770     136.826\n",
      "7            1.34e+04     68.196    196.467      0.000    1.33e+04    1.35e+04\n",
      "==============================================================================\n",
      "Omnibus:                     3755.868   Durbin-Watson:                   1.959\n",
      "Prob(Omnibus):                  0.000   Jarque-Bera (JB):             4516.729\n",
      "Skew:                           0.285   Prob(JB):                         0.00\n",
      "Kurtosis:                       3.489   Cond. No.                         83.8\n",
      "==============================================================================\n",
      "\n",
      "Warnings:\n",
      "[1] Standard Errors assume that the covariance matrix of the errors is correctly specified.\n"
     ]
    }
   ],
   "source": [
    "res = sm.OLS(y_train, X_train).fit()\n",
    "print(res.summary())"
   ]
  },
  {
   "cell_type": "code",
   "execution_count": 31,
   "id": "ed39c026",
   "metadata": {
    "id": "ed39c026"
   },
   "outputs": [],
   "source": [
    "y_test_predicted1 = res.predict(X_test)\n",
    "y_val_predicted1 = res.predict(X_val)"
   ]
  },
  {
   "cell_type": "markdown",
   "id": "5ba3e431",
   "metadata": {
    "id": "5ba3e431"
   },
   "source": [
    "## Finding accuarcy of the model"
   ]
  },
  {
   "cell_type": "code",
   "execution_count": 32,
   "id": "7d90489e",
   "metadata": {
    "colab": {
     "base_uri": "https://localhost:8080/"
    },
    "id": "7d90489e",
    "outputId": "17a096cf-3c36-4655-feae-749fd57b30c5"
   },
   "outputs": [
    {
     "name": "stdout",
     "output_type": "stream",
     "text": [
      "Testing accuracy: 0.6950570132620277\n",
      "Validation accuracy: 0.7000388458067089\n"
     ]
    }
   ],
   "source": [
    "print(\"Testing accuracy:\", r2_score(y_test_predicted1,y_test))\n",
    "print(\"Validation accuracy:\",r2_score(y_val_predicted1,y_val))"
   ]
  },
  {
   "cell_type": "markdown",
   "id": "57fde41e",
   "metadata": {
    "id": "57fde41e"
   },
   "source": [
    "### OLS was chosen due to its simplicity but as the accuracy is not good we try to fit other models."
   ]
  },
  {
   "cell_type": "markdown",
   "id": "b1db3eb9",
   "metadata": {
    "id": "b1db3eb9"
   },
   "source": [
    "## 2) Fitting Linear model"
   ]
  },
  {
   "cell_type": "code",
   "execution_count": 33,
   "id": "fe1c478b",
   "metadata": {
    "colab": {
     "base_uri": "https://localhost:8080/"
    },
    "id": "fe1c478b",
    "outputId": "6f8e9ef6-176f-42f8-ec95-627f238cd0c8"
   },
   "outputs": [
    {
     "data": {
      "text/plain": [
       "LinearRegression()"
      ]
     },
     "execution_count": 33,
     "metadata": {},
     "output_type": "execute_result"
    }
   ],
   "source": [
    "from sklearn.linear_model import LinearRegression\n",
    "lr = LinearRegression()\n",
    "lr.fit(X_train,y_train)"
   ]
  },
  {
   "cell_type": "code",
   "execution_count": 34,
   "id": "461946b4",
   "metadata": {
    "id": "461946b4"
   },
   "outputs": [],
   "source": [
    "y_test_predicted2 = lr.predict(X_test)\n",
    "y_val_predicted2 = lr.predict(X_val)"
   ]
  },
  {
   "cell_type": "markdown",
   "id": "d288b0d6",
   "metadata": {
    "id": "d288b0d6"
   },
   "source": [
    "## Finding accuarcy of the model\n"
   ]
  },
  {
   "cell_type": "code",
   "execution_count": 35,
   "id": "5fa627d7",
   "metadata": {
    "colab": {
     "base_uri": "https://localhost:8080/"
    },
    "id": "5fa627d7",
    "outputId": "4719ef2f-b2ea-4123-d91a-cba576ed558d"
   },
   "outputs": [
    {
     "name": "stdout",
     "output_type": "stream",
     "text": [
      "Testing accuracy: 0.8952073931453933\n",
      "Validation accuracy: 0.8950269354318166\n"
     ]
    }
   ],
   "source": [
    "from sklearn.metrics import r2_score\n",
    "print(\"Testing accuracy:\", r2_score(y_test_predicted2,y_test))\n",
    "print(\"Validation accuracy:\",r2_score(y_val_predicted2,y_val))\n"
   ]
  },
  {
   "cell_type": "markdown",
   "id": "6e056297",
   "metadata": {
    "id": "6e056297"
   },
   "source": [
    "### Linear regression is used for it's easier implementation and efficiency in training and in this case it gives us an accuracy of 89.5%."
   ]
  },
  {
   "cell_type": "markdown",
   "id": "c4dfc9a0",
   "metadata": {
    "id": "c4dfc9a0"
   },
   "source": [
    "### Next we fit the LASSO and RIDGE models in an attempt for improved accuracy."
   ]
  },
  {
   "cell_type": "markdown",
   "id": "1df50eaa",
   "metadata": {
    "id": "1df50eaa"
   },
   "source": [
    "## 3) Fitting Ridge model"
   ]
  },
  {
   "cell_type": "code",
   "execution_count": 36,
   "id": "7f2645b5",
   "metadata": {
    "colab": {
     "base_uri": "https://localhost:8080/"
    },
    "id": "7f2645b5",
    "outputId": "192dc581-c146-463e-e0a5-4a34412f3340"
   },
   "outputs": [
    {
     "data": {
      "text/plain": [
       "Ridge(alpha=0.9)"
      ]
     },
     "execution_count": 36,
     "metadata": {},
     "output_type": "execute_result"
    }
   ],
   "source": [
    "ridge_regressor = Ridge(alpha = 0.9)\n",
    "ridge_regressor.fit(X_train, y_train)"
   ]
  },
  {
   "cell_type": "code",
   "execution_count": 37,
   "id": "21ba9362",
   "metadata": {
    "id": "21ba9362"
   },
   "outputs": [],
   "source": [
    "y_test_predicted3 = ridge_regressor.predict(X_test)\n",
    "y_val_predicted3 = ridge_regressor.predict(X_val)"
   ]
  },
  {
   "cell_type": "markdown",
   "id": "43624a64",
   "metadata": {
    "id": "43624a64"
   },
   "source": [
    "## Finding accuracy of the model"
   ]
  },
  {
   "cell_type": "code",
   "execution_count": 38,
   "id": "f58cf62d",
   "metadata": {
    "colab": {
     "base_uri": "https://localhost:8080/"
    },
    "id": "f58cf62d",
    "outputId": "32e465e4-9ae1-40ed-8bb9-670e8367cb17"
   },
   "outputs": [
    {
     "name": "stdout",
     "output_type": "stream",
     "text": [
      "Testing accuracy: 0.8952031499386621\n",
      "Validation accuracy: 0.8950225037282965\n"
     ]
    }
   ],
   "source": [
    "print(\"Testing accuracy:\", r2_score(y_test_predicted3,y_test))\n",
    "print(\"Validation accuracy:\",r2_score(y_val_predicted3,y_val))"
   ]
  },
  {
   "cell_type": "markdown",
   "id": "781132fe",
   "metadata": {
    "id": "781132fe"
   },
   "source": [
    "## 4) Fitting Lasso model"
   ]
  },
  {
   "cell_type": "code",
   "execution_count": 39,
   "id": "369aaf89",
   "metadata": {
    "colab": {
     "base_uri": "https://localhost:8080/"
    },
    "id": "369aaf89",
    "outputId": "4651a277-d2fe-4695-b2e2-b8d62ea1fa9a"
   },
   "outputs": [
    {
     "data": {
      "text/plain": [
       "Lasso(alpha=0.9)"
      ]
     },
     "execution_count": 39,
     "metadata": {},
     "output_type": "execute_result"
    }
   ],
   "source": [
    "lasso_regressor = linear_model.Lasso(alpha = 0.9)\n",
    "lasso_regressor.fit(X_train, y_train)"
   ]
  },
  {
   "cell_type": "code",
   "execution_count": 40,
   "id": "169d6d5c",
   "metadata": {
    "id": "169d6d5c"
   },
   "outputs": [],
   "source": [
    "y_test_predicted4 = lasso_regressor.predict(X_test)\n",
    "y_val_predicted4 = lasso_regressor.predict(X_val)"
   ]
  },
  {
   "cell_type": "markdown",
   "id": "15ea9172",
   "metadata": {
    "id": "15ea9172"
   },
   "source": [
    "## Finding accuracy of the model"
   ]
  },
  {
   "cell_type": "code",
   "execution_count": 41,
   "id": "3b3f0c08",
   "metadata": {
    "colab": {
     "base_uri": "https://localhost:8080/"
    },
    "id": "3b3f0c08",
    "outputId": "fb47878b-a61d-421e-987d-f6a2e46f9f56"
   },
   "outputs": [
    {
     "name": "stdout",
     "output_type": "stream",
     "text": [
      "Testing accuracy: 0.8951878954171775\n",
      "Validation accuracy: 0.8950061903363784\n"
     ]
    }
   ],
   "source": [
    "print(\"Testing accuracy:\", r2_score(y_test_predicted4,y_test))\n",
    "print(\"Validation accuracy:\",r2_score(y_val_predicted4,y_val))"
   ]
  },
  {
   "cell_type": "markdown",
   "id": "8db97475",
   "metadata": {
    "id": "8db97475"
   },
   "source": [
    "### Both the LASSO and RIDGE models gives us an accuracy of 89.5% which is same as that of a linear regression model."
   ]
  },
  {
   "cell_type": "markdown",
   "id": "18a69b85",
   "metadata": {
    "id": "18a69b85"
   },
   "source": [
    "## FINAL CONCLUSION"
   ]
  },
  {
   "cell_type": "code",
   "execution_count": 42,
   "id": "e7b2bb15",
   "metadata": {
    "colab": {
     "base_uri": "https://localhost:8080/",
     "height": 175
    },
    "id": "e7b2bb15",
    "outputId": "991646f6-84d4-4bd7-f50f-1ccc7f1782fc"
   },
   "outputs": [
    {
     "data": {
      "text/html": [
       "\n",
       "  <div id=\"df-b03b3740-5dfd-4bac-be83-5b34a44b499a\">\n",
       "    <div class=\"colab-df-container\">\n",
       "      <div>\n",
       "<style scoped>\n",
       "    .dataframe tbody tr th:only-of-type {\n",
       "        vertical-align: middle;\n",
       "    }\n",
       "\n",
       "    .dataframe tbody tr th {\n",
       "        vertical-align: top;\n",
       "    }\n",
       "\n",
       "    .dataframe thead th {\n",
       "        text-align: right;\n",
       "    }\n",
       "</style>\n",
       "<table border=\"1\" class=\"dataframe\">\n",
       "  <thead>\n",
       "    <tr style=\"text-align: right;\">\n",
       "      <th></th>\n",
       "      <th>Models</th>\n",
       "      <th>Test_Accuracy</th>\n",
       "      <th>Validation_Accuracy</th>\n",
       "    </tr>\n",
       "  </thead>\n",
       "  <tbody>\n",
       "    <tr>\n",
       "      <th>0</th>\n",
       "      <td>OLS</td>\n",
       "      <td>0.695057</td>\n",
       "      <td>0.700039</td>\n",
       "    </tr>\n",
       "    <tr>\n",
       "      <th>1</th>\n",
       "      <td>Linear</td>\n",
       "      <td>0.895207</td>\n",
       "      <td>0.895027</td>\n",
       "    </tr>\n",
       "    <tr>\n",
       "      <th>2</th>\n",
       "      <td>Ridge</td>\n",
       "      <td>0.895203</td>\n",
       "      <td>0.895023</td>\n",
       "    </tr>\n",
       "    <tr>\n",
       "      <th>3</th>\n",
       "      <td>Lasso</td>\n",
       "      <td>0.895188</td>\n",
       "      <td>0.895006</td>\n",
       "    </tr>\n",
       "  </tbody>\n",
       "</table>\n",
       "</div>\n",
       "      <button class=\"colab-df-convert\" onclick=\"convertToInteractive('df-b03b3740-5dfd-4bac-be83-5b34a44b499a')\"\n",
       "              title=\"Convert this dataframe to an interactive table.\"\n",
       "              style=\"display:none;\">\n",
       "        \n",
       "  <svg xmlns=\"http://www.w3.org/2000/svg\" height=\"24px\"viewBox=\"0 0 24 24\"\n",
       "       width=\"24px\">\n",
       "    <path d=\"M0 0h24v24H0V0z\" fill=\"none\"/>\n",
       "    <path d=\"M18.56 5.44l.94 2.06.94-2.06 2.06-.94-2.06-.94-.94-2.06-.94 2.06-2.06.94zm-11 1L8.5 8.5l.94-2.06 2.06-.94-2.06-.94L8.5 2.5l-.94 2.06-2.06.94zm10 10l.94 2.06.94-2.06 2.06-.94-2.06-.94-.94-2.06-.94 2.06-2.06.94z\"/><path d=\"M17.41 7.96l-1.37-1.37c-.4-.4-.92-.59-1.43-.59-.52 0-1.04.2-1.43.59L10.3 9.45l-7.72 7.72c-.78.78-.78 2.05 0 2.83L4 21.41c.39.39.9.59 1.41.59.51 0 1.02-.2 1.41-.59l7.78-7.78 2.81-2.81c.8-.78.8-2.07 0-2.86zM5.41 20L4 18.59l7.72-7.72 1.47 1.35L5.41 20z\"/>\n",
       "  </svg>\n",
       "      </button>\n",
       "      \n",
       "  <style>\n",
       "    .colab-df-container {\n",
       "      display:flex;\n",
       "      flex-wrap:wrap;\n",
       "      gap: 12px;\n",
       "    }\n",
       "\n",
       "    .colab-df-convert {\n",
       "      background-color: #E8F0FE;\n",
       "      border: none;\n",
       "      border-radius: 50%;\n",
       "      cursor: pointer;\n",
       "      display: none;\n",
       "      fill: #1967D2;\n",
       "      height: 32px;\n",
       "      padding: 0 0 0 0;\n",
       "      width: 32px;\n",
       "    }\n",
       "\n",
       "    .colab-df-convert:hover {\n",
       "      background-color: #E2EBFA;\n",
       "      box-shadow: 0px 1px 2px rgba(60, 64, 67, 0.3), 0px 1px 3px 1px rgba(60, 64, 67, 0.15);\n",
       "      fill: #174EA6;\n",
       "    }\n",
       "\n",
       "    [theme=dark] .colab-df-convert {\n",
       "      background-color: #3B4455;\n",
       "      fill: #D2E3FC;\n",
       "    }\n",
       "\n",
       "    [theme=dark] .colab-df-convert:hover {\n",
       "      background-color: #434B5C;\n",
       "      box-shadow: 0px 1px 3px 1px rgba(0, 0, 0, 0.15);\n",
       "      filter: drop-shadow(0px 1px 2px rgba(0, 0, 0, 0.3));\n",
       "      fill: #FFFFFF;\n",
       "    }\n",
       "  </style>\n",
       "\n",
       "      <script>\n",
       "        const buttonEl =\n",
       "          document.querySelector('#df-b03b3740-5dfd-4bac-be83-5b34a44b499a button.colab-df-convert');\n",
       "        buttonEl.style.display =\n",
       "          google.colab.kernel.accessAllowed ? 'block' : 'none';\n",
       "\n",
       "        async function convertToInteractive(key) {\n",
       "          const element = document.querySelector('#df-b03b3740-5dfd-4bac-be83-5b34a44b499a');\n",
       "          const dataTable =\n",
       "            await google.colab.kernel.invokeFunction('convertToInteractive',\n",
       "                                                     [key], {});\n",
       "          if (!dataTable) return;\n",
       "\n",
       "          const docLinkHtml = 'Like what you see? Visit the ' +\n",
       "            '<a target=\"_blank\" href=https://colab.research.google.com/notebooks/data_table.ipynb>data table notebook</a>'\n",
       "            + ' to learn more about interactive tables.';\n",
       "          element.innerHTML = '';\n",
       "          dataTable['output_type'] = 'display_data';\n",
       "          await google.colab.output.renderOutput(dataTable, element);\n",
       "          const docLink = document.createElement('div');\n",
       "          docLink.innerHTML = docLinkHtml;\n",
       "          element.appendChild(docLink);\n",
       "        }\n",
       "      </script>\n",
       "    </div>\n",
       "  </div>\n",
       "  "
      ],
      "text/plain": [
       "   Models  Test_Accuracy  Validation_Accuracy\n",
       "0     OLS       0.695057             0.700039\n",
       "1  Linear       0.895207             0.895027\n",
       "2   Ridge       0.895203             0.895023\n",
       "3   Lasso       0.895188             0.895006"
      ]
     },
     "execution_count": 42,
     "metadata": {},
     "output_type": "execute_result"
    }
   ],
   "source": [
    "pd.DataFrame({'Models':['OLS','Linear','Ridge','Lasso'],\n",
    "              'Test_Accuracy':[r2_score(y_test_predicted1,y_test),r2_score(y_test_predicted2,y_test),r2_score(y_test_predicted3,y_test),r2_score(y_test_predicted4,y_test)],\n",
    "             'Validation_Accuracy':[r2_score(y_val_predicted1,y_val),r2_score(y_val_predicted2,y_val),r2_score(y_val_predicted3,y_val),r2_score(y_val_predicted4,y_val)]})"
   ]
  },
  {
   "cell_type": "markdown",
   "id": "99b4947f",
   "metadata": {
    "id": "99b4947f"
   },
   "source": [
    "### Above 4 models have been fit to the data.\n",
    "\n",
    "### 1) OLS(Ordinary Least Squares): The test and validation accuracy of the model were 69% and 70% respectively.\n",
    "\n",
    "### Hence we tried to fit a LINEAR model. \n",
    "### 2) For the Linear model the test and validation accuracy were 89.5% each.\n",
    "\n",
    "### Next we tried to check for a further possible improvement of accuracy for which the LASSO and RIDGE models were implemented.\n",
    "\n",
    "### 3) RIDGE: The test and validation accuracy of the model was 89.5% each.\n",
    "### 4) LASSO: The test and validation accuracy of the model was again 89.5% each.\n",
    "\n",
    "### Hence we conclude that adding a regularizer doesn't improve the accuracy in this case.\n",
    "\n",
    "## Hence we choose a LINEAR regression model for it's easier implementation, interpretability and efficiency in training."
   ]
  },
  {
   "cell_type": "markdown",
   "id": "38dcdb17",
   "metadata": {
    "id": "38dcdb17"
   },
   "source": [
    "## MODEL BUILDING (PEAK VS NON-PEAK HOURS)\n",
    "\n",
    "#### We have successfully built a linear model predicting the price of flight tickets. \n",
    "\n",
    "#### Now we aim to build a model that predicts the flight prices for peak and non-peak hours. \n",
    "\n",
    "#### This is quite helpful as passengers often want to see the price differences between various available tickets at different times so that they can travel at their desired time for least price and maximum comfort. It also helps the airlines keep a track of people's choice of flight times and adjust the prices accordingly. "
   ]
  },
  {
   "cell_type": "markdown",
   "id": "5034843e",
   "metadata": {
    "id": "5034843e"
   },
   "source": [
    "## Segregating the dataset based on operating hours(Peak VS Non-Peak)"
   ]
  },
  {
   "cell_type": "code",
   "execution_count": 43,
   "id": "35144e12",
   "metadata": {
    "colab": {
     "base_uri": "https://localhost:8080/",
     "height": 424
    },
    "id": "35144e12",
    "outputId": "14a1fb81-67bd-44fa-c01f-262c2f31b3af"
   },
   "outputs": [
    {
     "data": {
      "text/html": [
       "\n",
       "  <div id=\"df-8591d550-57bb-40ba-a0b7-7f0bace16e6f\">\n",
       "    <div class=\"colab-df-container\">\n",
       "      <div>\n",
       "<style scoped>\n",
       "    .dataframe tbody tr th:only-of-type {\n",
       "        vertical-align: middle;\n",
       "    }\n",
       "\n",
       "    .dataframe tbody tr th {\n",
       "        vertical-align: top;\n",
       "    }\n",
       "\n",
       "    .dataframe thead th {\n",
       "        text-align: right;\n",
       "    }\n",
       "</style>\n",
       "<table border=\"1\" class=\"dataframe\">\n",
       "  <thead>\n",
       "    <tr style=\"text-align: right;\">\n",
       "      <th></th>\n",
       "      <th>airline</th>\n",
       "      <th>source_city</th>\n",
       "      <th>stops</th>\n",
       "      <th>destination_city</th>\n",
       "      <th>CLASS</th>\n",
       "      <th>duration</th>\n",
       "      <th>days_left</th>\n",
       "      <th>price</th>\n",
       "      <th>operating_time</th>\n",
       "    </tr>\n",
       "  </thead>\n",
       "  <tbody>\n",
       "    <tr>\n",
       "      <th>0</th>\n",
       "      <td>4</td>\n",
       "      <td>2</td>\n",
       "      <td>2</td>\n",
       "      <td>5</td>\n",
       "      <td>1</td>\n",
       "      <td>2.17</td>\n",
       "      <td>1</td>\n",
       "      <td>5953</td>\n",
       "      <td>1</td>\n",
       "    </tr>\n",
       "    <tr>\n",
       "      <th>1</th>\n",
       "      <td>4</td>\n",
       "      <td>2</td>\n",
       "      <td>2</td>\n",
       "      <td>5</td>\n",
       "      <td>1</td>\n",
       "      <td>2.33</td>\n",
       "      <td>1</td>\n",
       "      <td>5953</td>\n",
       "      <td>1</td>\n",
       "    </tr>\n",
       "    <tr>\n",
       "      <th>2</th>\n",
       "      <td>0</td>\n",
       "      <td>2</td>\n",
       "      <td>2</td>\n",
       "      <td>5</td>\n",
       "      <td>1</td>\n",
       "      <td>2.17</td>\n",
       "      <td>1</td>\n",
       "      <td>5956</td>\n",
       "      <td>1</td>\n",
       "    </tr>\n",
       "    <tr>\n",
       "      <th>3</th>\n",
       "      <td>5</td>\n",
       "      <td>2</td>\n",
       "      <td>2</td>\n",
       "      <td>5</td>\n",
       "      <td>1</td>\n",
       "      <td>2.25</td>\n",
       "      <td>1</td>\n",
       "      <td>5955</td>\n",
       "      <td>1</td>\n",
       "    </tr>\n",
       "    <tr>\n",
       "      <th>4</th>\n",
       "      <td>5</td>\n",
       "      <td>2</td>\n",
       "      <td>2</td>\n",
       "      <td>5</td>\n",
       "      <td>1</td>\n",
       "      <td>2.33</td>\n",
       "      <td>1</td>\n",
       "      <td>5955</td>\n",
       "      <td>1</td>\n",
       "    </tr>\n",
       "    <tr>\n",
       "      <th>...</th>\n",
       "      <td>...</td>\n",
       "      <td>...</td>\n",
       "      <td>...</td>\n",
       "      <td>...</td>\n",
       "      <td>...</td>\n",
       "      <td>...</td>\n",
       "      <td>...</td>\n",
       "      <td>...</td>\n",
       "      <td>...</td>\n",
       "    </tr>\n",
       "    <tr>\n",
       "      <th>300148</th>\n",
       "      <td>5</td>\n",
       "      <td>1</td>\n",
       "      <td>0</td>\n",
       "      <td>3</td>\n",
       "      <td>0</td>\n",
       "      <td>10.08</td>\n",
       "      <td>49</td>\n",
       "      <td>69265</td>\n",
       "      <td>1</td>\n",
       "    </tr>\n",
       "    <tr>\n",
       "      <th>300149</th>\n",
       "      <td>5</td>\n",
       "      <td>1</td>\n",
       "      <td>0</td>\n",
       "      <td>3</td>\n",
       "      <td>0</td>\n",
       "      <td>10.42</td>\n",
       "      <td>49</td>\n",
       "      <td>77105</td>\n",
       "      <td>1</td>\n",
       "    </tr>\n",
       "    <tr>\n",
       "      <th>300150</th>\n",
       "      <td>5</td>\n",
       "      <td>1</td>\n",
       "      <td>0</td>\n",
       "      <td>3</td>\n",
       "      <td>0</td>\n",
       "      <td>13.83</td>\n",
       "      <td>49</td>\n",
       "      <td>79099</td>\n",
       "      <td>1</td>\n",
       "    </tr>\n",
       "    <tr>\n",
       "      <th>300151</th>\n",
       "      <td>5</td>\n",
       "      <td>1</td>\n",
       "      <td>0</td>\n",
       "      <td>3</td>\n",
       "      <td>0</td>\n",
       "      <td>10.00</td>\n",
       "      <td>49</td>\n",
       "      <td>81585</td>\n",
       "      <td>1</td>\n",
       "    </tr>\n",
       "    <tr>\n",
       "      <th>300152</th>\n",
       "      <td>5</td>\n",
       "      <td>1</td>\n",
       "      <td>0</td>\n",
       "      <td>3</td>\n",
       "      <td>0</td>\n",
       "      <td>10.08</td>\n",
       "      <td>49</td>\n",
       "      <td>81585</td>\n",
       "      <td>1</td>\n",
       "    </tr>\n",
       "  </tbody>\n",
       "</table>\n",
       "<p>257586 rows × 9 columns</p>\n",
       "</div>\n",
       "      <button class=\"colab-df-convert\" onclick=\"convertToInteractive('df-8591d550-57bb-40ba-a0b7-7f0bace16e6f')\"\n",
       "              title=\"Convert this dataframe to an interactive table.\"\n",
       "              style=\"display:none;\">\n",
       "        \n",
       "  <svg xmlns=\"http://www.w3.org/2000/svg\" height=\"24px\"viewBox=\"0 0 24 24\"\n",
       "       width=\"24px\">\n",
       "    <path d=\"M0 0h24v24H0V0z\" fill=\"none\"/>\n",
       "    <path d=\"M18.56 5.44l.94 2.06.94-2.06 2.06-.94-2.06-.94-.94-2.06-.94 2.06-2.06.94zm-11 1L8.5 8.5l.94-2.06 2.06-.94-2.06-.94L8.5 2.5l-.94 2.06-2.06.94zm10 10l.94 2.06.94-2.06 2.06-.94-2.06-.94-.94-2.06-.94 2.06-2.06.94z\"/><path d=\"M17.41 7.96l-1.37-1.37c-.4-.4-.92-.59-1.43-.59-.52 0-1.04.2-1.43.59L10.3 9.45l-7.72 7.72c-.78.78-.78 2.05 0 2.83L4 21.41c.39.39.9.59 1.41.59.51 0 1.02-.2 1.41-.59l7.78-7.78 2.81-2.81c.8-.78.8-2.07 0-2.86zM5.41 20L4 18.59l7.72-7.72 1.47 1.35L5.41 20z\"/>\n",
       "  </svg>\n",
       "      </button>\n",
       "      \n",
       "  <style>\n",
       "    .colab-df-container {\n",
       "      display:flex;\n",
       "      flex-wrap:wrap;\n",
       "      gap: 12px;\n",
       "    }\n",
       "\n",
       "    .colab-df-convert {\n",
       "      background-color: #E8F0FE;\n",
       "      border: none;\n",
       "      border-radius: 50%;\n",
       "      cursor: pointer;\n",
       "      display: none;\n",
       "      fill: #1967D2;\n",
       "      height: 32px;\n",
       "      padding: 0 0 0 0;\n",
       "      width: 32px;\n",
       "    }\n",
       "\n",
       "    .colab-df-convert:hover {\n",
       "      background-color: #E2EBFA;\n",
       "      box-shadow: 0px 1px 2px rgba(60, 64, 67, 0.3), 0px 1px 3px 1px rgba(60, 64, 67, 0.15);\n",
       "      fill: #174EA6;\n",
       "    }\n",
       "\n",
       "    [theme=dark] .colab-df-convert {\n",
       "      background-color: #3B4455;\n",
       "      fill: #D2E3FC;\n",
       "    }\n",
       "\n",
       "    [theme=dark] .colab-df-convert:hover {\n",
       "      background-color: #434B5C;\n",
       "      box-shadow: 0px 1px 3px 1px rgba(0, 0, 0, 0.15);\n",
       "      filter: drop-shadow(0px 1px 2px rgba(0, 0, 0, 0.3));\n",
       "      fill: #FFFFFF;\n",
       "    }\n",
       "  </style>\n",
       "\n",
       "      <script>\n",
       "        const buttonEl =\n",
       "          document.querySelector('#df-8591d550-57bb-40ba-a0b7-7f0bace16e6f button.colab-df-convert');\n",
       "        buttonEl.style.display =\n",
       "          google.colab.kernel.accessAllowed ? 'block' : 'none';\n",
       "\n",
       "        async function convertToInteractive(key) {\n",
       "          const element = document.querySelector('#df-8591d550-57bb-40ba-a0b7-7f0bace16e6f');\n",
       "          const dataTable =\n",
       "            await google.colab.kernel.invokeFunction('convertToInteractive',\n",
       "                                                     [key], {});\n",
       "          if (!dataTable) return;\n",
       "\n",
       "          const docLinkHtml = 'Like what you see? Visit the ' +\n",
       "            '<a target=\"_blank\" href=https://colab.research.google.com/notebooks/data_table.ipynb>data table notebook</a>'\n",
       "            + ' to learn more about interactive tables.';\n",
       "          element.innerHTML = '';\n",
       "          dataTable['output_type'] = 'display_data';\n",
       "          await google.colab.output.renderOutput(dataTable, element);\n",
       "          const docLink = document.createElement('div');\n",
       "          docLink.innerHTML = docLinkHtml;\n",
       "          element.appendChild(docLink);\n",
       "        }\n",
       "      </script>\n",
       "    </div>\n",
       "  </div>\n",
       "  "
      ],
      "text/plain": [
       "        airline  source_city  stops  destination_city  CLASS  duration  \\\n",
       "0             4            2      2                 5      1      2.17   \n",
       "1             4            2      2                 5      1      2.33   \n",
       "2             0            2      2                 5      1      2.17   \n",
       "3             5            2      2                 5      1      2.25   \n",
       "4             5            2      2                 5      1      2.33   \n",
       "...         ...          ...    ...               ...    ...       ...   \n",
       "300148        5            1      0                 3      0     10.08   \n",
       "300149        5            1      0                 3      0     10.42   \n",
       "300150        5            1      0                 3      0     13.83   \n",
       "300151        5            1      0                 3      0     10.00   \n",
       "300152        5            1      0                 3      0     10.08   \n",
       "\n",
       "        days_left  price  operating_time  \n",
       "0               1   5953               1  \n",
       "1               1   5953               1  \n",
       "2               1   5956               1  \n",
       "3               1   5955               1  \n",
       "4               1   5955               1  \n",
       "...           ...    ...             ...  \n",
       "300148         49  69265               1  \n",
       "300149         49  77105               1  \n",
       "300150         49  79099               1  \n",
       "300151         49  81585               1  \n",
       "300152         49  81585               1  \n",
       "\n",
       "[257586 rows x 9 columns]"
      ]
     },
     "execution_count": 43,
     "metadata": {},
     "output_type": "execute_result"
    }
   ],
   "source": [
    "df1_p = df1[df1['operating_time'] == 1]\n",
    "df1_p"
   ]
  },
  {
   "cell_type": "code",
   "execution_count": 44,
   "id": "e478a966",
   "metadata": {
    "colab": {
     "base_uri": "https://localhost:8080/",
     "height": 424
    },
    "id": "e478a966",
    "outputId": "117acb86-30ff-4c35-89e2-1b2000b6b52b"
   },
   "outputs": [
    {
     "data": {
      "text/html": [
       "\n",
       "  <div id=\"df-bf145f6b-01d4-47b5-a5b3-8684b172e5ac\">\n",
       "    <div class=\"colab-df-container\">\n",
       "      <div>\n",
       "<style scoped>\n",
       "    .dataframe tbody tr th:only-of-type {\n",
       "        vertical-align: middle;\n",
       "    }\n",
       "\n",
       "    .dataframe tbody tr th {\n",
       "        vertical-align: top;\n",
       "    }\n",
       "\n",
       "    .dataframe thead th {\n",
       "        text-align: right;\n",
       "    }\n",
       "</style>\n",
       "<table border=\"1\" class=\"dataframe\">\n",
       "  <thead>\n",
       "    <tr style=\"text-align: right;\">\n",
       "      <th></th>\n",
       "      <th>airline</th>\n",
       "      <th>source_city</th>\n",
       "      <th>stops</th>\n",
       "      <th>destination_city</th>\n",
       "      <th>CLASS</th>\n",
       "      <th>duration</th>\n",
       "      <th>days_left</th>\n",
       "      <th>price</th>\n",
       "      <th>operating_time</th>\n",
       "    </tr>\n",
       "  </thead>\n",
       "  <tbody>\n",
       "    <tr>\n",
       "      <th>18</th>\n",
       "      <td>0</td>\n",
       "      <td>2</td>\n",
       "      <td>0</td>\n",
       "      <td>5</td>\n",
       "      <td>1</td>\n",
       "      <td>12.25</td>\n",
       "      <td>1</td>\n",
       "      <td>5949</td>\n",
       "      <td>0</td>\n",
       "    </tr>\n",
       "    <tr>\n",
       "      <th>34</th>\n",
       "      <td>5</td>\n",
       "      <td>2</td>\n",
       "      <td>0</td>\n",
       "      <td>5</td>\n",
       "      <td>1</td>\n",
       "      <td>18.00</td>\n",
       "      <td>1</td>\n",
       "      <td>12150</td>\n",
       "      <td>0</td>\n",
       "    </tr>\n",
       "    <tr>\n",
       "      <th>41</th>\n",
       "      <td>1</td>\n",
       "      <td>2</td>\n",
       "      <td>0</td>\n",
       "      <td>5</td>\n",
       "      <td>1</td>\n",
       "      <td>19.08</td>\n",
       "      <td>1</td>\n",
       "      <td>12150</td>\n",
       "      <td>0</td>\n",
       "    </tr>\n",
       "    <tr>\n",
       "      <th>48</th>\n",
       "      <td>0</td>\n",
       "      <td>2</td>\n",
       "      <td>0</td>\n",
       "      <td>5</td>\n",
       "      <td>1</td>\n",
       "      <td>15.17</td>\n",
       "      <td>1</td>\n",
       "      <td>12539</td>\n",
       "      <td>0</td>\n",
       "    </tr>\n",
       "    <tr>\n",
       "      <th>70</th>\n",
       "      <td>5</td>\n",
       "      <td>2</td>\n",
       "      <td>0</td>\n",
       "      <td>5</td>\n",
       "      <td>1</td>\n",
       "      <td>26.42</td>\n",
       "      <td>1</td>\n",
       "      <td>14408</td>\n",
       "      <td>0</td>\n",
       "    </tr>\n",
       "    <tr>\n",
       "      <th>...</th>\n",
       "      <td>...</td>\n",
       "      <td>...</td>\n",
       "      <td>...</td>\n",
       "      <td>...</td>\n",
       "      <td>...</td>\n",
       "      <td>...</td>\n",
       "      <td>...</td>\n",
       "      <td>...</td>\n",
       "      <td>...</td>\n",
       "    </tr>\n",
       "    <tr>\n",
       "      <th>300118</th>\n",
       "      <td>5</td>\n",
       "      <td>1</td>\n",
       "      <td>0</td>\n",
       "      <td>3</td>\n",
       "      <td>0</td>\n",
       "      <td>11.33</td>\n",
       "      <td>49</td>\n",
       "      <td>41064</td>\n",
       "      <td>0</td>\n",
       "    </tr>\n",
       "    <tr>\n",
       "      <th>300121</th>\n",
       "      <td>5</td>\n",
       "      <td>1</td>\n",
       "      <td>0</td>\n",
       "      <td>3</td>\n",
       "      <td>0</td>\n",
       "      <td>19.33</td>\n",
       "      <td>49</td>\n",
       "      <td>41064</td>\n",
       "      <td>0</td>\n",
       "    </tr>\n",
       "    <tr>\n",
       "      <th>300122</th>\n",
       "      <td>5</td>\n",
       "      <td>1</td>\n",
       "      <td>0</td>\n",
       "      <td>3</td>\n",
       "      <td>0</td>\n",
       "      <td>22.08</td>\n",
       "      <td>49</td>\n",
       "      <td>41064</td>\n",
       "      <td>0</td>\n",
       "    </tr>\n",
       "    <tr>\n",
       "      <th>300124</th>\n",
       "      <td>5</td>\n",
       "      <td>1</td>\n",
       "      <td>0</td>\n",
       "      <td>3</td>\n",
       "      <td>0</td>\n",
       "      <td>24.42</td>\n",
       "      <td>49</td>\n",
       "      <td>41064</td>\n",
       "      <td>0</td>\n",
       "    </tr>\n",
       "    <tr>\n",
       "      <th>300137</th>\n",
       "      <td>5</td>\n",
       "      <td>1</td>\n",
       "      <td>0</td>\n",
       "      <td>3</td>\n",
       "      <td>0</td>\n",
       "      <td>25.83</td>\n",
       "      <td>49</td>\n",
       "      <td>51457</td>\n",
       "      <td>0</td>\n",
       "    </tr>\n",
       "  </tbody>\n",
       "</table>\n",
       "<p>42567 rows × 9 columns</p>\n",
       "</div>\n",
       "      <button class=\"colab-df-convert\" onclick=\"convertToInteractive('df-bf145f6b-01d4-47b5-a5b3-8684b172e5ac')\"\n",
       "              title=\"Convert this dataframe to an interactive table.\"\n",
       "              style=\"display:none;\">\n",
       "        \n",
       "  <svg xmlns=\"http://www.w3.org/2000/svg\" height=\"24px\"viewBox=\"0 0 24 24\"\n",
       "       width=\"24px\">\n",
       "    <path d=\"M0 0h24v24H0V0z\" fill=\"none\"/>\n",
       "    <path d=\"M18.56 5.44l.94 2.06.94-2.06 2.06-.94-2.06-.94-.94-2.06-.94 2.06-2.06.94zm-11 1L8.5 8.5l.94-2.06 2.06-.94-2.06-.94L8.5 2.5l-.94 2.06-2.06.94zm10 10l.94 2.06.94-2.06 2.06-.94-2.06-.94-.94-2.06-.94 2.06-2.06.94z\"/><path d=\"M17.41 7.96l-1.37-1.37c-.4-.4-.92-.59-1.43-.59-.52 0-1.04.2-1.43.59L10.3 9.45l-7.72 7.72c-.78.78-.78 2.05 0 2.83L4 21.41c.39.39.9.59 1.41.59.51 0 1.02-.2 1.41-.59l7.78-7.78 2.81-2.81c.8-.78.8-2.07 0-2.86zM5.41 20L4 18.59l7.72-7.72 1.47 1.35L5.41 20z\"/>\n",
       "  </svg>\n",
       "      </button>\n",
       "      \n",
       "  <style>\n",
       "    .colab-df-container {\n",
       "      display:flex;\n",
       "      flex-wrap:wrap;\n",
       "      gap: 12px;\n",
       "    }\n",
       "\n",
       "    .colab-df-convert {\n",
       "      background-color: #E8F0FE;\n",
       "      border: none;\n",
       "      border-radius: 50%;\n",
       "      cursor: pointer;\n",
       "      display: none;\n",
       "      fill: #1967D2;\n",
       "      height: 32px;\n",
       "      padding: 0 0 0 0;\n",
       "      width: 32px;\n",
       "    }\n",
       "\n",
       "    .colab-df-convert:hover {\n",
       "      background-color: #E2EBFA;\n",
       "      box-shadow: 0px 1px 2px rgba(60, 64, 67, 0.3), 0px 1px 3px 1px rgba(60, 64, 67, 0.15);\n",
       "      fill: #174EA6;\n",
       "    }\n",
       "\n",
       "    [theme=dark] .colab-df-convert {\n",
       "      background-color: #3B4455;\n",
       "      fill: #D2E3FC;\n",
       "    }\n",
       "\n",
       "    [theme=dark] .colab-df-convert:hover {\n",
       "      background-color: #434B5C;\n",
       "      box-shadow: 0px 1px 3px 1px rgba(0, 0, 0, 0.15);\n",
       "      filter: drop-shadow(0px 1px 2px rgba(0, 0, 0, 0.3));\n",
       "      fill: #FFFFFF;\n",
       "    }\n",
       "  </style>\n",
       "\n",
       "      <script>\n",
       "        const buttonEl =\n",
       "          document.querySelector('#df-bf145f6b-01d4-47b5-a5b3-8684b172e5ac button.colab-df-convert');\n",
       "        buttonEl.style.display =\n",
       "          google.colab.kernel.accessAllowed ? 'block' : 'none';\n",
       "\n",
       "        async function convertToInteractive(key) {\n",
       "          const element = document.querySelector('#df-bf145f6b-01d4-47b5-a5b3-8684b172e5ac');\n",
       "          const dataTable =\n",
       "            await google.colab.kernel.invokeFunction('convertToInteractive',\n",
       "                                                     [key], {});\n",
       "          if (!dataTable) return;\n",
       "\n",
       "          const docLinkHtml = 'Like what you see? Visit the ' +\n",
       "            '<a target=\"_blank\" href=https://colab.research.google.com/notebooks/data_table.ipynb>data table notebook</a>'\n",
       "            + ' to learn more about interactive tables.';\n",
       "          element.innerHTML = '';\n",
       "          dataTable['output_type'] = 'display_data';\n",
       "          await google.colab.output.renderOutput(dataTable, element);\n",
       "          const docLink = document.createElement('div');\n",
       "          docLink.innerHTML = docLinkHtml;\n",
       "          element.appendChild(docLink);\n",
       "        }\n",
       "      </script>\n",
       "    </div>\n",
       "  </div>\n",
       "  "
      ],
      "text/plain": [
       "        airline  source_city  stops  destination_city  CLASS  duration  \\\n",
       "18            0            2      0                 5      1     12.25   \n",
       "34            5            2      0                 5      1     18.00   \n",
       "41            1            2      0                 5      1     19.08   \n",
       "48            0            2      0                 5      1     15.17   \n",
       "70            5            2      0                 5      1     26.42   \n",
       "...         ...          ...    ...               ...    ...       ...   \n",
       "300118        5            1      0                 3      0     11.33   \n",
       "300121        5            1      0                 3      0     19.33   \n",
       "300122        5            1      0                 3      0     22.08   \n",
       "300124        5            1      0                 3      0     24.42   \n",
       "300137        5            1      0                 3      0     25.83   \n",
       "\n",
       "        days_left  price  operating_time  \n",
       "18              1   5949               0  \n",
       "34              1  12150               0  \n",
       "41              1  12150               0  \n",
       "48              1  12539               0  \n",
       "70              1  14408               0  \n",
       "...           ...    ...             ...  \n",
       "300118         49  41064               0  \n",
       "300121         49  41064               0  \n",
       "300122         49  41064               0  \n",
       "300124         49  41064               0  \n",
       "300137         49  51457               0  \n",
       "\n",
       "[42567 rows x 9 columns]"
      ]
     },
     "execution_count": 44,
     "metadata": {},
     "output_type": "execute_result"
    }
   ],
   "source": [
    "df1_np = df1[df1['operating_time'] == 0]\n",
    "df1_np"
   ]
  },
  {
   "cell_type": "markdown",
   "id": "e4b1c27c",
   "metadata": {
    "id": "e4b1c27c"
   },
   "source": [
    "## Selecting feature matrix and target column(for df1_p)"
   ]
  },
  {
   "cell_type": "code",
   "execution_count": 45,
   "id": "72aPKq8niHPH",
   "metadata": {
    "id": "72aPKq8niHPH"
   },
   "outputs": [],
   "source": [
    "x11 = df1_p.drop([\"price\"],axis = 1).values\n",
    "y11 = df1_p[\"price\"].values\n",
    "x11 = pd.DataFrame(x11)\n",
    "y11 = pd.DataFrame(y11)"
   ]
  },
  {
   "cell_type": "markdown",
   "id": "dda43159",
   "metadata": {
    "id": "dda43159"
   },
   "source": [
    "## Standardizing the data"
   ]
  },
  {
   "cell_type": "code",
   "execution_count": 46,
   "id": "7e4869b5",
   "metadata": {
    "colab": {
     "base_uri": "https://localhost:8080/"
    },
    "id": "7e4869b5",
    "outputId": "bf18947f-4e36-4a1c-bf79-badf6aeec3bb"
   },
   "outputs": [
    {
     "data": {
      "text/plain": [
       "array([[ 0.44766658, -0.325956  ,  2.66699186, ..., -1.39679199,\n",
       "        -1.83087046,  0.        ],\n",
       "       [ 0.44766658, -0.325956  ,  2.66699186, ..., -1.37438116,\n",
       "        -1.83087046,  0.        ],\n",
       "       [-1.74646613, -0.325956  ,  2.66699186, ..., -1.39679199,\n",
       "        -1.83087046,  0.        ],\n",
       "       ...,\n",
       "       [ 0.99619976, -0.8931843 , -0.41485796, ...,  0.23639685,\n",
       "         1.70061803,  0.        ],\n",
       "       [ 0.99619976, -0.8931843 , -0.41485796, ..., -0.30006226,\n",
       "         1.70061803,  0.        ],\n",
       "       [ 0.99619976, -0.8931843 , -0.41485796, ..., -0.28885685,\n",
       "         1.70061803,  0.        ]])"
      ]
     },
     "execution_count": 46,
     "metadata": {},
     "output_type": "execute_result"
    }
   ],
   "source": [
    "from sklearn.preprocessing import StandardScaler\n",
    "sc = StandardScaler()\n",
    "sc.fit_transform(x11)"
   ]
  },
  {
   "cell_type": "markdown",
   "id": "910793f3",
   "metadata": {
    "id": "910793f3"
   },
   "source": [
    "## Splitting into train and test dataset"
   ]
  },
  {
   "cell_type": "code",
   "execution_count": 47,
   "id": "1c81f529",
   "metadata": {
    "id": "1c81f529"
   },
   "outputs": [],
   "source": [
    "X_train_p, X_test_p, y_train_p, y_test_p = train_test_split(x11, y11, test_size = 0.2, random_state = 0)\n",
    "X_train_p, X_val_p, y_train_p, y_val_p = train_test_split(X_train_p, y_train_p, test_size = 0.2, random_state = 0)"
   ]
  },
  {
   "cell_type": "markdown",
   "id": "9f858b30",
   "metadata": {
    "id": "9f858b30"
   },
   "source": [
    "## Fitting Linear model"
   ]
  },
  {
   "cell_type": "markdown",
   "id": "fb303ff0",
   "metadata": {
    "id": "fb303ff0"
   },
   "source": [
    "### Here we are fitting a linear model as we have previously seen that it gives us the best result for this dataset."
   ]
  },
  {
   "cell_type": "code",
   "execution_count": 48,
   "id": "42b202e3",
   "metadata": {
    "colab": {
     "base_uri": "https://localhost:8080/"
    },
    "id": "42b202e3",
    "outputId": "6d6a073b-adb4-434f-b9ce-8dd7fb9dab95"
   },
   "outputs": [
    {
     "data": {
      "text/plain": [
       "LinearRegression()"
      ]
     },
     "execution_count": 48,
     "metadata": {},
     "output_type": "execute_result"
    }
   ],
   "source": [
    "from sklearn.linear_model import LinearRegression\n",
    "lr = LinearRegression()\n",
    "lr.fit(X_train_p,y_train_p)"
   ]
  },
  {
   "cell_type": "code",
   "execution_count": 49,
   "id": "e9b505e5",
   "metadata": {
    "id": "e9b505e5"
   },
   "outputs": [],
   "source": [
    "y_test_predicted_p = lr.predict(X_test_p)\n",
    "y_val_predicted_p = lr.predict(X_val_p)"
   ]
  },
  {
   "cell_type": "markdown",
   "id": "0f540732",
   "metadata": {
    "id": "0f540732"
   },
   "source": [
    "## Finding accuracy of the model"
   ]
  },
  {
   "cell_type": "code",
   "execution_count": 50,
   "id": "0b2c373c",
   "metadata": {
    "colab": {
     "base_uri": "https://localhost:8080/"
    },
    "id": "0b2c373c",
    "outputId": "da51b2c0-3cd3-4fb7-c346-59c4c9220921"
   },
   "outputs": [
    {
     "name": "stdout",
     "output_type": "stream",
     "text": [
      "Testing accuracy: 0.8954872865385664\n",
      "Validation accuracy: 0.8948347547793266\n"
     ]
    }
   ],
   "source": [
    "from sklearn.metrics import r2_score\n",
    "print(\"Testing accuracy:\", r2_score(y_test_predicted_p,y_test_p))\n",
    "print(\"Validation accuracy:\",r2_score(y_val_predicted_p,y_val_p))"
   ]
  },
  {
   "cell_type": "markdown",
   "id": "9d444ce3",
   "metadata": {
    "id": "9d444ce3"
   },
   "source": [
    "## Selecting feature matrix and target column(for df1_np)"
   ]
  },
  {
   "cell_type": "code",
   "execution_count": 51,
   "id": "a5f32640",
   "metadata": {
    "id": "a5f32640"
   },
   "outputs": [],
   "source": [
    "x12 = df1_p.drop([\"price\"],axis = 1).values\n",
    "y12 = df1_p[\"price\"].values\n",
    "x12 = pd.DataFrame(x12)\n",
    "y12 = pd.DataFrame(y12)"
   ]
  },
  {
   "cell_type": "markdown",
   "id": "98813655",
   "metadata": {
    "id": "98813655"
   },
   "source": [
    "## Standardizing the data"
   ]
  },
  {
   "cell_type": "code",
   "execution_count": 52,
   "id": "6177abe0",
   "metadata": {
    "colab": {
     "base_uri": "https://localhost:8080/"
    },
    "id": "6177abe0",
    "outputId": "e902c68d-1de1-46cb-bd5a-e6140affaa31"
   },
   "outputs": [
    {
     "data": {
      "text/plain": [
       "array([[ 0.44766658, -0.325956  ,  2.66699186, ..., -1.39679199,\n",
       "        -1.83087046,  0.        ],\n",
       "       [ 0.44766658, -0.325956  ,  2.66699186, ..., -1.37438116,\n",
       "        -1.83087046,  0.        ],\n",
       "       [-1.74646613, -0.325956  ,  2.66699186, ..., -1.39679199,\n",
       "        -1.83087046,  0.        ],\n",
       "       ...,\n",
       "       [ 0.99619976, -0.8931843 , -0.41485796, ...,  0.23639685,\n",
       "         1.70061803,  0.        ],\n",
       "       [ 0.99619976, -0.8931843 , -0.41485796, ..., -0.30006226,\n",
       "         1.70061803,  0.        ],\n",
       "       [ 0.99619976, -0.8931843 , -0.41485796, ..., -0.28885685,\n",
       "         1.70061803,  0.        ]])"
      ]
     },
     "execution_count": 52,
     "metadata": {},
     "output_type": "execute_result"
    }
   ],
   "source": [
    "from sklearn.preprocessing import StandardScaler\n",
    "sc = StandardScaler()\n",
    "sc.fit_transform(x12)"
   ]
  },
  {
   "cell_type": "markdown",
   "id": "88cce6b0",
   "metadata": {
    "id": "88cce6b0"
   },
   "source": [
    "## Splitting into train and test dataset"
   ]
  },
  {
   "cell_type": "code",
   "execution_count": 53,
   "id": "eea80aa5",
   "metadata": {
    "id": "eea80aa5"
   },
   "outputs": [],
   "source": [
    "X_train_np, X_test_np, y_train_np, y_test_np = train_test_split(x12, y12, test_size = 0.2, random_state = 0)\n",
    "X_train_np, X_val_np, y_train_np, y_val_np = train_test_split(X_train_np, y_train_np, test_size = 0.2, random_state = 0)"
   ]
  },
  {
   "cell_type": "markdown",
   "id": "fef0a986",
   "metadata": {
    "id": "fef0a986"
   },
   "source": [
    "## Fitting Linear model"
   ]
  },
  {
   "cell_type": "markdown",
   "id": "4d79e9ca",
   "metadata": {
    "id": "4d79e9ca"
   },
   "source": [
    "### Here we again fit a linear model as we have previously seen that it gives us the best result for this dataset."
   ]
  },
  {
   "cell_type": "code",
   "execution_count": 54,
   "id": "d263fe58",
   "metadata": {
    "colab": {
     "base_uri": "https://localhost:8080/"
    },
    "id": "d263fe58",
    "outputId": "2a45558b-878a-439e-9c6f-1f1eb94c1984"
   },
   "outputs": [
    {
     "data": {
      "text/plain": [
       "LinearRegression()"
      ]
     },
     "execution_count": 54,
     "metadata": {},
     "output_type": "execute_result"
    }
   ],
   "source": [
    "from sklearn.linear_model import LinearRegression\n",
    "lr = LinearRegression()\n",
    "lr.fit(X_train_np,y_train_np)"
   ]
  },
  {
   "cell_type": "code",
   "execution_count": 55,
   "id": "99c19053",
   "metadata": {
    "id": "99c19053"
   },
   "outputs": [],
   "source": [
    "y_test_predicted_np = lr.predict(X_test_np)\n",
    "y_val_predicted_np = lr.predict(X_val_np)"
   ]
  },
  {
   "cell_type": "markdown",
   "id": "8240b31a",
   "metadata": {
    "id": "8240b31a"
   },
   "source": [
    "## Finding accuracy of the model"
   ]
  },
  {
   "cell_type": "code",
   "execution_count": 56,
   "id": "51c83cd6",
   "metadata": {
    "colab": {
     "base_uri": "https://localhost:8080/"
    },
    "id": "51c83cd6",
    "outputId": "d523914b-5f47-445a-d428-382722b33d37"
   },
   "outputs": [
    {
     "name": "stdout",
     "output_type": "stream",
     "text": [
      "Testing accuracy: 0.8954872865385664\n",
      "Validation accuracy: 0.8948347547793266\n"
     ]
    }
   ],
   "source": [
    "from sklearn.metrics import r2_score\n",
    "print(\"Testing accuracy:\", r2_score(y_test_predicted_np,y_test_np))\n",
    "print(\"Validation accuracy:\",r2_score(y_val_predicted_np,y_val_np))"
   ]
  },
  {
   "cell_type": "markdown",
   "id": "ab154c27",
   "metadata": {
    "id": "ab154c27"
   },
   "source": [
    "### Above we have built and trained 2 models for predicting flight prices at peak and non-peak hours both at an accuracy of 89.5%."
   ]
  },
  {
   "cell_type": "markdown",
   "id": "fbe4f8a5",
   "metadata": {
    "id": "fbe4f8a5"
   },
   "source": [
    "## APPLYING DIFFERENT OPTIMIZERS "
   ]
  },
  {
   "cell_type": "markdown",
   "id": "aeaf3f50",
   "metadata": {
    "id": "aeaf3f50"
   },
   "source": [
    "### Here we apply different optimizers to reduce the loss or improve the accuracy of the model. We further compare the optimizers to see which optimizer(s) gives us the best output."
   ]
  },
  {
   "cell_type": "markdown",
   "id": "3c68b34c",
   "metadata": {
    "id": "3c68b34c"
   },
   "source": [
    "## REGRESSION USING ANN"
   ]
  },
  {
   "cell_type": "markdown",
   "id": "296b09e2",
   "metadata": {
    "id": "296b09e2"
   },
   "source": [
    "### Here we use ANN to handle the multiple features of the input dataset"
   ]
  },
  {
   "cell_type": "code",
   "execution_count": 57,
   "id": "3049a122",
   "metadata": {
    "id": "3049a122"
   },
   "outputs": [],
   "source": [
    "hidden_units1 = 160\n",
    "hidden_units2 = 480\n",
    "hidden_units3 = 256\n",
    "learning_rate = 0.001\n",
    "# Creating model using the Sequential in tensorflow\n",
    "def build_model_using_sequential():\n",
    "  model = Sequential([\n",
    "    Dense(hidden_units1, kernel_initializer='normal', activation='relu'),\n",
    "    #Dropout(0.2),\n",
    "    Dense(hidden_units2, kernel_initializer='normal', activation='relu'),\n",
    "    Dropout(0.2),\n",
    "    Dense(hidden_units3, kernel_initializer='normal', activation='relu'),\n",
    "    Dense(1, kernel_initializer='normal', activation='linear')\n",
    "  ])\n",
    "  return model\n",
    "# build the model\n",
    "model = build_model_using_sequential()"
   ]
  },
  {
   "cell_type": "markdown",
   "id": "73c32bd0",
   "metadata": {
    "id": "73c32bd0"
   },
   "source": [
    "## 1) STOCHASTIC GRADIENT DESCENT"
   ]
  },
  {
   "cell_type": "code",
   "execution_count": 59,
   "id": "86053a89",
   "metadata": {
    "colab": {
     "base_uri": "https://localhost:8080/"
    },
    "id": "86053a89",
    "outputId": "b9010a57-d9ff-48b6-8345-670a0127b28c",
    "scrolled": true
   },
   "outputs": [
    {
     "name": "stdout",
     "output_type": "stream",
     "text": [
      "Epoch 1/20\n",
      "153677/153677 [==============================] - 315s 2ms/step - loss: 0.9951 - mean_squared_logarithmic_error: 0.9951 - val_loss: 0.9359 - val_mean_squared_logarithmic_error: 0.9359\n",
      "Epoch 2/20\n",
      "153677/153677 [==============================] - 297s 2ms/step - loss: 0.8589 - mean_squared_logarithmic_error: 0.8589 - val_loss: 0.7459 - val_mean_squared_logarithmic_error: 0.7459\n",
      "Epoch 3/20\n",
      "153677/153677 [==============================] - 295s 2ms/step - loss: 0.5304 - mean_squared_logarithmic_error: 0.5304 - val_loss: 0.3192 - val_mean_squared_logarithmic_error: 0.3192\n",
      "Epoch 4/20\n",
      "153677/153677 [==============================] - 296s 2ms/step - loss: 0.2229 - mean_squared_logarithmic_error: 0.2229 - val_loss: 0.1694 - val_mean_squared_logarithmic_error: 0.1694\n",
      "Epoch 5/20\n",
      "153677/153677 [==============================] - 295s 2ms/step - loss: 0.1359 - mean_squared_logarithmic_error: 0.1359 - val_loss: 0.1169 - val_mean_squared_logarithmic_error: 0.1169\n",
      "Epoch 6/20\n",
      "153677/153677 [==============================] - 299s 2ms/step - loss: 0.1130 - mean_squared_logarithmic_error: 0.1130 - val_loss: 0.1048 - val_mean_squared_logarithmic_error: 0.1048\n",
      "Epoch 7/20\n",
      "153677/153677 [==============================] - 296s 2ms/step - loss: 0.1043 - mean_squared_logarithmic_error: 0.1043 - val_loss: 0.1048 - val_mean_squared_logarithmic_error: 0.1048\n",
      "Epoch 8/20\n",
      "153677/153677 [==============================] - 301s 2ms/step - loss: 0.0996 - mean_squared_logarithmic_error: 0.0996 - val_loss: 0.0943 - val_mean_squared_logarithmic_error: 0.0943\n",
      "Epoch 9/20\n",
      "153677/153677 [==============================] - 295s 2ms/step - loss: 0.0967 - mean_squared_logarithmic_error: 0.0967 - val_loss: 0.0925 - val_mean_squared_logarithmic_error: 0.0925\n",
      "Epoch 10/20\n",
      "153677/153677 [==============================] - 301s 2ms/step - loss: 0.0949 - mean_squared_logarithmic_error: 0.0949 - val_loss: 0.0922 - val_mean_squared_logarithmic_error: 0.0922\n",
      "Epoch 11/20\n",
      "153677/153677 [==============================] - 299s 2ms/step - loss: 0.0936 - mean_squared_logarithmic_error: 0.0936 - val_loss: 0.0932 - val_mean_squared_logarithmic_error: 0.0932\n",
      "Epoch 12/20\n",
      "153677/153677 [==============================] - 295s 2ms/step - loss: 0.0924 - mean_squared_logarithmic_error: 0.0924 - val_loss: 0.0957 - val_mean_squared_logarithmic_error: 0.0957\n",
      "Epoch 13/20\n",
      "153677/153677 [==============================] - 297s 2ms/step - loss: 0.0916 - mean_squared_logarithmic_error: 0.0916 - val_loss: 0.0917 - val_mean_squared_logarithmic_error: 0.0917\n",
      "Epoch 14/20\n",
      "153677/153677 [==============================] - 299s 2ms/step - loss: 0.0908 - mean_squared_logarithmic_error: 0.0908 - val_loss: 0.0883 - val_mean_squared_logarithmic_error: 0.0883\n",
      "Epoch 15/20\n",
      "153677/153677 [==============================] - 300s 2ms/step - loss: 0.0902 - mean_squared_logarithmic_error: 0.0902 - val_loss: 0.0871 - val_mean_squared_logarithmic_error: 0.0871\n",
      "Epoch 16/20\n",
      "153677/153677 [==============================] - 293s 2ms/step - loss: 0.0898 - mean_squared_logarithmic_error: 0.0898 - val_loss: 0.0878 - val_mean_squared_logarithmic_error: 0.0878\n",
      "Epoch 17/20\n",
      "153677/153677 [==============================] - 292s 2ms/step - loss: 0.0893 - mean_squared_logarithmic_error: 0.0893 - val_loss: 0.0881 - val_mean_squared_logarithmic_error: 0.0881\n",
      "Epoch 18/20\n",
      "153677/153677 [==============================] - 290s 2ms/step - loss: 0.0889 - mean_squared_logarithmic_error: 0.0889 - val_loss: 0.0864 - val_mean_squared_logarithmic_error: 0.0864\n",
      "Epoch 19/20\n",
      "153677/153677 [==============================] - 308s 2ms/step - loss: 0.0884 - mean_squared_logarithmic_error: 0.0884 - val_loss: 0.0861 - val_mean_squared_logarithmic_error: 0.0861\n",
      "Epoch 20/20\n",
      "153677/153677 [==============================] - 309s 2ms/step - loss: 0.0880 - mean_squared_logarithmic_error: 0.0880 - val_loss: 0.0860 - val_mean_squared_logarithmic_error: 0.0860\n"
     ]
    }
   ],
   "source": [
    "# loss function\n",
    "msle = MeanSquaredLogarithmicError()\n",
    "model.compile(\n",
    "    loss = msle, \n",
    "    optimizer = SGD(learning_rate=learning_rate), \n",
    "    metrics = [msle]\n",
    ")\n",
    "# train the model\n",
    "history1 = model.fit(\n",
    "    X_train, \n",
    "    y_train.values, \n",
    "    epochs=20, \n",
    "    batch_size=1,\n",
    "    validation_split=0.2\n",
    ")"
   ]
  },
  {
   "cell_type": "code",
   "execution_count": 60,
   "id": "ae84c01b",
   "metadata": {
    "id": "ae84c01b"
   },
   "outputs": [],
   "source": [
    "def plot_history(history, key, title):\n",
    "  plt.plot(history.history[key])\n",
    "  plt.plot(history.history['val_'+key])\n",
    "  plt.title(title)\n",
    "  plt.xlabel(\"Iterations\")\n",
    "  plt.ylabel(key)\n",
    "  plt.legend(['training_'+key, 'validation_'+key])\n",
    "  plt.show()"
   ]
  },
  {
   "cell_type": "code",
   "execution_count": 61,
   "id": "d6d00218",
   "metadata": {
    "colab": {
     "base_uri": "https://localhost:8080/",
     "height": 295
    },
    "id": "d6d00218",
    "outputId": "a232249e-a361-4085-eaa3-60cb070fc421"
   },
   "outputs": [
    {
     "data": {
      "image/png": "[encoded data removed]",
      "text/plain": [
       "<Figure size 432x288 with 1 Axes>"
      ]
     },
     "metadata": {
      "needs_background": "light"
     },
     "output_type": "display_data"
    }
   ],
   "source": [
    "plot_history(history1, 'loss', 'Loss for SGD')"
   ]
  },
  {
   "cell_type": "code",
   "execution_count": 62,
   "id": "4a9da789",
   "metadata": {
    "id": "4a9da789"
   },
   "outputs": [],
   "source": [
    "y_pred = model.predict(X_test)"
   ]
  },
  {
   "cell_type": "code",
   "execution_count": 63,
   "id": "cced9417",
   "metadata": {
    "colab": {
     "base_uri": "https://localhost:8080/"
    },
    "id": "cced9417",
    "outputId": "293728d5-90ce-46b3-e7fb-e399561ff4d6"
   },
   "outputs": [
    {
     "name": "stdout",
     "output_type": "stream",
     "text": [
      "Accuracy obtained by SGD  0.9289095675248266\n"
     ]
    }
   ],
   "source": [
    "r_SGD = r2_score(y_test, y_pred)\n",
    "print('Accuracy obtained by SGD ', r_SGD)"
   ]
  },
  {
   "cell_type": "markdown",
   "id": "ed81cb8b",
   "metadata": {
    "id": "ed81cb8b"
   },
   "source": [
    "## 2) SGD USING MINIBATCHING\n"
   ]
  },
  {
   "cell_type": "code",
   "execution_count": 64,
   "id": "d3340513",
   "metadata": {
    "colab": {
     "base_uri": "https://localhost:8080/"
    },
    "id": "d3340513",
    "outputId": "a646569f-1cfb-4a8b-c3fc-7d370d074890",
    "scrolled": true
   },
   "outputs": [
    {
     "name": "stdout",
     "output_type": "stream",
     "text": [
      "Epoch 1/50\n",
      "2402/2402 [==============================] - 17s 7ms/step - loss: 0.0863 - mean_squared_logarithmic_error: 0.0863 - val_loss: 0.0847 - val_mean_squared_logarithmic_error: 0.0847\n",
      "Epoch 2/50\n",
      "2402/2402 [==============================] - 12s 5ms/step - loss: 0.0860 - mean_squared_logarithmic_error: 0.0860 - val_loss: 0.0845 - val_mean_squared_logarithmic_error: 0.0845\n",
      "Epoch 3/50\n",
      "2402/2402 [==============================] - 12s 5ms/step - loss: 0.0859 - mean_squared_logarithmic_error: 0.0858 - val_loss: 0.0845 - val_mean_squared_logarithmic_error: 0.0844\n",
      "Epoch 4/50\n",
      "2402/2402 [==============================] - 13s 5ms/step - loss: 0.0859 - mean_squared_logarithmic_error: 0.0858 - val_loss: 0.0845 - val_mean_squared_logarithmic_error: 0.0844\n",
      "Epoch 5/50\n",
      "2402/2402 [==============================] - 12s 5ms/step - loss: 0.0859 - mean_squared_logarithmic_error: 0.0859 - val_loss: 0.0845 - val_mean_squared_logarithmic_error: 0.0844\n",
      "Epoch 6/50\n",
      "2402/2402 [==============================] - 12s 5ms/step - loss: 0.0859 - mean_squared_logarithmic_error: 0.0859 - val_loss: 0.0845 - val_mean_squared_logarithmic_error: 0.0844\n",
      "Epoch 7/50\n",
      "2402/2402 [==============================] - 12s 5ms/step - loss: 0.0859 - mean_squared_logarithmic_error: 0.0859 - val_loss: 0.0844 - val_mean_squared_logarithmic_error: 0.0844\n",
      "Epoch 8/50\n",
      "2402/2402 [==============================] - 12s 5ms/step - loss: 0.0857 - mean_squared_logarithmic_error: 0.0857 - val_loss: 0.0844 - val_mean_squared_logarithmic_error: 0.0844\n",
      "Epoch 9/50\n",
      "2402/2402 [==============================] - 13s 5ms/step - loss: 0.0858 - mean_squared_logarithmic_error: 0.0858 - val_loss: 0.0844 - val_mean_squared_logarithmic_error: 0.0843\n",
      "Epoch 10/50\n",
      "2402/2402 [==============================] - 12s 5ms/step - loss: 0.0858 - mean_squared_logarithmic_error: 0.0858 - val_loss: 0.0844 - val_mean_squared_logarithmic_error: 0.0843\n",
      "Epoch 11/50\n",
      "2402/2402 [==============================] - 13s 5ms/step - loss: 0.0858 - mean_squared_logarithmic_error: 0.0858 - val_loss: 0.0844 - val_mean_squared_logarithmic_error: 0.0844\n",
      "Epoch 12/50\n",
      "2402/2402 [==============================] - 12s 5ms/step - loss: 0.0858 - mean_squared_logarithmic_error: 0.0858 - val_loss: 0.0843 - val_mean_squared_logarithmic_error: 0.0843\n",
      "Epoch 13/50\n",
      "2402/2402 [==============================] - 13s 5ms/step - loss: 0.0858 - mean_squared_logarithmic_error: 0.0858 - val_loss: 0.0843 - val_mean_squared_logarithmic_error: 0.0843\n",
      "Epoch 14/50\n",
      "2402/2402 [==============================] - 12s 5ms/step - loss: 0.0857 - mean_squared_logarithmic_error: 0.0857 - val_loss: 0.0843 - val_mean_squared_logarithmic_error: 0.0843\n",
      "Epoch 15/50\n",
      "2402/2402 [==============================] - 12s 5ms/step - loss: 0.0858 - mean_squared_logarithmic_error: 0.0857 - val_loss: 0.0843 - val_mean_squared_logarithmic_error: 0.0843\n",
      "Epoch 16/50\n",
      "2402/2402 [==============================] - 13s 5ms/step - loss: 0.0857 - mean_squared_logarithmic_error: 0.0858 - val_loss: 0.0843 - val_mean_squared_logarithmic_error: 0.0843\n",
      "Epoch 17/50\n",
      "2402/2402 [==============================] - 13s 5ms/step - loss: 0.0857 - mean_squared_logarithmic_error: 0.0857 - val_loss: 0.0844 - val_mean_squared_logarithmic_error: 0.0843\n",
      "Epoch 18/50\n",
      "2402/2402 [==============================] - 12s 5ms/step - loss: 0.0858 - mean_squared_logarithmic_error: 0.0858 - val_loss: 0.0843 - val_mean_squared_logarithmic_error: 0.0843\n",
      "Epoch 19/50\n",
      "2402/2402 [==============================] - 12s 5ms/step - loss: 0.0857 - mean_squared_logarithmic_error: 0.0857 - val_loss: 0.0843 - val_mean_squared_logarithmic_error: 0.0842\n",
      "Epoch 20/50\n",
      "2402/2402 [==============================] - 12s 5ms/step - loss: 0.0857 - mean_squared_logarithmic_error: 0.0857 - val_loss: 0.0843 - val_mean_squared_logarithmic_error: 0.0842\n",
      "Epoch 21/50\n",
      "2402/2402 [==============================] - 14s 6ms/step - loss: 0.0858 - mean_squared_logarithmic_error: 0.0858 - val_loss: 0.0843 - val_mean_squared_logarithmic_error: 0.0843\n",
      "Epoch 22/50\n",
      "2402/2402 [==============================] - 12s 5ms/step - loss: 0.0856 - mean_squared_logarithmic_error: 0.0856 - val_loss: 0.0843 - val_mean_squared_logarithmic_error: 0.0842\n",
      "Epoch 23/50\n",
      "2402/2402 [==============================] - 12s 5ms/step - loss: 0.0856 - mean_squared_logarithmic_error: 0.0856 - val_loss: 0.0842 - val_mean_squared_logarithmic_error: 0.0842\n",
      "Epoch 24/50\n",
      "2402/2402 [==============================] - 12s 5ms/step - loss: 0.0857 - mean_squared_logarithmic_error: 0.0856 - val_loss: 0.0843 - val_mean_squared_logarithmic_error: 0.0843\n",
      "Epoch 25/50\n",
      "2402/2402 [==============================] - 12s 5ms/step - loss: 0.0857 - mean_squared_logarithmic_error: 0.0857 - val_loss: 0.0843 - val_mean_squared_logarithmic_error: 0.0842\n",
      "Epoch 26/50\n",
      "2402/2402 [==============================] - 13s 5ms/step - loss: 0.0856 - mean_squared_logarithmic_error: 0.0856 - val_loss: 0.0843 - val_mean_squared_logarithmic_error: 0.0842\n",
      "Epoch 27/50\n",
      "2402/2402 [==============================] - 12s 5ms/step - loss: 0.0856 - mean_squared_logarithmic_error: 0.0856 - val_loss: 0.0842 - val_mean_squared_logarithmic_error: 0.0842\n",
      "Epoch 28/50\n",
      "2402/2402 [==============================] - 13s 5ms/step - loss: 0.0857 - mean_squared_logarithmic_error: 0.0857 - val_loss: 0.0842 - val_mean_squared_logarithmic_error: 0.0842\n",
      "Epoch 29/50\n",
      "2402/2402 [==============================] - 13s 5ms/step - loss: 0.0856 - mean_squared_logarithmic_error: 0.0856 - val_loss: 0.0842 - val_mean_squared_logarithmic_error: 0.0842\n",
      "Epoch 30/50\n",
      "2402/2402 [==============================] - 13s 5ms/step - loss: 0.0857 - mean_squared_logarithmic_error: 0.0857 - val_loss: 0.0842 - val_mean_squared_logarithmic_error: 0.0842\n",
      "Epoch 31/50\n",
      "2402/2402 [==============================] - 13s 5ms/step - loss: 0.0856 - mean_squared_logarithmic_error: 0.0856 - val_loss: 0.0842 - val_mean_squared_logarithmic_error: 0.0842\n",
      "Epoch 32/50\n",
      "2402/2402 [==============================] - 13s 5ms/step - loss: 0.0856 - mean_squared_logarithmic_error: 0.0856 - val_loss: 0.0842 - val_mean_squared_logarithmic_error: 0.0842\n",
      "Epoch 33/50\n",
      "2402/2402 [==============================] - 12s 5ms/step - loss: 0.0856 - mean_squared_logarithmic_error: 0.0856 - val_loss: 0.0842 - val_mean_squared_logarithmic_error: 0.0842\n",
      "Epoch 34/50\n",
      "2402/2402 [==============================] - 13s 5ms/step - loss: 0.0856 - mean_squared_logarithmic_error: 0.0855 - val_loss: 0.0842 - val_mean_squared_logarithmic_error: 0.0842\n",
      "Epoch 35/50\n",
      "2402/2402 [==============================] - 13s 5ms/step - loss: 0.0857 - mean_squared_logarithmic_error: 0.0857 - val_loss: 0.0842 - val_mean_squared_logarithmic_error: 0.0842\n",
      "Epoch 36/50\n",
      "2402/2402 [==============================] - 12s 5ms/step - loss: 0.0856 - mean_squared_logarithmic_error: 0.0856 - val_loss: 0.0843 - val_mean_squared_logarithmic_error: 0.0842\n",
      "Epoch 37/50\n",
      "2402/2402 [==============================] - 13s 5ms/step - loss: 0.0857 - mean_squared_logarithmic_error: 0.0857 - val_loss: 0.0842 - val_mean_squared_logarithmic_error: 0.0841\n",
      "Epoch 38/50\n",
      "2402/2402 [==============================] - 13s 5ms/step - loss: 0.0856 - mean_squared_logarithmic_error: 0.0856 - val_loss: 0.0842 - val_mean_squared_logarithmic_error: 0.0842\n",
      "Epoch 39/50\n",
      "2402/2402 [==============================] - 13s 5ms/step - loss: 0.0856 - mean_squared_logarithmic_error: 0.0856 - val_loss: 0.0843 - val_mean_squared_logarithmic_error: 0.0843\n",
      "Epoch 40/50\n",
      "2402/2402 [==============================] - 12s 5ms/step - loss: 0.0856 - mean_squared_logarithmic_error: 0.0856 - val_loss: 0.0842 - val_mean_squared_logarithmic_error: 0.0841\n",
      "Epoch 41/50\n",
      "2402/2402 [==============================] - 13s 5ms/step - loss: 0.0857 - mean_squared_logarithmic_error: 0.0857 - val_loss: 0.0842 - val_mean_squared_logarithmic_error: 0.0841\n",
      "Epoch 42/50\n",
      "2402/2402 [==============================] - 13s 5ms/step - loss: 0.0855 - mean_squared_logarithmic_error: 0.0855 - val_loss: 0.0841 - val_mean_squared_logarithmic_error: 0.0841\n",
      "Epoch 43/50\n",
      "2402/2402 [==============================] - 13s 5ms/step - loss: 0.0855 - mean_squared_logarithmic_error: 0.0855 - val_loss: 0.0841 - val_mean_squared_logarithmic_error: 0.0841\n",
      "Epoch 44/50\n",
      "2402/2402 [==============================] - 13s 5ms/step - loss: 0.0855 - mean_squared_logarithmic_error: 0.0855 - val_loss: 0.0841 - val_mean_squared_logarithmic_error: 0.0841\n",
      "Epoch 45/50\n",
      "2402/2402 [==============================] - 13s 5ms/step - loss: 0.0856 - mean_squared_logarithmic_error: 0.0856 - val_loss: 0.0842 - val_mean_squared_logarithmic_error: 0.0842\n",
      "Epoch 46/50\n",
      "2402/2402 [==============================] - 13s 5ms/step - loss: 0.0854 - mean_squared_logarithmic_error: 0.0854 - val_loss: 0.0841 - val_mean_squared_logarithmic_error: 0.0841\n",
      "Epoch 47/50\n",
      "2402/2402 [==============================] - 13s 5ms/step - loss: 0.0855 - mean_squared_logarithmic_error: 0.0856 - val_loss: 0.0841 - val_mean_squared_logarithmic_error: 0.0841\n",
      "Epoch 48/50\n",
      "2402/2402 [==============================] - 13s 5ms/step - loss: 0.0855 - mean_squared_logarithmic_error: 0.0855 - val_loss: 0.0841 - val_mean_squared_logarithmic_error: 0.0841\n",
      "Epoch 49/50\n",
      "2402/2402 [==============================] - 13s 5ms/step - loss: 0.0854 - mean_squared_logarithmic_error: 0.0855 - val_loss: 0.0842 - val_mean_squared_logarithmic_error: 0.0841\n",
      "Epoch 50/50\n",
      "2402/2402 [==============================] - 13s 5ms/step - loss: 0.0854 - mean_squared_logarithmic_error: 0.0854 - val_loss: 0.0841 - val_mean_squared_logarithmic_error: 0.0841\n"
     ]
    }
   ],
   "source": [
    "# loss function\n",
    "msle = MeanSquaredLogarithmicError()\n",
    "model.compile(\n",
    "    loss = msle, \n",
    "    optimizer = SGD(learning_rate=learning_rate), \n",
    "    metrics = [msle]\n",
    ")\n",
    "# train the model\n",
    "history2 = model.fit(\n",
    "    X_train, \n",
    "    y_train.values, \n",
    "    epochs=50, \n",
    "    batch_size=64,\n",
    "    validation_split=0.2\n",
    ")"
   ]
  },
  {
   "cell_type": "code",
   "execution_count": 65,
   "id": "bd852f8e",
   "metadata": {
    "colab": {
     "base_uri": "https://localhost:8080/",
     "height": 295
    },
    "id": "bd852f8e",
    "outputId": "688375e0-18cc-43f4-ae6d-86e8a0a0fc86"
   },
   "outputs": [
    {
     "data": {
      "image/png": "[encoded data removed]",
      "text/plain": [
       "<Figure size 432x288 with 1 Axes>"
      ]
     },
     "metadata": {
      "needs_background": "light"
     },
     "output_type": "display_data"
    }
   ],
   "source": [
    "plot_history(history2,'loss', 'Loss for SGD using Mini-batching')"
   ]
  },
  {
   "cell_type": "code",
   "execution_count": 66,
   "id": "e8caa8a0",
   "metadata": {
    "id": "e8caa8a0"
   },
   "outputs": [],
   "source": [
    "y_pred = model.predict(X_test)"
   ]
  },
  {
   "cell_type": "code",
   "execution_count": 67,
   "id": "566ec1ae",
   "metadata": {
    "colab": {
     "base_uri": "https://localhost:8080/"
    },
    "id": "566ec1ae",
    "outputId": "8044aa5f-0ee1-4af8-ef3d-d46072aafb2f"
   },
   "outputs": [
    {
     "name": "stdout",
     "output_type": "stream",
     "text": [
      "Accuracy obtained by minibatching  0.9320280012705242\n"
     ]
    }
   ],
   "source": [
    "r_SGD_MB = r2_score(y_test, y_pred)\n",
    "print('Accuracy obtained by minibatching ', r_SGD_MB)"
   ]
  },
  {
   "cell_type": "markdown",
   "id": "6bad51cb",
   "metadata": {
    "id": "6bad51cb"
   },
   "source": [
    "## 3) SGD USING MOMENTUM"
   ]
  },
  {
   "cell_type": "code",
   "execution_count": 68,
   "id": "05110249",
   "metadata": {
    "id": "05110249"
   },
   "outputs": [],
   "source": [
    "hidden_units1 = 160\n",
    "hidden_units2 = 480\n",
    "hidden_units3 = 256\n",
    "learning_rate = 0.01\n",
    "# Creating model using the Sequential in tensorflow\n",
    "def build_model_using_sequential():\n",
    "  model = Sequential([\n",
    "    Dense(hidden_units1, kernel_initializer='normal', activation='relu'),\n",
    "    Dropout(0.2),\n",
    "    Dense(hidden_units2, kernel_initializer='normal', activation='relu'),\n",
    "    Dropout(0.2),\n",
    "    Dense(hidden_units3, kernel_initializer='normal', activation='relu'),\n",
    "    Dense(1, kernel_initializer='normal', activation='linear')\n",
    "  ])\n",
    "  return model\n",
    "# build the model\n",
    "model = build_model_using_sequential()"
   ]
  },
  {
   "cell_type": "code",
   "execution_count": 70,
   "id": "eb4ec168",
   "metadata": {
    "colab": {
     "base_uri": "https://localhost:8080/"
    },
    "id": "eb4ec168",
    "outputId": "eb498dd9-5298-43d8-efe3-70f193c194e0",
    "scrolled": true
   },
   "outputs": [
    {
     "name": "stdout",
     "output_type": "stream",
     "text": [
      "Epoch 1/25\n",
      "2402/2402 [==============================] - 29s 11ms/step - loss: 0.9274 - mean_squared_logarithmic_error: 0.9273 - val_loss: 0.7782 - val_mean_squared_logarithmic_error: 0.7783\n",
      "Epoch 2/25\n",
      "2402/2402 [==============================] - 17s 7ms/step - loss: 0.4765 - mean_squared_logarithmic_error: 0.4764 - val_loss: 0.2289 - val_mean_squared_logarithmic_error: 0.2289\n",
      "Epoch 3/25\n",
      "2402/2402 [==============================] - 13s 5ms/step - loss: 0.1747 - mean_squared_logarithmic_error: 0.1747 - val_loss: 0.1260 - val_mean_squared_logarithmic_error: 0.1260\n",
      "Epoch 4/25\n",
      "2402/2402 [==============================] - 14s 6ms/step - loss: 0.1293 - mean_squared_logarithmic_error: 0.1293 - val_loss: 0.1137 - val_mean_squared_logarithmic_error: 0.1136\n",
      "Epoch 5/25\n",
      "2402/2402 [==============================] - 13s 5ms/step - loss: 0.1167 - mean_squared_logarithmic_error: 0.1167 - val_loss: 0.1086 - val_mean_squared_logarithmic_error: 0.1085\n",
      "Epoch 6/25\n",
      "2402/2402 [==============================] - 13s 5ms/step - loss: 0.1111 - mean_squared_logarithmic_error: 0.1111 - val_loss: 0.1100 - val_mean_squared_logarithmic_error: 0.1099\n",
      "Epoch 7/25\n",
      "2402/2402 [==============================] - 13s 5ms/step - loss: 0.1079 - mean_squared_logarithmic_error: 0.1079 - val_loss: 0.1062 - val_mean_squared_logarithmic_error: 0.1062\n",
      "Epoch 8/25\n",
      "2402/2402 [==============================] - 13s 6ms/step - loss: 0.1057 - mean_squared_logarithmic_error: 0.1057 - val_loss: 0.1001 - val_mean_squared_logarithmic_error: 0.1001\n",
      "Epoch 9/25\n",
      "2402/2402 [==============================] - 13s 5ms/step - loss: 0.1036 - mean_squared_logarithmic_error: 0.1036 - val_loss: 0.0979 - val_mean_squared_logarithmic_error: 0.0979\n",
      "Epoch 10/25\n",
      "2402/2402 [==============================] - 13s 6ms/step - loss: 0.1023 - mean_squared_logarithmic_error: 0.1023 - val_loss: 0.1000 - val_mean_squared_logarithmic_error: 0.0999\n",
      "Epoch 11/25\n",
      "2402/2402 [==============================] - 13s 5ms/step - loss: 0.1018 - mean_squared_logarithmic_error: 0.1018 - val_loss: 0.1006 - val_mean_squared_logarithmic_error: 0.1006\n",
      "Epoch 12/25\n",
      "2402/2402 [==============================] - 13s 5ms/step - loss: 0.1003 - mean_squared_logarithmic_error: 0.1003 - val_loss: 0.0963 - val_mean_squared_logarithmic_error: 0.0963\n",
      "Epoch 13/25\n",
      "2402/2402 [==============================] - 13s 5ms/step - loss: 0.0999 - mean_squared_logarithmic_error: 0.0999 - val_loss: 0.0965 - val_mean_squared_logarithmic_error: 0.0964\n",
      "Epoch 14/25\n",
      "2402/2402 [==============================] - 13s 5ms/step - loss: 0.0990 - mean_squared_logarithmic_error: 0.0990 - val_loss: 0.0960 - val_mean_squared_logarithmic_error: 0.0960\n",
      "Epoch 15/25\n",
      "2402/2402 [==============================] - 13s 5ms/step - loss: 0.0984 - mean_squared_logarithmic_error: 0.0985 - val_loss: 0.1040 - val_mean_squared_logarithmic_error: 0.1039\n",
      "Epoch 16/25\n",
      "2402/2402 [==============================] - 13s 5ms/step - loss: 0.0982 - mean_squared_logarithmic_error: 0.0982 - val_loss: 0.1021 - val_mean_squared_logarithmic_error: 0.1021\n",
      "Epoch 17/25\n",
      "2402/2402 [==============================] - 13s 6ms/step - loss: 0.0979 - mean_squared_logarithmic_error: 0.0979 - val_loss: 0.0947 - val_mean_squared_logarithmic_error: 0.0947\n",
      "Epoch 18/25\n",
      "2402/2402 [==============================] - 13s 5ms/step - loss: 0.0974 - mean_squared_logarithmic_error: 0.0974 - val_loss: 0.0884 - val_mean_squared_logarithmic_error: 0.0884\n",
      "Epoch 19/25\n",
      "2402/2402 [==============================] - 13s 5ms/step - loss: 0.0969 - mean_squared_logarithmic_error: 0.0969 - val_loss: 0.0932 - val_mean_squared_logarithmic_error: 0.0931\n",
      "Epoch 20/25\n",
      "2402/2402 [==============================] - 14s 6ms/step - loss: 0.0965 - mean_squared_logarithmic_error: 0.0965 - val_loss: 0.0987 - val_mean_squared_logarithmic_error: 0.0986\n",
      "Epoch 21/25\n",
      "2402/2402 [==============================] - 13s 5ms/step - loss: 0.0970 - mean_squared_logarithmic_error: 0.0970 - val_loss: 0.0872 - val_mean_squared_logarithmic_error: 0.0871\n",
      "Epoch 22/25\n",
      "2402/2402 [==============================] - 13s 5ms/step - loss: 0.0966 - mean_squared_logarithmic_error: 0.0966 - val_loss: 0.0952 - val_mean_squared_logarithmic_error: 0.0952\n",
      "Epoch 23/25\n",
      "2402/2402 [==============================] - 13s 6ms/step - loss: 0.0961 - mean_squared_logarithmic_error: 0.0960 - val_loss: 0.0904 - val_mean_squared_logarithmic_error: 0.0903\n",
      "Epoch 24/25\n",
      "2402/2402 [==============================] - 13s 5ms/step - loss: 0.0960 - mean_squared_logarithmic_error: 0.0959 - val_loss: 0.1017 - val_mean_squared_logarithmic_error: 0.1016\n",
      "Epoch 25/25\n",
      "2402/2402 [==============================] - 13s 5ms/step - loss: 0.0954 - mean_squared_logarithmic_error: 0.0955 - val_loss: 0.0907 - val_mean_squared_logarithmic_error: 0.0906\n"
     ]
    }
   ],
   "source": [
    "# loss function\n",
    "msle = MeanSquaredLogarithmicError()\n",
    "model.compile(\n",
    "    loss=msle, \n",
    "    optimizer=SGD(learning_rate=learning_rate,momentum=0.9), \n",
    "    metrics=[msle]\n",
    ")\n",
    "# train the model\n",
    "history3 = model.fit(\n",
    "    X_train, \n",
    "    y_train.values, \n",
    "    epochs=25, \n",
    "    batch_size=64,\n",
    "    validation_split=0.2\n",
    ")"
   ]
  },
  {
   "cell_type": "code",
   "execution_count": 71,
   "id": "3b043545",
   "metadata": {
    "colab": {
     "base_uri": "https://localhost:8080/",
     "height": 295
    },
    "id": "3b043545",
    "outputId": "49a76133-a4b0-4a54-f48c-5469b2bd3470"
   },
   "outputs": [
    {
     "data": {
      "image/png": "[encoded data removed]",
      "text/plain": [
       "<Figure size 432x288 with 1 Axes>"
      ]
     },
     "metadata": {
      "needs_background": "light"
     },
     "output_type": "display_data"
    }
   ],
   "source": [
    "plot_history(history3, 'loss', 'Loss for SGD with momentum')"
   ]
  },
  {
   "cell_type": "code",
   "execution_count": 72,
   "id": "27db40e9",
   "metadata": {
    "id": "27db40e9"
   },
   "outputs": [],
   "source": [
    "y_pred_N=model.predict(X_test)"
   ]
  },
  {
   "cell_type": "code",
   "execution_count": 73,
   "id": "b08767f1",
   "metadata": {
    "colab": {
     "base_uri": "https://localhost:8080/"
    },
    "id": "b08767f1",
    "outputId": "3fb294ca-0200-4963-8bc9-d66347462678"
   },
   "outputs": [
    {
     "name": "stdout",
     "output_type": "stream",
     "text": [
      "Accuracy obtained by SGD with Nesterov Momentum  0.9326269470276314\n"
     ]
    }
   ],
   "source": [
    "r_SGD_N = r2_score(y_test, y_pred_N)\n",
    "print('Accuracy obtained by SGD with Nesterov Momentum ', r_SGD_N)"
   ]
  },
  {
   "cell_type": "markdown",
   "id": "6c4d9010",
   "metadata": {
    "id": "6c4d9010"
   },
   "source": [
    "## 4) Using RMSprop"
   ]
  },
  {
   "cell_type": "code",
   "execution_count": 82,
   "id": "77c7deeb",
   "metadata": {
    "colab": {
     "base_uri": "https://localhost:8080/"
    },
    "id": "77c7deeb",
    "outputId": "aa99a79d-ddc2-47c9-bc9a-a20c5df59679",
    "scrolled": true
   },
   "outputs": [
    {
     "name": "stdout",
     "output_type": "stream",
     "text": [
      "Epoch 1/25\n",
      "2402/2402 [==============================] - 27s 11ms/step - loss: 0.0639 - mean_squared_logarithmic_error: 0.0639 - val_loss: 0.0965 - val_mean_squared_logarithmic_error: 0.0965\n",
      "Epoch 2/25\n",
      "2402/2402 [==============================] - 16s 7ms/step - loss: 0.0637 - mean_squared_logarithmic_error: 0.0637 - val_loss: 0.1353 - val_mean_squared_logarithmic_error: 0.1353\n",
      "Epoch 3/25\n",
      "2402/2402 [==============================] - 16s 7ms/step - loss: 0.0637 - mean_squared_logarithmic_error: 0.0637 - val_loss: 0.1189 - val_mean_squared_logarithmic_error: 0.1189\n",
      "Epoch 4/25\n",
      "2402/2402 [==============================] - 15s 6ms/step - loss: 0.0637 - mean_squared_logarithmic_error: 0.0637 - val_loss: 0.1130 - val_mean_squared_logarithmic_error: 0.1129\n",
      "Epoch 5/25\n",
      "2402/2402 [==============================] - 15s 6ms/step - loss: 0.0635 - mean_squared_logarithmic_error: 0.0635 - val_loss: 0.1458 - val_mean_squared_logarithmic_error: 0.1458\n",
      "Epoch 6/25\n",
      "2402/2402 [==============================] - 16s 6ms/step - loss: 0.0631 - mean_squared_logarithmic_error: 0.0631 - val_loss: 0.1407 - val_mean_squared_logarithmic_error: 0.1407\n",
      "Epoch 7/25\n",
      "2402/2402 [==============================] - 17s 7ms/step - loss: 0.0634 - mean_squared_logarithmic_error: 0.0634 - val_loss: 0.1076 - val_mean_squared_logarithmic_error: 0.1076\n",
      "Epoch 8/25\n",
      "2402/2402 [==============================] - 15s 6ms/step - loss: 0.0630 - mean_squared_logarithmic_error: 0.0630 - val_loss: 0.1410 - val_mean_squared_logarithmic_error: 0.1410\n",
      "Epoch 9/25\n",
      "2402/2402 [==============================] - 15s 6ms/step - loss: 0.0631 - mean_squared_logarithmic_error: 0.0631 - val_loss: 0.0965 - val_mean_squared_logarithmic_error: 0.0965\n",
      "Epoch 10/25\n",
      "2402/2402 [==============================] - 15s 6ms/step - loss: 0.0625 - mean_squared_logarithmic_error: 0.0626 - val_loss: 0.1226 - val_mean_squared_logarithmic_error: 0.1226\n",
      "Epoch 11/25\n",
      "2402/2402 [==============================] - 15s 6ms/step - loss: 0.0628 - mean_squared_logarithmic_error: 0.0628 - val_loss: 0.1253 - val_mean_squared_logarithmic_error: 0.1253\n",
      "Epoch 12/25\n",
      "2402/2402 [==============================] - 16s 7ms/step - loss: 0.0626 - mean_squared_logarithmic_error: 0.0626 - val_loss: 0.1159 - val_mean_squared_logarithmic_error: 0.1159\n",
      "Epoch 13/25\n",
      "2402/2402 [==============================] - 16s 7ms/step - loss: 0.0626 - mean_squared_logarithmic_error: 0.0626 - val_loss: 0.1468 - val_mean_squared_logarithmic_error: 0.1468\n",
      "Epoch 14/25\n",
      "2402/2402 [==============================] - 15s 6ms/step - loss: 0.0627 - mean_squared_logarithmic_error: 0.0627 - val_loss: 0.1295 - val_mean_squared_logarithmic_error: 0.1295\n",
      "Epoch 15/25\n",
      "2402/2402 [==============================] - 15s 6ms/step - loss: 0.0626 - mean_squared_logarithmic_error: 0.0626 - val_loss: 0.1322 - val_mean_squared_logarithmic_error: 0.1322\n",
      "Epoch 16/25\n",
      "2402/2402 [==============================] - 15s 6ms/step - loss: 0.0622 - mean_squared_logarithmic_error: 0.0622 - val_loss: 0.1217 - val_mean_squared_logarithmic_error: 0.1217\n",
      "Epoch 17/25\n",
      "2402/2402 [==============================] - 15s 6ms/step - loss: 0.0624 - mean_squared_logarithmic_error: 0.0624 - val_loss: 0.1381 - val_mean_squared_logarithmic_error: 0.1381\n",
      "Epoch 18/25\n",
      "2402/2402 [==============================] - 15s 6ms/step - loss: 0.0625 - mean_squared_logarithmic_error: 0.0625 - val_loss: 0.1153 - val_mean_squared_logarithmic_error: 0.1153\n",
      "Epoch 19/25\n",
      "2402/2402 [==============================] - 16s 7ms/step - loss: 0.0622 - mean_squared_logarithmic_error: 0.0622 - val_loss: 0.1380 - val_mean_squared_logarithmic_error: 0.1380\n",
      "Epoch 20/25\n",
      "2402/2402 [==============================] - 15s 6ms/step - loss: 0.0622 - mean_squared_logarithmic_error: 0.0622 - val_loss: 0.1247 - val_mean_squared_logarithmic_error: 0.1247\n",
      "Epoch 21/25\n",
      "2402/2402 [==============================] - 16s 7ms/step - loss: 0.0622 - mean_squared_logarithmic_error: 0.0622 - val_loss: 0.1285 - val_mean_squared_logarithmic_error: 0.1285\n",
      "Epoch 22/25\n",
      "2402/2402 [==============================] - 16s 7ms/step - loss: 0.0618 - mean_squared_logarithmic_error: 0.0618 - val_loss: 0.1326 - val_mean_squared_logarithmic_error: 0.1326\n",
      "Epoch 23/25\n",
      "2402/2402 [==============================] - 16s 6ms/step - loss: 0.0618 - mean_squared_logarithmic_error: 0.0618 - val_loss: 0.1231 - val_mean_squared_logarithmic_error: 0.1231\n",
      "Epoch 24/25\n",
      "2402/2402 [==============================] - 15s 6ms/step - loss: 0.0618 - mean_squared_logarithmic_error: 0.0618 - val_loss: 0.1557 - val_mean_squared_logarithmic_error: 0.1557\n",
      "Epoch 25/25\n",
      "2402/2402 [==============================] - 15s 6ms/step - loss: 0.0613 - mean_squared_logarithmic_error: 0.0613 - val_loss: 0.1189 - val_mean_squared_logarithmic_error: 0.1189\n"
     ]
    }
   ],
   "source": [
    "# loss function\n",
    "msle = MeanSquaredLogarithmicError()\n",
    "model.compile(\n",
    "    loss=msle, \n",
    "    optimizer=RMSprop(learning_rate=learning_rate), \n",
    "    metrics=[msle]\n",
    ")\n",
    "# train the model\n",
    "history4 = model.fit(\n",
    "    X_train, \n",
    "    y_train.values, \n",
    "    epochs=25, \n",
    "    batch_size=64,\n",
    "    validation_split=0.2\n",
    ")"
   ]
  },
  {
   "cell_type": "code",
   "execution_count": 83,
   "id": "73a80eb2",
   "metadata": {
    "colab": {
     "base_uri": "https://localhost:8080/",
     "height": 295
    },
    "id": "73a80eb2",
    "outputId": "f1384f8e-f93c-401e-8cc1-2c739206fefd"
   },
   "outputs": [
    {
     "data": {
      "image/png": "[encoded data removed]",
      "text/plain": [
       "<Figure size 432x288 with 1 Axes>"
      ]
     },
     "metadata": {
      "needs_background": "light"
     },
     "output_type": "display_data"
    }
   ],
   "source": [
    "plot_history(history4, 'loss', 'Loss for RMSprop')"
   ]
  },
  {
   "cell_type": "code",
   "execution_count": 84,
   "id": "bc7f2e09",
   "metadata": {
    "id": "bc7f2e09"
   },
   "outputs": [],
   "source": [
    "y_pred_R=model.predict(X_test)"
   ]
  },
  {
   "cell_type": "code",
   "execution_count": 85,
   "id": "ca4b1e66",
   "metadata": {
    "colab": {
     "base_uri": "https://localhost:8080/"
    },
    "id": "ca4b1e66",
    "outputId": "f1623be8-8870-4469-f112-9fc14be96db2"
   },
   "outputs": [
    {
     "name": "stdout",
     "output_type": "stream",
     "text": [
      "Accuracy obtained by RMSprop  0.8119856848369599\n"
     ]
    }
   ],
   "source": [
    "r_RM = r2_score(y_test, y_pred_R)\n",
    "print('Accuracy obtained by RMSprop ', r_RM)"
   ]
  },
  {
   "cell_type": "markdown",
   "id": "570bd339",
   "metadata": {
    "id": "570bd339"
   },
   "source": [
    "## 5) Using ADAM"
   ]
  },
  {
   "cell_type": "code",
   "execution_count": 91,
   "id": "bf91b52a",
   "metadata": {
    "colab": {
     "base_uri": "https://localhost:8080/"
    },
    "id": "bf91b52a",
    "outputId": "96a1b489-d9b8-4270-adfc-f82ec2625163",
    "scrolled": true
   },
   "outputs": [
    {
     "name": "stdout",
     "output_type": "stream",
     "text": [
      "Epoch 1/25\n",
      "2402/2402 [==============================] - 14s 5ms/step - loss: 0.0603 - mean_squared_logarithmic_error: 0.0603 - val_loss: 0.1458 - val_mean_squared_logarithmic_error: 0.1458\n",
      "Epoch 2/25\n",
      "2402/2402 [==============================] - 13s 5ms/step - loss: 0.0622 - mean_squared_logarithmic_error: 0.0622 - val_loss: 0.1311 - val_mean_squared_logarithmic_error: 0.1311\n",
      "Epoch 3/25\n",
      "2402/2402 [==============================] - 13s 5ms/step - loss: 0.0613 - mean_squared_logarithmic_error: 0.0613 - val_loss: 0.1571 - val_mean_squared_logarithmic_error: 0.1571\n",
      "Epoch 4/25\n",
      "2402/2402 [==============================] - 13s 6ms/step - loss: 0.0591 - mean_squared_logarithmic_error: 0.0591 - val_loss: 0.1183 - val_mean_squared_logarithmic_error: 0.1183\n",
      "Epoch 5/25\n",
      "2402/2402 [==============================] - 15s 6ms/step - loss: 0.0588 - mean_squared_logarithmic_error: 0.0588 - val_loss: 0.1194 - val_mean_squared_logarithmic_error: 0.1194\n",
      "Epoch 6/25\n",
      "2402/2402 [==============================] - 13s 5ms/step - loss: 0.0588 - mean_squared_logarithmic_error: 0.0588 - val_loss: 0.1393 - val_mean_squared_logarithmic_error: 0.1393\n",
      "Epoch 7/25\n",
      "2402/2402 [==============================] - 13s 6ms/step - loss: 0.0587 - mean_squared_logarithmic_error: 0.0587 - val_loss: 0.1292 - val_mean_squared_logarithmic_error: 0.1292\n",
      "Epoch 8/25\n",
      "2402/2402 [==============================] - 13s 5ms/step - loss: 0.0586 - mean_squared_logarithmic_error: 0.0586 - val_loss: 0.1376 - val_mean_squared_logarithmic_error: 0.1376\n",
      "Epoch 9/25\n",
      "2402/2402 [==============================] - 14s 6ms/step - loss: 0.0582 - mean_squared_logarithmic_error: 0.0582 - val_loss: 0.1337 - val_mean_squared_logarithmic_error: 0.1337\n",
      "Epoch 10/25\n",
      "2402/2402 [==============================] - 13s 5ms/step - loss: 0.0580 - mean_squared_logarithmic_error: 0.0580 - val_loss: 0.1274 - val_mean_squared_logarithmic_error: 0.1274\n",
      "Epoch 11/25\n",
      "2402/2402 [==============================] - 13s 6ms/step - loss: 0.0582 - mean_squared_logarithmic_error: 0.0582 - val_loss: 0.1218 - val_mean_squared_logarithmic_error: 0.1218\n",
      "Epoch 12/25\n",
      "2402/2402 [==============================] - 13s 5ms/step - loss: 0.0588 - mean_squared_logarithmic_error: 0.0588 - val_loss: 0.1287 - val_mean_squared_logarithmic_error: 0.1287\n",
      "Epoch 13/25\n",
      "2402/2402 [==============================] - 14s 6ms/step - loss: 0.0580 - mean_squared_logarithmic_error: 0.0580 - val_loss: 0.1193 - val_mean_squared_logarithmic_error: 0.1193\n",
      "Epoch 14/25\n",
      "2402/2402 [==============================] - 13s 6ms/step - loss: 0.0585 - mean_squared_logarithmic_error: 0.0585 - val_loss: 0.1255 - val_mean_squared_logarithmic_error: 0.1256\n",
      "Epoch 15/25\n",
      "2402/2402 [==============================] - 14s 6ms/step - loss: 0.0579 - mean_squared_logarithmic_error: 0.0579 - val_loss: 0.1185 - val_mean_squared_logarithmic_error: 0.1185\n",
      "Epoch 16/25\n",
      "2402/2402 [==============================] - 13s 6ms/step - loss: 0.0579 - mean_squared_logarithmic_error: 0.0579 - val_loss: 0.1301 - val_mean_squared_logarithmic_error: 0.1301\n",
      "Epoch 17/25\n",
      "2402/2402 [==============================] - 13s 5ms/step - loss: 0.0576 - mean_squared_logarithmic_error: 0.0577 - val_loss: 0.1163 - val_mean_squared_logarithmic_error: 0.1163\n",
      "Epoch 18/25\n",
      "2402/2402 [==============================] - 13s 5ms/step - loss: 0.0578 - mean_squared_logarithmic_error: 0.0578 - val_loss: 0.1169 - val_mean_squared_logarithmic_error: 0.1169\n",
      "Epoch 19/25\n",
      "2402/2402 [==============================] - 13s 5ms/step - loss: 0.0577 - mean_squared_logarithmic_error: 0.0577 - val_loss: 0.1491 - val_mean_squared_logarithmic_error: 0.1491\n",
      "Epoch 20/25\n",
      "2402/2402 [==============================] - 13s 6ms/step - loss: 0.0580 - mean_squared_logarithmic_error: 0.0580 - val_loss: 0.1284 - val_mean_squared_logarithmic_error: 0.1284\n",
      "Epoch 21/25\n",
      "2402/2402 [==============================] - 14s 6ms/step - loss: 0.0571 - mean_squared_logarithmic_error: 0.0571 - val_loss: 0.1346 - val_mean_squared_logarithmic_error: 0.1346\n",
      "Epoch 22/25\n",
      "2402/2402 [==============================] - 13s 5ms/step - loss: 0.0577 - mean_squared_logarithmic_error: 0.0577 - val_loss: 0.1135 - val_mean_squared_logarithmic_error: 0.1135\n",
      "Epoch 23/25\n",
      "2402/2402 [==============================] - 14s 6ms/step - loss: 0.0572 - mean_squared_logarithmic_error: 0.0572 - val_loss: 0.1370 - val_mean_squared_logarithmic_error: 0.1370\n",
      "Epoch 24/25\n",
      "2402/2402 [==============================] - 13s 5ms/step - loss: 0.0571 - mean_squared_logarithmic_error: 0.0571 - val_loss: 0.1174 - val_mean_squared_logarithmic_error: 0.1174\n",
      "Epoch 25/25\n",
      "2402/2402 [==============================] - 13s 5ms/step - loss: 0.0570 - mean_squared_logarithmic_error: 0.0570 - val_loss: 0.1291 - val_mean_squared_logarithmic_error: 0.1291\n"
     ]
    }
   ],
   "source": [
    "# loss function\n",
    "msle = MeanSquaredLogarithmicError()\n",
    "model.compile(\n",
    "    loss=msle, \n",
    "    optimizer=Adam(learning_rate=learning_rate), \n",
    "    metrics=[msle]\n",
    ")\n",
    "# train the model\n",
    "history5 = model.fit(\n",
    "    X_train, \n",
    "    y_train.values, \n",
    "    epochs=25, \n",
    "    batch_size=64,\n",
    "    validation_split=0.2\n",
    ")"
   ]
  },
  {
   "cell_type": "code",
   "execution_count": 92,
   "id": "713655ca",
   "metadata": {
    "colab": {
     "base_uri": "https://localhost:8080/",
     "height": 295
    },
    "id": "713655ca",
    "outputId": "d3208568-d191-40be-cb8c-e1633035d10f"
   },
   "outputs": [
    {
     "data": {
      "image/png": "[encoded data removed]",
      "text/plain": [
       "<Figure size 432x288 with 1 Axes>"
      ]
     },
     "metadata": {
      "needs_background": "light"
     },
     "output_type": "display_data"
    }
   ],
   "source": [
    "plot_history(history5, 'loss', 'Loss for Adam')"
   ]
  },
  {
   "cell_type": "code",
   "execution_count": 93,
   "id": "fd4d4dd4",
   "metadata": {
    "id": "fd4d4dd4"
   },
   "outputs": [],
   "source": [
    "y_pred_A=model.predict(X_test)"
   ]
  },
  {
   "cell_type": "code",
   "execution_count": 94,
   "id": "036c209a",
   "metadata": {
    "colab": {
     "base_uri": "https://localhost:8080/"
    },
    "id": "036c209a",
    "outputId": "fcdf999f-c1e1-4b33-ec68-8d47694044e9"
   },
   "outputs": [
    {
     "name": "stdout",
     "output_type": "stream",
     "text": [
      "Accuracy obtained by Adam  0.7716063222666132\n"
     ]
    }
   ],
   "source": [
    "r_A = r2_score(y_test, y_pred_A)\n",
    "print('Accuracy obtained by Adam ', r_A)"
   ]
  },
  {
   "cell_type": "markdown",
   "id": "1aecae68",
   "metadata": {
    "id": "1aecae68"
   },
   "source": [
    "## 6) Using AdaGrad"
   ]
  },
  {
   "cell_type": "code",
   "execution_count": 95,
   "id": "203ca94b",
   "metadata": {
    "colab": {
     "base_uri": "https://localhost:8080/"
    },
    "id": "203ca94b",
    "outputId": "4c714f34-5de9-4fdc-af0f-92114663084c"
   },
   "outputs": [
    {
     "name": "stdout",
     "output_type": "stream",
     "text": [
      "Epoch 1/100\n",
      "2402/2402 [==============================] - 14s 6ms/step - loss: 0.0547 - mean_squared_logarithmic_error: 0.0547 - val_loss: 0.1278 - val_mean_squared_logarithmic_error: 0.1277\n",
      "Epoch 2/100\n",
      "2402/2402 [==============================] - 13s 5ms/step - loss: 0.0543 - mean_squared_logarithmic_error: 0.0543 - val_loss: 0.1273 - val_mean_squared_logarithmic_error: 0.1273\n",
      "Epoch 3/100\n",
      "2402/2402 [==============================] - 13s 6ms/step - loss: 0.0541 - mean_squared_logarithmic_error: 0.0541 - val_loss: 0.1302 - val_mean_squared_logarithmic_error: 0.1302\n",
      "Epoch 4/100\n",
      "2402/2402 [==============================] - 13s 5ms/step - loss: 0.0540 - mean_squared_logarithmic_error: 0.0540 - val_loss: 0.1294 - val_mean_squared_logarithmic_error: 0.1294\n",
      "Epoch 5/100\n",
      "2402/2402 [==============================] - 13s 5ms/step - loss: 0.0540 - mean_squared_logarithmic_error: 0.0540 - val_loss: 0.1282 - val_mean_squared_logarithmic_error: 0.1282\n",
      "Epoch 6/100\n",
      "2402/2402 [==============================] - 13s 6ms/step - loss: 0.0536 - mean_squared_logarithmic_error: 0.0536 - val_loss: 0.1294 - val_mean_squared_logarithmic_error: 0.1294\n",
      "Epoch 7/100\n",
      "2402/2402 [==============================] - 13s 6ms/step - loss: 0.0536 - mean_squared_logarithmic_error: 0.0536 - val_loss: 0.1294 - val_mean_squared_logarithmic_error: 0.1294\n",
      "Epoch 8/100\n",
      "2402/2402 [==============================] - 13s 5ms/step - loss: 0.0536 - mean_squared_logarithmic_error: 0.0536 - val_loss: 0.1297 - val_mean_squared_logarithmic_error: 0.1296\n",
      "Epoch 9/100\n",
      "2402/2402 [==============================] - 13s 6ms/step - loss: 0.0536 - mean_squared_logarithmic_error: 0.0536 - val_loss: 0.1285 - val_mean_squared_logarithmic_error: 0.1285\n",
      "Epoch 10/100\n",
      "2402/2402 [==============================] - 13s 6ms/step - loss: 0.0537 - mean_squared_logarithmic_error: 0.0537 - val_loss: 0.1298 - val_mean_squared_logarithmic_error: 0.1298\n",
      "Epoch 11/100\n",
      "2402/2402 [==============================] - 13s 5ms/step - loss: 0.0536 - mean_squared_logarithmic_error: 0.0536 - val_loss: 0.1290 - val_mean_squared_logarithmic_error: 0.1290\n",
      "Epoch 12/100\n",
      "2402/2402 [==============================] - 13s 5ms/step - loss: 0.0535 - mean_squared_logarithmic_error: 0.0535 - val_loss: 0.1294 - val_mean_squared_logarithmic_error: 0.1294\n",
      "Epoch 13/100\n",
      "2402/2402 [==============================] - 13s 5ms/step - loss: 0.0534 - mean_squared_logarithmic_error: 0.0534 - val_loss: 0.1299 - val_mean_squared_logarithmic_error: 0.1299\n",
      "Epoch 14/100\n",
      "2402/2402 [==============================] - 13s 5ms/step - loss: 0.0536 - mean_squared_logarithmic_error: 0.0536 - val_loss: 0.1298 - val_mean_squared_logarithmic_error: 0.1298\n",
      "Epoch 15/100\n",
      "2402/2402 [==============================] - 13s 5ms/step - loss: 0.0536 - mean_squared_logarithmic_error: 0.0536 - val_loss: 0.1292 - val_mean_squared_logarithmic_error: 0.1292\n",
      "Epoch 16/100\n",
      "2402/2402 [==============================] - 13s 5ms/step - loss: 0.0536 - mean_squared_logarithmic_error: 0.0536 - val_loss: 0.1295 - val_mean_squared_logarithmic_error: 0.1295\n",
      "Epoch 17/100\n",
      "2402/2402 [==============================] - 13s 6ms/step - loss: 0.0536 - mean_squared_logarithmic_error: 0.0536 - val_loss: 0.1295 - val_mean_squared_logarithmic_error: 0.1295\n",
      "Epoch 18/100\n",
      "2402/2402 [==============================] - 13s 6ms/step - loss: 0.0537 - mean_squared_logarithmic_error: 0.0537 - val_loss: 0.1291 - val_mean_squared_logarithmic_error: 0.1291\n",
      "Epoch 19/100\n",
      "2402/2402 [==============================] - 14s 6ms/step - loss: 0.0537 - mean_squared_logarithmic_error: 0.0537 - val_loss: 0.1295 - val_mean_squared_logarithmic_error: 0.1295\n",
      "Epoch 20/100\n",
      "2402/2402 [==============================] - 13s 6ms/step - loss: 0.0534 - mean_squared_logarithmic_error: 0.0534 - val_loss: 0.1304 - val_mean_squared_logarithmic_error: 0.1304\n",
      "Epoch 21/100\n",
      "2402/2402 [==============================] - 13s 5ms/step - loss: 0.0535 - mean_squared_logarithmic_error: 0.0535 - val_loss: 0.1302 - val_mean_squared_logarithmic_error: 0.1302\n",
      "Epoch 22/100\n",
      "2402/2402 [==============================] - 13s 5ms/step - loss: 0.0535 - mean_squared_logarithmic_error: 0.0534 - val_loss: 0.1291 - val_mean_squared_logarithmic_error: 0.1291\n",
      "Epoch 23/100\n",
      "2402/2402 [==============================] - 14s 6ms/step - loss: 0.0534 - mean_squared_logarithmic_error: 0.0534 - val_loss: 0.1297 - val_mean_squared_logarithmic_error: 0.1297\n",
      "Epoch 24/100\n",
      "2402/2402 [==============================] - 13s 5ms/step - loss: 0.0534 - mean_squared_logarithmic_error: 0.0534 - val_loss: 0.1299 - val_mean_squared_logarithmic_error: 0.1299\n",
      "Epoch 25/100\n",
      "2402/2402 [==============================] - 13s 6ms/step - loss: 0.0535 - mean_squared_logarithmic_error: 0.0535 - val_loss: 0.1304 - val_mean_squared_logarithmic_error: 0.1304\n",
      "Epoch 26/100\n",
      "2402/2402 [==============================] - 14s 6ms/step - loss: 0.0532 - mean_squared_logarithmic_error: 0.0532 - val_loss: 0.1304 - val_mean_squared_logarithmic_error: 0.1304\n",
      "Epoch 27/100\n",
      "2402/2402 [==============================] - 14s 6ms/step - loss: 0.0534 - mean_squared_logarithmic_error: 0.0534 - val_loss: 0.1299 - val_mean_squared_logarithmic_error: 0.1299\n",
      "Epoch 28/100\n",
      "2402/2402 [==============================] - 13s 6ms/step - loss: 0.0536 - mean_squared_logarithmic_error: 0.0536 - val_loss: 0.1291 - val_mean_squared_logarithmic_error: 0.1291\n",
      "Epoch 29/100\n",
      "2402/2402 [==============================] - 13s 5ms/step - loss: 0.0534 - mean_squared_logarithmic_error: 0.0534 - val_loss: 0.1296 - val_mean_squared_logarithmic_error: 0.1296\n",
      "Epoch 30/100\n",
      "2402/2402 [==============================] - 13s 5ms/step - loss: 0.0534 - mean_squared_logarithmic_error: 0.0534 - val_loss: 0.1295 - val_mean_squared_logarithmic_error: 0.1295\n",
      "Epoch 31/100\n",
      "2402/2402 [==============================] - 13s 6ms/step - loss: 0.0535 - mean_squared_logarithmic_error: 0.0535 - val_loss: 0.1299 - val_mean_squared_logarithmic_error: 0.1299\n",
      "Epoch 32/100\n",
      "2402/2402 [==============================] - 13s 6ms/step - loss: 0.0536 - mean_squared_logarithmic_error: 0.0536 - val_loss: 0.1298 - val_mean_squared_logarithmic_error: 0.1298\n",
      "Epoch 33/100\n",
      "2402/2402 [==============================] - 13s 5ms/step - loss: 0.0535 - mean_squared_logarithmic_error: 0.0535 - val_loss: 0.1298 - val_mean_squared_logarithmic_error: 0.1298\n",
      "Epoch 34/100\n",
      "2402/2402 [==============================] - 13s 5ms/step - loss: 0.0532 - mean_squared_logarithmic_error: 0.0532 - val_loss: 0.1298 - val_mean_squared_logarithmic_error: 0.1298\n",
      "Epoch 35/100\n",
      "2402/2402 [==============================] - 13s 5ms/step - loss: 0.0532 - mean_squared_logarithmic_error: 0.0532 - val_loss: 0.1298 - val_mean_squared_logarithmic_error: 0.1297\n",
      "Epoch 36/100\n",
      "2402/2402 [==============================] - 13s 5ms/step - loss: 0.0533 - mean_squared_logarithmic_error: 0.0533 - val_loss: 0.1300 - val_mean_squared_logarithmic_error: 0.1300\n",
      "Epoch 37/100\n",
      "2402/2402 [==============================] - 13s 5ms/step - loss: 0.0534 - mean_squared_logarithmic_error: 0.0534 - val_loss: 0.1295 - val_mean_squared_logarithmic_error: 0.1295\n",
      "Epoch 38/100\n",
      "2402/2402 [==============================] - 13s 5ms/step - loss: 0.0535 - mean_squared_logarithmic_error: 0.0535 - val_loss: 0.1298 - val_mean_squared_logarithmic_error: 0.1298\n",
      "Epoch 39/100\n",
      "2402/2402 [==============================] - 13s 6ms/step - loss: 0.0532 - mean_squared_logarithmic_error: 0.0532 - val_loss: 0.1284 - val_mean_squared_logarithmic_error: 0.1284\n",
      "Epoch 40/100\n",
      "2402/2402 [==============================] - 13s 5ms/step - loss: 0.0533 - mean_squared_logarithmic_error: 0.0533 - val_loss: 0.1295 - val_mean_squared_logarithmic_error: 0.1295\n",
      "Epoch 41/100\n",
      "2402/2402 [==============================] - 13s 5ms/step - loss: 0.0534 - mean_squared_logarithmic_error: 0.0534 - val_loss: 0.1295 - val_mean_squared_logarithmic_error: 0.1295\n",
      "Epoch 42/100\n",
      "2402/2402 [==============================] - 14s 6ms/step - loss: 0.0533 - mean_squared_logarithmic_error: 0.0533 - val_loss: 0.1301 - val_mean_squared_logarithmic_error: 0.1301\n",
      "Epoch 43/100\n",
      "2402/2402 [==============================] - 13s 5ms/step - loss: 0.0533 - mean_squared_logarithmic_error: 0.0533 - val_loss: 0.1303 - val_mean_squared_logarithmic_error: 0.1303\n",
      "Epoch 44/100\n",
      "2402/2402 [==============================] - 13s 5ms/step - loss: 0.0534 - mean_squared_logarithmic_error: 0.0533 - val_loss: 0.1290 - val_mean_squared_logarithmic_error: 0.1290\n",
      "Epoch 45/100\n",
      "2402/2402 [==============================] - 13s 6ms/step - loss: 0.0532 - mean_squared_logarithmic_error: 0.0532 - val_loss: 0.1296 - val_mean_squared_logarithmic_error: 0.1296\n",
      "Epoch 46/100\n",
      "2402/2402 [==============================] - 13s 6ms/step - loss: 0.0533 - mean_squared_logarithmic_error: 0.0533 - val_loss: 0.1299 - val_mean_squared_logarithmic_error: 0.1299\n",
      "Epoch 47/100\n",
      "2402/2402 [==============================] - 14s 6ms/step - loss: 0.0533 - mean_squared_logarithmic_error: 0.0533 - val_loss: 0.1291 - val_mean_squared_logarithmic_error: 0.1291\n",
      "Epoch 48/100\n",
      "2402/2402 [==============================] - 13s 6ms/step - loss: 0.0533 - mean_squared_logarithmic_error: 0.0533 - val_loss: 0.1300 - val_mean_squared_logarithmic_error: 0.1300\n",
      "Epoch 49/100\n",
      "2402/2402 [==============================] - 13s 5ms/step - loss: 0.0534 - mean_squared_logarithmic_error: 0.0534 - val_loss: 0.1303 - val_mean_squared_logarithmic_error: 0.1303\n",
      "Epoch 50/100\n",
      "2402/2402 [==============================] - 13s 6ms/step - loss: 0.0533 - mean_squared_logarithmic_error: 0.0533 - val_loss: 0.1297 - val_mean_squared_logarithmic_error: 0.1297\n",
      "Epoch 51/100\n",
      "2402/2402 [==============================] - 13s 5ms/step - loss: 0.0531 - mean_squared_logarithmic_error: 0.0531 - val_loss: 0.1293 - val_mean_squared_logarithmic_error: 0.1293\n",
      "Epoch 52/100\n",
      "2402/2402 [==============================] - 13s 6ms/step - loss: 0.0533 - mean_squared_logarithmic_error: 0.0533 - val_loss: 0.1296 - val_mean_squared_logarithmic_error: 0.1296\n",
      "Epoch 53/100\n",
      "2402/2402 [==============================] - 13s 6ms/step - loss: 0.0532 - mean_squared_logarithmic_error: 0.0532 - val_loss: 0.1303 - val_mean_squared_logarithmic_error: 0.1303\n",
      "Epoch 54/100\n",
      "2402/2402 [==============================] - 13s 5ms/step - loss: 0.0531 - mean_squared_logarithmic_error: 0.0531 - val_loss: 0.1297 - val_mean_squared_logarithmic_error: 0.1297\n",
      "Epoch 55/100\n",
      "2402/2402 [==============================] - 13s 5ms/step - loss: 0.0535 - mean_squared_logarithmic_error: 0.0535 - val_loss: 0.1300 - val_mean_squared_logarithmic_error: 0.1300\n",
      "Epoch 56/100\n",
      "2402/2402 [==============================] - 13s 5ms/step - loss: 0.0533 - mean_squared_logarithmic_error: 0.0533 - val_loss: 0.1297 - val_mean_squared_logarithmic_error: 0.1297\n",
      "Epoch 57/100\n",
      "2402/2402 [==============================] - 13s 5ms/step - loss: 0.0532 - mean_squared_logarithmic_error: 0.0532 - val_loss: 0.1304 - val_mean_squared_logarithmic_error: 0.1304\n",
      "Epoch 58/100\n",
      "2402/2402 [==============================] - 13s 5ms/step - loss: 0.0534 - mean_squared_logarithmic_error: 0.0534 - val_loss: 0.1294 - val_mean_squared_logarithmic_error: 0.1294\n",
      "Epoch 59/100\n",
      "2402/2402 [==============================] - 13s 5ms/step - loss: 0.0535 - mean_squared_logarithmic_error: 0.0535 - val_loss: 0.1300 - val_mean_squared_logarithmic_error: 0.1300\n",
      "Epoch 60/100\n",
      "2402/2402 [==============================] - 13s 5ms/step - loss: 0.0532 - mean_squared_logarithmic_error: 0.0532 - val_loss: 0.1301 - val_mean_squared_logarithmic_error: 0.1301\n",
      "Epoch 61/100\n",
      "2402/2402 [==============================] - 13s 5ms/step - loss: 0.0534 - mean_squared_logarithmic_error: 0.0534 - val_loss: 0.1290 - val_mean_squared_logarithmic_error: 0.1290\n",
      "Epoch 62/100\n",
      "2402/2402 [==============================] - 13s 5ms/step - loss: 0.0533 - mean_squared_logarithmic_error: 0.0533 - val_loss: 0.1299 - val_mean_squared_logarithmic_error: 0.1299\n",
      "Epoch 63/100\n",
      "2402/2402 [==============================] - 14s 6ms/step - loss: 0.0533 - mean_squared_logarithmic_error: 0.0533 - val_loss: 0.1292 - val_mean_squared_logarithmic_error: 0.1292\n",
      "Epoch 64/100\n",
      "2402/2402 [==============================] - 13s 5ms/step - loss: 0.0533 - mean_squared_logarithmic_error: 0.0533 - val_loss: 0.1295 - val_mean_squared_logarithmic_error: 0.1295\n",
      "Epoch 65/100\n",
      "2402/2402 [==============================] - 13s 5ms/step - loss: 0.0531 - mean_squared_logarithmic_error: 0.0532 - val_loss: 0.1297 - val_mean_squared_logarithmic_error: 0.1297\n",
      "Epoch 66/100\n",
      "2402/2402 [==============================] - 13s 5ms/step - loss: 0.0531 - mean_squared_logarithmic_error: 0.0531 - val_loss: 0.1292 - val_mean_squared_logarithmic_error: 0.1292\n",
      "Epoch 67/100\n",
      "2402/2402 [==============================] - 13s 5ms/step - loss: 0.0530 - mean_squared_logarithmic_error: 0.0530 - val_loss: 0.1297 - val_mean_squared_logarithmic_error: 0.1297\n",
      "Epoch 68/100\n",
      "2402/2402 [==============================] - 13s 5ms/step - loss: 0.0531 - mean_squared_logarithmic_error: 0.0531 - val_loss: 0.1303 - val_mean_squared_logarithmic_error: 0.1303\n",
      "Epoch 69/100\n",
      "2402/2402 [==============================] - 13s 5ms/step - loss: 0.0533 - mean_squared_logarithmic_error: 0.0533 - val_loss: 0.1298 - val_mean_squared_logarithmic_error: 0.1298\n",
      "Epoch 70/100\n",
      "2402/2402 [==============================] - 13s 6ms/step - loss: 0.0531 - mean_squared_logarithmic_error: 0.0531 - val_loss: 0.1296 - val_mean_squared_logarithmic_error: 0.1296\n",
      "Epoch 71/100\n",
      "2402/2402 [==============================] - 13s 5ms/step - loss: 0.0531 - mean_squared_logarithmic_error: 0.0531 - val_loss: 0.1295 - val_mean_squared_logarithmic_error: 0.1295\n",
      "Epoch 72/100\n",
      "2402/2402 [==============================] - 13s 6ms/step - loss: 0.0533 - mean_squared_logarithmic_error: 0.0533 - val_loss: 0.1288 - val_mean_squared_logarithmic_error: 0.1288\n",
      "Epoch 73/100\n",
      "2402/2402 [==============================] - 13s 6ms/step - loss: 0.0534 - mean_squared_logarithmic_error: 0.0534 - val_loss: 0.1295 - val_mean_squared_logarithmic_error: 0.1295\n",
      "Epoch 74/100\n",
      "2402/2402 [==============================] - 13s 6ms/step - loss: 0.0533 - mean_squared_logarithmic_error: 0.0533 - val_loss: 0.1294 - val_mean_squared_logarithmic_error: 0.1294\n",
      "Epoch 75/100\n",
      "2402/2402 [==============================] - 13s 6ms/step - loss: 0.0531 - mean_squared_logarithmic_error: 0.0531 - val_loss: 0.1297 - val_mean_squared_logarithmic_error: 0.1297\n",
      "Epoch 76/100\n",
      "2402/2402 [==============================] - 14s 6ms/step - loss: 0.0532 - mean_squared_logarithmic_error: 0.0532 - val_loss: 0.1300 - val_mean_squared_logarithmic_error: 0.1300\n",
      "Epoch 77/100\n",
      "2402/2402 [==============================] - 14s 6ms/step - loss: 0.0531 - mean_squared_logarithmic_error: 0.0531 - val_loss: 0.1294 - val_mean_squared_logarithmic_error: 0.1294\n",
      "Epoch 78/100\n",
      "2402/2402 [==============================] - 14s 6ms/step - loss: 0.0532 - mean_squared_logarithmic_error: 0.0532 - val_loss: 0.1302 - val_mean_squared_logarithmic_error: 0.1302\n",
      "Epoch 79/100\n",
      "2402/2402 [==============================] - 13s 6ms/step - loss: 0.0531 - mean_squared_logarithmic_error: 0.0531 - val_loss: 0.1300 - val_mean_squared_logarithmic_error: 0.1300\n",
      "Epoch 80/100\n",
      "2402/2402 [==============================] - 13s 6ms/step - loss: 0.0534 - mean_squared_logarithmic_error: 0.0534 - val_loss: 0.1301 - val_mean_squared_logarithmic_error: 0.1301\n",
      "Epoch 81/100\n",
      "2402/2402 [==============================] - 14s 6ms/step - loss: 0.0533 - mean_squared_logarithmic_error: 0.0533 - val_loss: 0.1302 - val_mean_squared_logarithmic_error: 0.1302\n",
      "Epoch 82/100\n",
      "2402/2402 [==============================] - 14s 6ms/step - loss: 0.0532 - mean_squared_logarithmic_error: 0.0533 - val_loss: 0.1301 - val_mean_squared_logarithmic_error: 0.1301\n",
      "Epoch 83/100\n",
      "2402/2402 [==============================] - 14s 6ms/step - loss: 0.0529 - mean_squared_logarithmic_error: 0.0529 - val_loss: 0.1295 - val_mean_squared_logarithmic_error: 0.1295\n",
      "Epoch 84/100\n",
      "2402/2402 [==============================] - 14s 6ms/step - loss: 0.0532 - mean_squared_logarithmic_error: 0.0532 - val_loss: 0.1298 - val_mean_squared_logarithmic_error: 0.1298\n",
      "Epoch 85/100\n",
      "2402/2402 [==============================] - 14s 6ms/step - loss: 0.0531 - mean_squared_logarithmic_error: 0.0531 - val_loss: 0.1295 - val_mean_squared_logarithmic_error: 0.1295\n",
      "Epoch 86/100\n",
      "2402/2402 [==============================] - 13s 6ms/step - loss: 0.0530 - mean_squared_logarithmic_error: 0.0530 - val_loss: 0.1297 - val_mean_squared_logarithmic_error: 0.1297\n",
      "Epoch 87/100\n",
      "2402/2402 [==============================] - 14s 6ms/step - loss: 0.0531 - mean_squared_logarithmic_error: 0.0532 - val_loss: 0.1296 - val_mean_squared_logarithmic_error: 0.1296\n",
      "Epoch 88/100\n",
      "2402/2402 [==============================] - 14s 6ms/step - loss: 0.0530 - mean_squared_logarithmic_error: 0.0530 - val_loss: 0.1300 - val_mean_squared_logarithmic_error: 0.1300\n",
      "Epoch 89/100\n",
      "2402/2402 [==============================] - 13s 6ms/step - loss: 0.0532 - mean_squared_logarithmic_error: 0.0532 - val_loss: 0.1294 - val_mean_squared_logarithmic_error: 0.1294\n",
      "Epoch 90/100\n",
      "2402/2402 [==============================] - 14s 6ms/step - loss: 0.0532 - mean_squared_logarithmic_error: 0.0532 - val_loss: 0.1298 - val_mean_squared_logarithmic_error: 0.1298\n",
      "Epoch 91/100\n",
      "2402/2402 [==============================] - 14s 6ms/step - loss: 0.0531 - mean_squared_logarithmic_error: 0.0531 - val_loss: 0.1299 - val_mean_squared_logarithmic_error: 0.1299\n",
      "Epoch 92/100\n",
      "2402/2402 [==============================] - 14s 6ms/step - loss: 0.0529 - mean_squared_logarithmic_error: 0.0529 - val_loss: 0.1303 - val_mean_squared_logarithmic_error: 0.1303\n",
      "Epoch 93/100\n",
      "2402/2402 [==============================] - 14s 6ms/step - loss: 0.0530 - mean_squared_logarithmic_error: 0.0530 - val_loss: 0.1299 - val_mean_squared_logarithmic_error: 0.1299\n",
      "Epoch 94/100\n",
      "2402/2402 [==============================] - 14s 6ms/step - loss: 0.0531 - mean_squared_logarithmic_error: 0.0531 - val_loss: 0.1300 - val_mean_squared_logarithmic_error: 0.1300\n",
      "Epoch 95/100\n",
      "2402/2402 [==============================] - 14s 6ms/step - loss: 0.0532 - mean_squared_logarithmic_error: 0.0532 - val_loss: 0.1296 - val_mean_squared_logarithmic_error: 0.1296\n",
      "Epoch 96/100\n",
      "2402/2402 [==============================] - 14s 6ms/step - loss: 0.0529 - mean_squared_logarithmic_error: 0.0529 - val_loss: 0.1298 - val_mean_squared_logarithmic_error: 0.1298\n",
      "Epoch 97/100\n",
      "2402/2402 [==============================] - 14s 6ms/step - loss: 0.0531 - mean_squared_logarithmic_error: 0.0531 - val_loss: 0.1290 - val_mean_squared_logarithmic_error: 0.1290\n",
      "Epoch 98/100\n",
      "2402/2402 [==============================] - 14s 6ms/step - loss: 0.0531 - mean_squared_logarithmic_error: 0.0531 - val_loss: 0.1298 - val_mean_squared_logarithmic_error: 0.1298\n",
      "Epoch 99/100\n",
      "2402/2402 [==============================] - 14s 6ms/step - loss: 0.0529 - mean_squared_logarithmic_error: 0.0529 - val_loss: 0.1296 - val_mean_squared_logarithmic_error: 0.1296\n",
      "Epoch 100/100\n",
      "2402/2402 [==============================] - 15s 6ms/step - loss: 0.0531 - mean_squared_logarithmic_error: 0.0531 - val_loss: 0.1298 - val_mean_squared_logarithmic_error: 0.1298\n"
     ]
    }
   ],
   "source": [
    "# loss function\n",
    "msle = MeanSquaredLogarithmicError()\n",
    "model.compile(\n",
    "    loss=msle, \n",
    "    optimizer=Adagrad(learning_rate=learning_rate), \n",
    "    metrics=[msle]\n",
    ")\n",
    "# train the model\n",
    "history6 = model.fit(\n",
    "    X_train, \n",
    "    y_train.values, \n",
    "    epochs=100, \n",
    "    batch_size=64,\n",
    "    validation_split=0.2\n",
    ")"
   ]
  },
  {
   "cell_type": "code",
   "execution_count": 96,
   "id": "d9f1069f",
   "metadata": {
    "colab": {
     "base_uri": "https://localhost:8080/",
     "height": 295
    },
    "id": "d9f1069f",
    "outputId": "c3b631ab-1823-4584-dc26-fffb4ad8be73"
   },
   "outputs": [
    {
     "data": {
      "image/png": "[encoded data removed]",
      "text/plain": [
       "<Figure size 432x288 with 1 Axes>"
      ]
     },
     "metadata": {
      "needs_background": "light"
     },
     "output_type": "display_data"
    }
   ],
   "source": [
    "plot_history(history6, 'loss', 'Loss for Adagrad')"
   ]
  },
  {
   "cell_type": "code",
   "execution_count": 97,
   "id": "61c7b7ac",
   "metadata": {
    "id": "61c7b7ac"
   },
   "outputs": [],
   "source": [
    "y_pred_Ag=model.predict(X_test)"
   ]
  },
  {
   "cell_type": "code",
   "execution_count": 98,
   "id": "a03beddd",
   "metadata": {
    "colab": {
     "base_uri": "https://localhost:8080/"
    },
    "id": "a03beddd",
    "outputId": "12c2dac6-ab9d-4882-957c-e838aeec82ef"
   },
   "outputs": [
    {
     "name": "stdout",
     "output_type": "stream",
     "text": [
      "Accuracy obtained by AdaGrad  0.7759631293976956\n"
     ]
    }
   ],
   "source": [
    "r_Ag = r2_score(y_test, y_pred_Ag)\n",
    "print('Accuracy obtained by AdaGrad ', r_Ag)"
   ]
  },
  {
   "cell_type": "markdown",
   "id": "598c4f17",
   "metadata": {
    "id": "598c4f17"
   },
   "source": [
    "## Comparing the optimizers "
   ]
  },
  {
   "cell_type": "code",
   "execution_count": 99,
   "id": "ea53b2a0",
   "metadata": {
    "colab": {
     "base_uri": "https://localhost:8080/",
     "height": 237
    },
    "id": "ea53b2a0",
    "outputId": "efad2a56-53b4-4237-dd9c-48a1d835740c"
   },
   "outputs": [
    {
     "data": {
      "text/html": [
       "\n",
       "  <div id=\"df-7756f3ef-d797-4f6f-8e72-333d0990f6e2\">\n",
       "    <div class=\"colab-df-container\">\n",
       "      <div>\n",
       "<style scoped>\n",
       "    .dataframe tbody tr th:only-of-type {\n",
       "        vertical-align: middle;\n",
       "    }\n",
       "\n",
       "    .dataframe tbody tr th {\n",
       "        vertical-align: top;\n",
       "    }\n",
       "\n",
       "    .dataframe thead th {\n",
       "        text-align: right;\n",
       "    }\n",
       "</style>\n",
       "<table border=\"1\" class=\"dataframe\">\n",
       "  <thead>\n",
       "    <tr style=\"text-align: right;\">\n",
       "      <th></th>\n",
       "      <th>Optimizers</th>\n",
       "      <th>Accuracy</th>\n",
       "    </tr>\n",
       "  </thead>\n",
       "  <tbody>\n",
       "    <tr>\n",
       "      <th>0</th>\n",
       "      <td>SGD</td>\n",
       "      <td>0.928910</td>\n",
       "    </tr>\n",
       "    <tr>\n",
       "      <th>1</th>\n",
       "      <td>SGD_MINIBATCH</td>\n",
       "      <td>0.932028</td>\n",
       "    </tr>\n",
       "    <tr>\n",
       "      <th>2</th>\n",
       "      <td>SGD_MOMENTUM</td>\n",
       "      <td>0.932627</td>\n",
       "    </tr>\n",
       "    <tr>\n",
       "      <th>3</th>\n",
       "      <td>RMS_PROP</td>\n",
       "      <td>0.811986</td>\n",
       "    </tr>\n",
       "    <tr>\n",
       "      <th>4</th>\n",
       "      <td>ADAM</td>\n",
       "      <td>0.771606</td>\n",
       "    </tr>\n",
       "    <tr>\n",
       "      <th>5</th>\n",
       "      <td>ADAGRAD</td>\n",
       "      <td>0.775963</td>\n",
       "    </tr>\n",
       "  </tbody>\n",
       "</table>\n",
       "</div>\n",
       "      <button class=\"colab-df-convert\" onclick=\"convertToInteractive('df-7756f3ef-d797-4f6f-8e72-333d0990f6e2')\"\n",
       "              title=\"Convert this dataframe to an interactive table.\"\n",
       "              style=\"display:none;\">\n",
       "        \n",
       "  <svg xmlns=\"http://www.w3.org/2000/svg\" height=\"24px\"viewBox=\"0 0 24 24\"\n",
       "       width=\"24px\">\n",
       "    <path d=\"M0 0h24v24H0V0z\" fill=\"none\"/>\n",
       "    <path d=\"M18.56 5.44l.94 2.06.94-2.06 2.06-.94-2.06-.94-.94-2.06-.94 2.06-2.06.94zm-11 1L8.5 8.5l.94-2.06 2.06-.94-2.06-.94L8.5 2.5l-.94 2.06-2.06.94zm10 10l.94 2.06.94-2.06 2.06-.94-2.06-.94-.94-2.06-.94 2.06-2.06.94z\"/><path d=\"M17.41 7.96l-1.37-1.37c-.4-.4-.92-.59-1.43-.59-.52 0-1.04.2-1.43.59L10.3 9.45l-7.72 7.72c-.78.78-.78 2.05 0 2.83L4 21.41c.39.39.9.59 1.41.59.51 0 1.02-.2 1.41-.59l7.78-7.78 2.81-2.81c.8-.78.8-2.07 0-2.86zM5.41 20L4 18.59l7.72-7.72 1.47 1.35L5.41 20z\"/>\n",
       "  </svg>\n",
       "      </button>\n",
       "      \n",
       "  <style>\n",
       "    .colab-df-container {\n",
       "      display:flex;\n",
       "      flex-wrap:wrap;\n",
       "      gap: 12px;\n",
       "    }\n",
       "\n",
       "    .colab-df-convert {\n",
       "      background-color: #E8F0FE;\n",
       "      border: none;\n",
       "      border-radius: 50%;\n",
       "      cursor: pointer;\n",
       "      display: none;\n",
       "      fill: #1967D2;\n",
       "      height: 32px;\n",
       "      padding: 0 0 0 0;\n",
       "      width: 32px;\n",
       "    }\n",
       "\n",
       "    .colab-df-convert:hover {\n",
       "      background-color: #E2EBFA;\n",
       "      box-shadow: 0px 1px 2px rgba(60, 64, 67, 0.3), 0px 1px 3px 1px rgba(60, 64, 67, 0.15);\n",
       "      fill: #174EA6;\n",
       "    }\n",
       "\n",
       "    [theme=dark] .colab-df-convert {\n",
       "      background-color: #3B4455;\n",
       "      fill: #D2E3FC;\n",
       "    }\n",
       "\n",
       "    [theme=dark] .colab-df-convert:hover {\n",
       "      background-color: #434B5C;\n",
       "      box-shadow: 0px 1px 3px 1px rgba(0, 0, 0, 0.15);\n",
       "      filter: drop-shadow(0px 1px 2px rgba(0, 0, 0, 0.3));\n",
       "      fill: #FFFFFF;\n",
       "    }\n",
       "  </style>\n",
       "\n",
       "      <script>\n",
       "        const buttonEl =\n",
       "          document.querySelector('#df-7756f3ef-d797-4f6f-8e72-333d0990f6e2 button.colab-df-convert');\n",
       "        buttonEl.style.display =\n",
       "          google.colab.kernel.accessAllowed ? 'block' : 'none';\n",
       "\n",
       "        async function convertToInteractive(key) {\n",
       "          const element = document.querySelector('#df-7756f3ef-d797-4f6f-8e72-333d0990f6e2');\n",
       "          const dataTable =\n",
       "            await google.colab.kernel.invokeFunction('convertToInteractive',\n",
       "                                                     [key], {});\n",
       "          if (!dataTable) return;\n",
       "\n",
       "          const docLinkHtml = 'Like what you see? Visit the ' +\n",
       "            '<a target=\"_blank\" href=https://colab.research.google.com/notebooks/data_table.ipynb>data table notebook</a>'\n",
       "            + ' to learn more about interactive tables.';\n",
       "          element.innerHTML = '';\n",
       "          dataTable['output_type'] = 'display_data';\n",
       "          await google.colab.output.renderOutput(dataTable, element);\n",
       "          const docLink = document.createElement('div');\n",
       "          docLink.innerHTML = docLinkHtml;\n",
       "          element.appendChild(docLink);\n",
       "        }\n",
       "      </script>\n",
       "    </div>\n",
       "  </div>\n",
       "  "
      ],
      "text/plain": [
       "      Optimizers  Accuracy\n",
       "0            SGD  0.928910\n",
       "1  SGD_MINIBATCH  0.932028\n",
       "2   SGD_MOMENTUM  0.932627\n",
       "3       RMS_PROP  0.811986\n",
       "4           ADAM  0.771606\n",
       "5        ADAGRAD  0.775963"
      ]
     },
     "execution_count": 99,
     "metadata": {},
     "output_type": "execute_result"
    }
   ],
   "source": [
    "pd.DataFrame({'Optimizers':['SGD','SGD_MINIBATCH','SGD_MOMENTUM','RMS_PROP','ADAM','ADAGRAD'],\n",
    "              'Accuracy':[r_SGD,r_SGD_MB,r_SGD_N,r_RM,r_A,r_Ag]})"
   ]
  },
  {
   "cell_type": "markdown",
   "id": "9b01bc43",
   "metadata": {
    "id": "2CRUe2vttDrA"
   },
   "source": [
    "### From the above results we can see that the SGD gives an accuracy of 92%.\n",
    "\n",
    "### Among SGD variants minibatch and momentum works better as for minibatching the batch size was increased and for momentum as it has information on it's past direction.\n",
    "\n",
    "### For Adagrad the performance is low as its requires a larger number of epochs as the learning rate decreases for each iteration. It can be improved by increasing the number of epochs."
   ]
  }
 ],
 "metadata": {
  "colab": {
   "collapsed_sections": [
    "4bb33df5",
    "bf25cbfe",
    "9c2bae93",
    "e0bc93ec",
    "1ced0392",
    "4ec007af",
    "57fde41e",
    "6e056297",
    "c4dfc9a0",
    "8db97475",
    "99b4947f",
    "38dcdb17"
   ],
   "name": "Arnab_Dutta_Choudhury(CDS_FINAL).ipynb",
   "provenance": []
  },
  "kernelspec": {
   "display_name": "Python 3",
   "language": "python",
   "name": "python3"
  },
  "language_info": {
   "codemirror_mode": {
    "name": "ipython",
    "version": 3
   },
   "file_extension": ".py",
   "mimetype": "text/x-python",
   "name": "python",
   "nbconvert_exporter": "python",
   "pygments_lexer": "ipython3",
   "version": "3.8.8"
  }
 },
 "nbformat": 4,
 "nbformat_minor": 5
}
